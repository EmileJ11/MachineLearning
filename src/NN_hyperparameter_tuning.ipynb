{
 "cells": [
  {
   "cell_type": "code",
   "execution_count": 17,
   "metadata": {},
   "outputs": [],
   "source": [
    "import pandas as pd\n",
    "import tensorflow as tf\n",
    "\n",
    "from sklearn.model_selection import GridSearchCV\n",
    "from sklearn.neural_network import MLPRegressor\n",
    "from sklearn.pipeline import Pipeline\n",
    "from sklearn.preprocessing import StandardScaler\n",
    "\n",
    "%matplotlib widget\n",
    "\n",
    "import logging\n",
    "logging.getLogger(\"tensorflow\").setLevel(logging.ERROR)\n",
    "tf.autograph.set_verbosity(0)"
   ]
  },
  {
   "cell_type": "code",
   "execution_count": 18,
   "metadata": {},
   "outputs": [],
   "source": [
    "df = pd.read_csv(\"../archive/song_data.csv\")\n",
    "df.drop_duplicates(subset='song_name', keep='first', inplace=True)\n",
    "df = df.drop('song_name', axis=1)\n",
    "df = df.drop('loudness', axis=1)"
   ]
  },
  {
   "cell_type": "code",
   "execution_count": 19,
   "metadata": {},
   "outputs": [],
   "source": [
    "X, y = df.drop('song_popularity',axis=1).to_numpy(), df['song_popularity'].to_numpy()"
   ]
  },
  {
   "cell_type": "code",
   "execution_count": 20,
   "metadata": {},
   "outputs": [
    {
     "data": {
      "text/plain": [
       "array([[2.62333e+05, 5.52000e-03, 4.96000e-01, ..., 1.67060e+02,\n",
       "        4.00000e+00, 4.74000e-01],\n",
       "       [2.16933e+05, 1.03000e-02, 5.42000e-01, ..., 1.05256e+02,\n",
       "        4.00000e+00, 3.70000e-01],\n",
       "       [2.31733e+05, 8.17000e-03, 7.37000e-01, ..., 1.23881e+02,\n",
       "        4.00000e+00, 3.24000e-01],\n",
       "       ...,\n",
       "       [1.82211e+05, 8.47000e-01, 7.19000e-01, ..., 1.30534e+02,\n",
       "        4.00000e+00, 2.86000e-01],\n",
       "       [3.52280e+05, 9.45000e-01, 4.88000e-01, ..., 1.06063e+02,\n",
       "        4.00000e+00, 3.23000e-01],\n",
       "       [1.93533e+05, 9.11000e-01, 6.40000e-01, ..., 9.14900e+01,\n",
       "        4.00000e+00, 5.81000e-01]])"
      ]
     },
     "execution_count": 20,
     "metadata": {},
     "output_type": "execute_result"
    }
   ],
   "source": [
    "X"
   ]
  },
  {
   "cell_type": "code",
   "execution_count": null,
   "metadata": {},
   "outputs": [],
   "source": [
    "my_regression_pipeline = Pipeline(steps=[\n",
    "    ('scaler', StandardScaler()),\n",
    "    ('model', MLPRegressor(max_iter=500, random_state=0)) # Hidden layers are by default relu, output layer activation function is 'identity' -> linear\n",
    "])\n",
    "\n",
    "param_grid = {\n",
    "    'model__hidden_layer_sizes': [(100,50,20), (50, 10, 5, 2), (200, 100, 50, 20), (400,200,100,50)],\n",
    "    'model__alpha': [0.01, 0.03, 0.1, 0.3, 1.0],\n",
    "    'model__learning_rate_init': [0.0001, 0.0003, 0.001, 0.003, 0.01],\n",
    "}\n",
    "\n",
    "grid_search = GridSearchCV(my_regression_pipeline, param_grid, cv=5, scoring='neg_mean_squared_error')\n",
    "\n",
    "grid_search.fit(X, y)\n",
    "\n",
    "print(\"Best Hyperparameters:\", grid_search.best_params_)"
   ]
  },
  {
   "cell_type": "code",
   "execution_count": null,
   "metadata": {},
   "outputs": [
    {
     "name": "stdout",
     "output_type": "stream",
     "text": [
      "Mean Test Scores:\n",
      "[ -474.72847263  -449.51045212  -333.21603511  -408.92334481\n",
      "  -408.74037342 -2805.00908219 -2308.57411347 -1327.93130929\n",
      "  -408.72851462  -409.28575271 -2776.98057589 -2777.49357265\n",
      " -1722.79401305  -574.11375972  -409.23270699 -2722.31138159\n",
      " -2721.69952241 -1389.62341844  -416.39033517  -408.70941919\n",
      "  -472.69760537  -449.47563933  -333.18816302  -794.98705574\n",
      "  -486.84932879 -2805.00908219 -1153.99393667  -114.45155788\n",
      "  -317.12512304  -409.28582725 -2781.8945221  -2783.16503046\n",
      " -2783.69339234 -1475.63898668  -409.23384023 -2722.31138159\n",
      " -2721.69952241 -1389.62329449  -416.39025595  -408.70941093\n",
      "  -472.69882155  -449.47697496  -333.21123105  -778.51948647\n",
      "  -486.81488433 -2805.00908219 -1092.84352962  -463.29611886\n",
      "  -278.63808279  -409.28585772 -2781.89448257 -2783.16507252\n",
      " -2783.69996382 -1874.50292654  -409.23402582 -2722.31138159\n",
      " -2721.69952241 -1389.62329452  -416.38366045  -408.7087516\n",
      "  -472.70178131  -449.47829943  -333.19726172  -735.86233417\n",
      "  -510.17585298 -2805.00908219 -1177.19834285  -239.40183306\n",
      "  -277.5820778   -409.28587668 -2781.89470026 -2783.16508707\n",
      " -2784.06890977 -2249.65660182  -409.23405517 -2722.31138161\n",
      " -2721.69952241 -1389.62329454  -416.39025919  -408.70871923\n",
      "  -472.69951298  -449.51455622  -333.22675227  -732.6659688\n",
      "  -510.15859873 -2805.00908219 -1176.25987092  -353.61096855\n",
      "  -175.11961809  -409.28588238 -2781.89480916 -2783.16509077\n",
      " -2784.06891036 -2266.9052555   -409.23406342 -2722.31138166\n",
      " -2721.69952241 -1389.62328819  -416.43224562  -408.70872489\n",
      "  -472.68869058  -449.47570136  -333.22427685  -648.15098294\n",
      "  -510.15739876 -2805.00908219 -1176.47356857  -458.96951808\n",
      "  -181.22167761  -409.28588327 -2781.89456668 -2783.16509\n",
      " -2784.0688351   -574.00657038  -409.2340663  -2722.31138183\n",
      " -2721.69952243 -1389.62326085  -416.39047678  -408.70871272]\n",
      "\n",
      "Best Hyperparameters Index: 27\n",
      "\n",
      "Average Performance of Best Hyperparameters: -114.45155787963566\n"
     ]
    }
   ],
   "source": [
    "print(\"Mean Test Scores:\")\n",
    "print(grid_search.cv_results_['mean_test_score'])\n",
    "\n",
    "best_index = grid_search.best_index_\n",
    "print(f\"\\nBest Hyperparameters Index: {best_index}\")\n",
    "\n",
    "print(f\"\\nAverage Performance of Best Hyperparameters: {grid_search.cv_results_['mean_test_score'][best_index]}\")"
   ]
  }
 ],
 "metadata": {
  "kernelspec": {
   "display_name": "base",
   "language": "python",
   "name": "python3"
  },
  "language_info": {
   "codemirror_mode": {
    "name": "ipython",
    "version": 3
   },
   "file_extension": ".py",
   "mimetype": "text/x-python",
   "name": "python",
   "nbconvert_exporter": "python",
   "pygments_lexer": "ipython3",
   "version": "3.11.5"
  }
 },
 "nbformat": 4,
 "nbformat_minor": 2
}
