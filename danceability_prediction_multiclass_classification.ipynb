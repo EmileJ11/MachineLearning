{
 "cells": [
  {
   "cell_type": "markdown",
   "metadata": {},
   "source": [
    "# Multiclass classification prediction for popularity of a song"
   ]
  },
  {
   "cell_type": "markdown",
   "metadata": {},
   "source": [
    "Import all the packages"
   ]
  },
  {
   "cell_type": "code",
   "execution_count": 65,
   "metadata": {},
   "outputs": [],
   "source": [
    "import numpy as np\n",
    "import pandas as pd\n",
    "import tensorflow as tf\n",
    "from tensorflow.keras.models import Sequential\n",
    "from tensorflow.keras.layers import Dense\n",
    "from tensorflow.keras.activations import linear, relu, softmax\n",
    "\n",
    "%matplotlib widget\n",
    "import matplotlib.pyplot as plt\n",
    "\n",
    "import logging\n",
    "logging.getLogger(\"tensorflow\").setLevel(logging.ERROR)\n",
    "tf.autograph.set_verbosity(0)"
   ]
  },
  {
   "cell_type": "markdown",
   "metadata": {},
   "source": [
    "## Import data"
   ]
  },
  {
   "cell_type": "code",
   "execution_count": 66,
   "metadata": {},
   "outputs": [
    {
     "data": {
      "text/html": [
       "<div>\n",
       "<style scoped>\n",
       "    .dataframe tbody tr th:only-of-type {\n",
       "        vertical-align: middle;\n",
       "    }\n",
       "\n",
       "    .dataframe tbody tr th {\n",
       "        vertical-align: top;\n",
       "    }\n",
       "\n",
       "    .dataframe thead th {\n",
       "        text-align: right;\n",
       "    }\n",
       "</style>\n",
       "<table border=\"1\" class=\"dataframe\">\n",
       "  <thead>\n",
       "    <tr style=\"text-align: right;\">\n",
       "      <th></th>\n",
       "      <th>track_artist</th>\n",
       "      <th>track_popularity</th>\n",
       "      <th>track_album_release_date</th>\n",
       "      <th>playlist_genre</th>\n",
       "      <th>playlist_subgenre</th>\n",
       "      <th>danceability</th>\n",
       "      <th>energy</th>\n",
       "      <th>key</th>\n",
       "      <th>loudness</th>\n",
       "      <th>mode</th>\n",
       "      <th>speechiness</th>\n",
       "      <th>acousticness</th>\n",
       "      <th>instrumentalness</th>\n",
       "      <th>liveness</th>\n",
       "      <th>valence</th>\n",
       "      <th>tempo</th>\n",
       "      <th>duration_ms</th>\n",
       "    </tr>\n",
       "  </thead>\n",
       "  <tbody>\n",
       "    <tr>\n",
       "      <th>0</th>\n",
       "      <td>Ed Sheeran</td>\n",
       "      <td>66</td>\n",
       "      <td>2019-06-14</td>\n",
       "      <td>pop</td>\n",
       "      <td>dance pop</td>\n",
       "      <td>0.748</td>\n",
       "      <td>0.916</td>\n",
       "      <td>6</td>\n",
       "      <td>-2.634</td>\n",
       "      <td>1</td>\n",
       "      <td>0.0583</td>\n",
       "      <td>0.1020</td>\n",
       "      <td>0.000000</td>\n",
       "      <td>0.0653</td>\n",
       "      <td>0.518</td>\n",
       "      <td>122.036</td>\n",
       "      <td>194754</td>\n",
       "    </tr>\n",
       "    <tr>\n",
       "      <th>1</th>\n",
       "      <td>Maroon 5</td>\n",
       "      <td>67</td>\n",
       "      <td>2019-12-13</td>\n",
       "      <td>pop</td>\n",
       "      <td>dance pop</td>\n",
       "      <td>0.726</td>\n",
       "      <td>0.815</td>\n",
       "      <td>11</td>\n",
       "      <td>-4.969</td>\n",
       "      <td>1</td>\n",
       "      <td>0.0373</td>\n",
       "      <td>0.0724</td>\n",
       "      <td>0.004210</td>\n",
       "      <td>0.3570</td>\n",
       "      <td>0.693</td>\n",
       "      <td>99.972</td>\n",
       "      <td>162600</td>\n",
       "    </tr>\n",
       "    <tr>\n",
       "      <th>2</th>\n",
       "      <td>Zara Larsson</td>\n",
       "      <td>70</td>\n",
       "      <td>2019-07-05</td>\n",
       "      <td>pop</td>\n",
       "      <td>dance pop</td>\n",
       "      <td>0.675</td>\n",
       "      <td>0.931</td>\n",
       "      <td>1</td>\n",
       "      <td>-3.432</td>\n",
       "      <td>0</td>\n",
       "      <td>0.0742</td>\n",
       "      <td>0.0794</td>\n",
       "      <td>0.000023</td>\n",
       "      <td>0.1100</td>\n",
       "      <td>0.613</td>\n",
       "      <td>124.008</td>\n",
       "      <td>176616</td>\n",
       "    </tr>\n",
       "    <tr>\n",
       "      <th>3</th>\n",
       "      <td>The Chainsmokers</td>\n",
       "      <td>60</td>\n",
       "      <td>2019-07-19</td>\n",
       "      <td>pop</td>\n",
       "      <td>dance pop</td>\n",
       "      <td>0.718</td>\n",
       "      <td>0.930</td>\n",
       "      <td>7</td>\n",
       "      <td>-3.778</td>\n",
       "      <td>1</td>\n",
       "      <td>0.1020</td>\n",
       "      <td>0.0287</td>\n",
       "      <td>0.000009</td>\n",
       "      <td>0.2040</td>\n",
       "      <td>0.277</td>\n",
       "      <td>121.956</td>\n",
       "      <td>169093</td>\n",
       "    </tr>\n",
       "    <tr>\n",
       "      <th>4</th>\n",
       "      <td>Lewis Capaldi</td>\n",
       "      <td>69</td>\n",
       "      <td>2019-03-05</td>\n",
       "      <td>pop</td>\n",
       "      <td>dance pop</td>\n",
       "      <td>0.650</td>\n",
       "      <td>0.833</td>\n",
       "      <td>1</td>\n",
       "      <td>-4.672</td>\n",
       "      <td>1</td>\n",
       "      <td>0.0359</td>\n",
       "      <td>0.0803</td>\n",
       "      <td>0.000000</td>\n",
       "      <td>0.0833</td>\n",
       "      <td>0.725</td>\n",
       "      <td>123.976</td>\n",
       "      <td>189052</td>\n",
       "    </tr>\n",
       "  </tbody>\n",
       "</table>\n",
       "</div>"
      ],
      "text/plain": [
       "       track_artist  track_popularity track_album_release_date playlist_genre  \\\n",
       "0        Ed Sheeran                66               2019-06-14            pop   \n",
       "1          Maroon 5                67               2019-12-13            pop   \n",
       "2      Zara Larsson                70               2019-07-05            pop   \n",
       "3  The Chainsmokers                60               2019-07-19            pop   \n",
       "4     Lewis Capaldi                69               2019-03-05            pop   \n",
       "\n",
       "  playlist_subgenre  danceability  energy  key  loudness  mode  speechiness  \\\n",
       "0         dance pop         0.748   0.916    6    -2.634     1       0.0583   \n",
       "1         dance pop         0.726   0.815   11    -4.969     1       0.0373   \n",
       "2         dance pop         0.675   0.931    1    -3.432     0       0.0742   \n",
       "3         dance pop         0.718   0.930    7    -3.778     1       0.1020   \n",
       "4         dance pop         0.650   0.833    1    -4.672     1       0.0359   \n",
       "\n",
       "   acousticness  instrumentalness  liveness  valence    tempo  duration_ms  \n",
       "0        0.1020          0.000000    0.0653    0.518  122.036       194754  \n",
       "1        0.0724          0.004210    0.3570    0.693   99.972       162600  \n",
       "2        0.0794          0.000023    0.1100    0.613  124.008       176616  \n",
       "3        0.0287          0.000009    0.2040    0.277  121.956       169093  \n",
       "4        0.0803          0.000000    0.0833    0.725  123.976       189052  "
      ]
     },
     "execution_count": 66,
     "metadata": {},
     "output_type": "execute_result"
    }
   ],
   "source": [
    "df = pd.read_csv(\"spotify_data/spotify_songs.csv\")\n",
    "\n",
    "df = df.drop(['track_id','track_name','track_album_id','track_album_name','playlist_id','playlist_name'], axis= 1 ) # These features are not needed for prediction\n",
    "df.head()"
   ]
  },
  {
   "cell_type": "code",
   "execution_count": 67,
   "metadata": {},
   "outputs": [
    {
     "data": {
      "text/plain": [
       "(32833, 17)"
      ]
     },
     "execution_count": 67,
     "metadata": {},
     "output_type": "execute_result"
    }
   ],
   "source": [
    "df.shape"
   ]
  },
  {
   "cell_type": "code",
   "execution_count": 68,
   "metadata": {},
   "outputs": [
    {
     "data": {
      "application/vnd.jupyter.widget-view+json": {
       "model_id": "a5f3803d2a4f47d0a033d69b7035b0ae",
       "version_major": 2,
       "version_minor": 0
      },
      "image/png": "[encoded data removed]",
      "text/html": [
       "\n",
       "            <div style=\"display: inline-block;\">\n",
       "                <div class=\"jupyter-widgets widget-label\" style=\"text-align: center;\">\n",
       "                    Figure\n",
       "                </div>\n",
       "                <img src='data:image/png;base64,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' width=1000.0/>\n",
       "            </div>\n",
       "        "
      ],
      "text/plain": [
       "Canvas(toolbar=Toolbar(toolitems=[('Home', 'Reset original view', 'home', 'home'), ('Back', 'Back to previous …"
      ]
     },
     "metadata": {},
     "output_type": "display_data"
    }
   ],
   "source": [
    "# Plot the distribution of track_popularity\n",
    "plt.figure(figsize=(10,6))\n",
    "plt.hist(df['danceability'], bins=50, color='blue', edgecolor='black')\n",
    "plt.title('Distribution of Danceability')\n",
    "plt.xlabel('Track danceablitiy')\n",
    "plt.ylabel('Amount')\n",
    "plt.grid(True)\n",
    "plt.show()"
   ]
  },
  {
   "cell_type": "markdown",
   "metadata": {},
   "source": [
    "### Checking for null or NaN values"
   ]
  },
  {
   "cell_type": "code",
   "execution_count": 69,
   "metadata": {},
   "outputs": [
    {
     "data": {
      "text/plain": [
       "False"
      ]
     },
     "execution_count": 69,
     "metadata": {},
     "output_type": "execute_result"
    }
   ],
   "source": [
    "missing_danceability = df['danceability'].isnull().any()\n",
    "\n",
    "missing_danceability"
   ]
  },
  {
   "cell_type": "code",
   "execution_count": 70,
   "metadata": {},
   "outputs": [
    {
     "name": "stdout",
     "output_type": "stream",
     "text": [
      "<class 'pandas.core.frame.DataFrame'>\n",
      "RangeIndex: 32833 entries, 0 to 32832\n",
      "Data columns (total 17 columns):\n",
      " #   Column                    Non-Null Count  Dtype  \n",
      "---  ------                    --------------  -----  \n",
      " 0   track_artist              32828 non-null  object \n",
      " 1   track_popularity          32833 non-null  int64  \n",
      " 2   track_album_release_date  32833 non-null  object \n",
      " 3   playlist_genre            32833 non-null  object \n",
      " 4   playlist_subgenre         32833 non-null  object \n",
      " 5   danceability              32833 non-null  float64\n",
      " 6   energy                    32833 non-null  float64\n",
      " 7   key                       32833 non-null  int64  \n",
      " 8   loudness                  32833 non-null  float64\n",
      " 9   mode                      32833 non-null  int64  \n",
      " 10  speechiness               32833 non-null  float64\n",
      " 11  acousticness              32833 non-null  float64\n",
      " 12  instrumentalness          32833 non-null  float64\n",
      " 13  liveness                  32833 non-null  float64\n",
      " 14  valence                   32833 non-null  float64\n",
      " 15  tempo                     32833 non-null  float64\n",
      " 16  duration_ms               32833 non-null  int64  \n",
      "dtypes: float64(9), int64(4), object(4)\n",
      "memory usage: 4.3+ MB\n"
     ]
    }
   ],
   "source": [
    "df.info()"
   ]
  },
  {
   "cell_type": "markdown",
   "metadata": {},
   "source": [
    "## Divide track_popularity in classes(labels)"
   ]
  },
  {
   "cell_type": "code",
   "execution_count": 71,
   "metadata": {},
   "outputs": [],
   "source": [
    "# Define the bin edges and labels\n",
    "bin_edges = [0, 0.6, 0.8, 1]\n",
    "bin_labels = [0, 1, 2] # ['Trash', 'Flop', 'Average', 'Hit', 'Monsterhit']\n",
    "\n",
    "# Create a new column 'popularity_label' based on the bins\n",
    "df['danceability'] = pd.cut(df['danceability'], bins=bin_edges, labels=bin_labels, include_lowest=True)\n",
    "df['track_danceability_label'] = df['danceability']"
   ]
  },
  {
   "cell_type": "code",
   "execution_count": 72,
   "metadata": {},
   "outputs": [],
   "source": [
    "df = df.drop(['danceability'],axis=1)"
   ]
  },
  {
   "cell_type": "markdown",
   "metadata": {},
   "source": [
    "## Change release date to release year + scale duration to seconds"
   ]
  },
  {
   "cell_type": "markdown",
   "metadata": {},
   "source": [
    "make df['release_year'] a new column that stores the first 4 characters of df['track_album_release_date'] which is of Object type df['release_year'] = df['track_album_release_date'].astype(str).str[0:4].astype(int)"
   ]
  },
  {
   "cell_type": "code",
   "execution_count": 73,
   "metadata": {},
   "outputs": [],
   "source": [
    "# Release date to years\n",
    "df['track_album_release_date'] = pd.to_datetime(df['track_album_release_date'], errors='coerce')\n",
    "df['release_year'] = (df['track_album_release_date'].dt.year)\n",
    "\n",
    "df = df.drop(['track_album_release_date'], axis=1)"
   ]
  },
  {
   "cell_type": "code",
   "execution_count": 74,
   "metadata": {},
   "outputs": [
    {
     "name": "stdout",
     "output_type": "stream",
     "text": [
      "<class 'pandas.core.frame.DataFrame'>\n",
      "Int64Index: 32828 entries, 0 to 32832\n",
      "Data columns (total 17 columns):\n",
      " #   Column                    Non-Null Count  Dtype   \n",
      "---  ------                    --------------  -----   \n",
      " 0   track_artist              32828 non-null  object  \n",
      " 1   track_popularity          32828 non-null  int64   \n",
      " 2   playlist_genre            32828 non-null  object  \n",
      " 3   playlist_subgenre         32828 non-null  object  \n",
      " 4   energy                    32828 non-null  float64 \n",
      " 5   key                       32828 non-null  int64   \n",
      " 6   loudness                  32828 non-null  float64 \n",
      " 7   mode                      32828 non-null  int64   \n",
      " 8   speechiness               32828 non-null  float64 \n",
      " 9   acousticness              32828 non-null  float64 \n",
      " 10  instrumentalness          32828 non-null  float64 \n",
      " 11  liveness                  32828 non-null  float64 \n",
      " 12  valence                   32828 non-null  float64 \n",
      " 13  tempo                     32828 non-null  float64 \n",
      " 14  duration_ms               32828 non-null  int64   \n",
      " 15  track_danceability_label  32828 non-null  category\n",
      " 16  release_year              32828 non-null  int64   \n",
      "dtypes: category(1), float64(8), int64(5), object(3)\n",
      "memory usage: 4.3+ MB\n"
     ]
    }
   ],
   "source": [
    "# Drop rows with missing values\n",
    "df.dropna(inplace=True)\n",
    "df.info()"
   ]
  },
  {
   "cell_type": "code",
   "execution_count": 75,
   "metadata": {},
   "outputs": [],
   "source": [
    "# Track duration from ms to s\n",
    "df['duration_ms'] = df['duration_ms']/1000"
   ]
  },
  {
   "cell_type": "code",
   "execution_count": 76,
   "metadata": {},
   "outputs": [],
   "source": [
    "df = df.rename(columns={'duration_ms': 'duration_s'})"
   ]
  },
  {
   "cell_type": "code",
   "execution_count": 77,
   "metadata": {},
   "outputs": [
    {
     "data": {
      "text/html": [
       "<div>\n",
       "<style scoped>\n",
       "    .dataframe tbody tr th:only-of-type {\n",
       "        vertical-align: middle;\n",
       "    }\n",
       "\n",
       "    .dataframe tbody tr th {\n",
       "        vertical-align: top;\n",
       "    }\n",
       "\n",
       "    .dataframe thead th {\n",
       "        text-align: right;\n",
       "    }\n",
       "</style>\n",
       "<table border=\"1\" class=\"dataframe\">\n",
       "  <thead>\n",
       "    <tr style=\"text-align: right;\">\n",
       "      <th></th>\n",
       "      <th>track_artist</th>\n",
       "      <th>track_popularity</th>\n",
       "      <th>playlist_genre</th>\n",
       "      <th>playlist_subgenre</th>\n",
       "      <th>energy</th>\n",
       "      <th>key</th>\n",
       "      <th>loudness</th>\n",
       "      <th>mode</th>\n",
       "      <th>speechiness</th>\n",
       "      <th>acousticness</th>\n",
       "      <th>instrumentalness</th>\n",
       "      <th>liveness</th>\n",
       "      <th>valence</th>\n",
       "      <th>tempo</th>\n",
       "      <th>duration_s</th>\n",
       "      <th>track_danceability_label</th>\n",
       "      <th>release_year</th>\n",
       "    </tr>\n",
       "  </thead>\n",
       "  <tbody>\n",
       "    <tr>\n",
       "      <th>0</th>\n",
       "      <td>Ed Sheeran</td>\n",
       "      <td>66</td>\n",
       "      <td>pop</td>\n",
       "      <td>dance pop</td>\n",
       "      <td>0.916</td>\n",
       "      <td>6</td>\n",
       "      <td>-2.634</td>\n",
       "      <td>1</td>\n",
       "      <td>0.0583</td>\n",
       "      <td>0.1020</td>\n",
       "      <td>0.000000</td>\n",
       "      <td>0.0653</td>\n",
       "      <td>0.518</td>\n",
       "      <td>122.036</td>\n",
       "      <td>194.754</td>\n",
       "      <td>1</td>\n",
       "      <td>2019</td>\n",
       "    </tr>\n",
       "    <tr>\n",
       "      <th>1</th>\n",
       "      <td>Maroon 5</td>\n",
       "      <td>67</td>\n",
       "      <td>pop</td>\n",
       "      <td>dance pop</td>\n",
       "      <td>0.815</td>\n",
       "      <td>11</td>\n",
       "      <td>-4.969</td>\n",
       "      <td>1</td>\n",
       "      <td>0.0373</td>\n",
       "      <td>0.0724</td>\n",
       "      <td>0.004210</td>\n",
       "      <td>0.3570</td>\n",
       "      <td>0.693</td>\n",
       "      <td>99.972</td>\n",
       "      <td>162.600</td>\n",
       "      <td>1</td>\n",
       "      <td>2019</td>\n",
       "    </tr>\n",
       "    <tr>\n",
       "      <th>2</th>\n",
       "      <td>Zara Larsson</td>\n",
       "      <td>70</td>\n",
       "      <td>pop</td>\n",
       "      <td>dance pop</td>\n",
       "      <td>0.931</td>\n",
       "      <td>1</td>\n",
       "      <td>-3.432</td>\n",
       "      <td>0</td>\n",
       "      <td>0.0742</td>\n",
       "      <td>0.0794</td>\n",
       "      <td>0.000023</td>\n",
       "      <td>0.1100</td>\n",
       "      <td>0.613</td>\n",
       "      <td>124.008</td>\n",
       "      <td>176.616</td>\n",
       "      <td>1</td>\n",
       "      <td>2019</td>\n",
       "    </tr>\n",
       "    <tr>\n",
       "      <th>3</th>\n",
       "      <td>The Chainsmokers</td>\n",
       "      <td>60</td>\n",
       "      <td>pop</td>\n",
       "      <td>dance pop</td>\n",
       "      <td>0.930</td>\n",
       "      <td>7</td>\n",
       "      <td>-3.778</td>\n",
       "      <td>1</td>\n",
       "      <td>0.1020</td>\n",
       "      <td>0.0287</td>\n",
       "      <td>0.000009</td>\n",
       "      <td>0.2040</td>\n",
       "      <td>0.277</td>\n",
       "      <td>121.956</td>\n",
       "      <td>169.093</td>\n",
       "      <td>1</td>\n",
       "      <td>2019</td>\n",
       "    </tr>\n",
       "    <tr>\n",
       "      <th>4</th>\n",
       "      <td>Lewis Capaldi</td>\n",
       "      <td>69</td>\n",
       "      <td>pop</td>\n",
       "      <td>dance pop</td>\n",
       "      <td>0.833</td>\n",
       "      <td>1</td>\n",
       "      <td>-4.672</td>\n",
       "      <td>1</td>\n",
       "      <td>0.0359</td>\n",
       "      <td>0.0803</td>\n",
       "      <td>0.000000</td>\n",
       "      <td>0.0833</td>\n",
       "      <td>0.725</td>\n",
       "      <td>123.976</td>\n",
       "      <td>189.052</td>\n",
       "      <td>1</td>\n",
       "      <td>2019</td>\n",
       "    </tr>\n",
       "  </tbody>\n",
       "</table>\n",
       "</div>"
      ],
      "text/plain": [
       "       track_artist  track_popularity playlist_genre playlist_subgenre  \\\n",
       "0        Ed Sheeran                66            pop         dance pop   \n",
       "1          Maroon 5                67            pop         dance pop   \n",
       "2      Zara Larsson                70            pop         dance pop   \n",
       "3  The Chainsmokers                60            pop         dance pop   \n",
       "4     Lewis Capaldi                69            pop         dance pop   \n",
       "\n",
       "   energy  key  loudness  mode  speechiness  acousticness  instrumentalness  \\\n",
       "0   0.916    6    -2.634     1       0.0583        0.1020          0.000000   \n",
       "1   0.815   11    -4.969     1       0.0373        0.0724          0.004210   \n",
       "2   0.931    1    -3.432     0       0.0742        0.0794          0.000023   \n",
       "3   0.930    7    -3.778     1       0.1020        0.0287          0.000009   \n",
       "4   0.833    1    -4.672     1       0.0359        0.0803          0.000000   \n",
       "\n",
       "   liveness  valence    tempo  duration_s track_danceability_label  \\\n",
       "0    0.0653    0.518  122.036     194.754                        1   \n",
       "1    0.3570    0.693   99.972     162.600                        1   \n",
       "2    0.1100    0.613  124.008     176.616                        1   \n",
       "3    0.2040    0.277  121.956     169.093                        1   \n",
       "4    0.0833    0.725  123.976     189.052                        1   \n",
       "\n",
       "   release_year  \n",
       "0          2019  \n",
       "1          2019  \n",
       "2          2019  \n",
       "3          2019  \n",
       "4          2019  "
      ]
     },
     "execution_count": 77,
     "metadata": {},
     "output_type": "execute_result"
    }
   ],
   "source": [
    "df.head()"
   ]
  },
  {
   "cell_type": "code",
   "execution_count": 78,
   "metadata": {},
   "outputs": [
    {
     "name": "stdout",
     "output_type": "stream",
     "text": [
      "<class 'pandas.core.frame.DataFrame'>\n",
      "Int64Index: 32828 entries, 0 to 32832\n",
      "Data columns (total 17 columns):\n",
      " #   Column                    Non-Null Count  Dtype   \n",
      "---  ------                    --------------  -----   \n",
      " 0   track_artist              32828 non-null  object  \n",
      " 1   track_popularity          32828 non-null  int64   \n",
      " 2   playlist_genre            32828 non-null  object  \n",
      " 3   playlist_subgenre         32828 non-null  object  \n",
      " 4   energy                    32828 non-null  float64 \n",
      " 5   key                       32828 non-null  int64   \n",
      " 6   loudness                  32828 non-null  float64 \n",
      " 7   mode                      32828 non-null  int64   \n",
      " 8   speechiness               32828 non-null  float64 \n",
      " 9   acousticness              32828 non-null  float64 \n",
      " 10  instrumentalness          32828 non-null  float64 \n",
      " 11  liveness                  32828 non-null  float64 \n",
      " 12  valence                   32828 non-null  float64 \n",
      " 13  tempo                     32828 non-null  float64 \n",
      " 14  duration_s                32828 non-null  float64 \n",
      " 15  track_danceability_label  32828 non-null  category\n",
      " 16  release_year              32828 non-null  int64   \n",
      "dtypes: category(1), float64(9), int64(4), object(3)\n",
      "memory usage: 4.3+ MB\n"
     ]
    }
   ],
   "source": [
    "df.info()"
   ]
  },
  {
   "cell_type": "markdown",
   "metadata": {},
   "source": [
    "## Making the model"
   ]
  },
  {
   "cell_type": "markdown",
   "metadata": {},
   "source": [
    "### Dataset"
   ]
  },
  {
   "cell_type": "code",
   "execution_count": 79,
   "metadata": {},
   "outputs": [],
   "source": [
    "X, y = df.drop(['track_danceability_label', 'track_artist', 'playlist_genre', 'playlist_subgenre'],axis=1).to_numpy(), df['track_danceability_label'].to_numpy()"
   ]
  },
  {
   "cell_type": "code",
   "execution_count": 80,
   "metadata": {},
   "outputs": [
    {
     "name": "stdout",
     "output_type": "stream",
     "text": [
      "The shape of X is: (32828, 13)\n",
      "The shape of y is: (32828,)\n"
     ]
    }
   ],
   "source": [
    "print ('The shape of X is: ' + str(X.shape))\n",
    "print ('The shape of y is: ' + str(y.shape))"
   ]
  },
  {
   "cell_type": "code",
   "execution_count": 81,
   "metadata": {},
   "outputs": [],
   "source": [
    "# UNQ_C2\n",
    "# GRADED CELL: Sequential model\n",
    "tf.random.set_seed(1234) # for consistent results\n",
    "model = Sequential(\n",
    "    [\n",
    "        ### START CODE HERE ###\n",
    "\n",
    "        tf.keras.Input(shape=(13,)),    #specify input shape\n",
    "        Dense(100, activation=relu, name=\"L1\", kernel_regularizer=tf.keras.regularizers.l2(0.1)),\n",
    "        Dense(20, activation=relu, name=\"L2\", kernel_regularizer=tf.keras.regularizers.l2(0.1)),\n",
    "        Dense(3, activation=linear, name=\"L3\"),\n",
    "        \n",
    "        ### END CODE HERE ###\n",
    "    ], name = \"my_model\"\n",
    ")\n",
    "model.compile(\n",
    "    loss=tf.keras.losses.SparseCategoricalCrossentropy(from_logits=True),\n",
    "    optimizer=tf.keras.optimizers.Adam(learning_rate=0.001),\n",
    "    metrics=['accuracy']\n",
    ")"
   ]
  },
  {
   "cell_type": "code",
   "execution_count": 82,
   "metadata": {},
   "outputs": [
    {
     "name": "stdout",
     "output_type": "stream",
     "text": [
      "Model: \"my_model\"\n",
      "_________________________________________________________________\n",
      " Layer (type)                Output Shape              Param #   \n",
      "=================================================================\n",
      " L1 (Dense)                  (None, 100)               1400      \n",
      "                                                                 \n",
      " L2 (Dense)                  (None, 20)                2020      \n",
      "                                                                 \n",
      " L3 (Dense)                  (None, 3)                 63        \n",
      "                                                                 \n",
      "=================================================================\n",
      "Total params: 3483 (13.61 KB)\n",
      "Trainable params: 3483 (13.61 KB)\n",
      "Non-trainable params: 0 (0.00 Byte)\n",
      "_________________________________________________________________\n"
     ]
    }
   ],
   "source": [
    "model.summary()"
   ]
  },
  {
   "cell_type": "code",
   "execution_count": 83,
   "metadata": {},
   "outputs": [],
   "source": [
    "[layer1, layer2, layer3] = model.layers"
   ]
  },
  {
   "cell_type": "code",
   "execution_count": 84,
   "metadata": {},
   "outputs": [
    {
     "name": "stdout",
     "output_type": "stream",
     "text": [
      "W1 shape = (13, 100), b1 shape = (100,)\n",
      "W2 shape = (100, 20), b2 shape = (20,)\n",
      "W3 shape = (20, 3), b3 shape = (3,)\n"
     ]
    }
   ],
   "source": [
    "#### Examine Weights shapes\n",
    "W1,b1 = layer1.get_weights()\n",
    "W2,b2 = layer2.get_weights()\n",
    "W3,b3 = layer3.get_weights()\n",
    "print(f\"W1 shape = {W1.shape}, b1 shape = {b1.shape}\")\n",
    "print(f\"W2 shape = {W2.shape}, b2 shape = {b2.shape}\")\n",
    "print(f\"W3 shape = {W3.shape}, b3 shape = {b3.shape}\")"
   ]
  },
  {
   "cell_type": "code",
   "execution_count": 94,
   "metadata": {},
   "outputs": [
    {
     "name": "stdout",
     "output_type": "stream",
     "text": [
      "Epoch 1/40\n",
      "1026/1026 [==============================] - 2s 2ms/step - loss: 2.0401 - accuracy: 0.4452\n",
      "Epoch 2/40\n",
      "1026/1026 [==============================] - 2s 2ms/step - loss: 1.9525 - accuracy: 0.4419\n",
      "Epoch 3/40\n",
      "1026/1026 [==============================] - 2s 2ms/step - loss: 1.9952 - accuracy: 0.4491\n",
      "Epoch 4/40\n",
      "1026/1026 [==============================] - 2s 2ms/step - loss: 1.7637 - accuracy: 0.4488\n",
      "Epoch 5/40\n",
      "1026/1026 [==============================] - 2s 2ms/step - loss: 1.6774 - accuracy: 0.4534\n",
      "Epoch 6/40\n",
      "1026/1026 [==============================] - 2s 2ms/step - loss: 1.6333 - accuracy: 0.4528\n",
      "Epoch 7/40\n",
      "1026/1026 [==============================] - 2s 2ms/step - loss: 1.5761 - accuracy: 0.4589\n",
      "Epoch 8/40\n",
      "1026/1026 [==============================] - 2s 2ms/step - loss: 1.5523 - accuracy: 0.4552\n",
      "Epoch 9/40\n",
      "1026/1026 [==============================] - 2s 2ms/step - loss: 1.4915 - accuracy: 0.4629\n",
      "Epoch 10/40\n",
      "1026/1026 [==============================] - 2s 2ms/step - loss: 1.4158 - accuracy: 0.4692\n",
      "Epoch 11/40\n",
      "1026/1026 [==============================] - 2s 2ms/step - loss: 1.3513 - accuracy: 0.4747\n",
      "Epoch 12/40\n",
      "1026/1026 [==============================] - 2s 2ms/step - loss: 1.2698 - accuracy: 0.4856\n",
      "Epoch 13/40\n",
      "1026/1026 [==============================] - 2s 2ms/step - loss: 1.2353 - accuracy: 0.4808\n",
      "Epoch 14/40\n",
      "1026/1026 [==============================] - 2s 2ms/step - loss: 1.1780 - accuracy: 0.5150\n",
      "Epoch 15/40\n",
      "1026/1026 [==============================] - 2s 2ms/step - loss: 1.1488 - accuracy: 0.5150\n",
      "Epoch 16/40\n",
      "1026/1026 [==============================] - 2s 2ms/step - loss: 1.1206 - accuracy: 0.5146\n",
      "Epoch 17/40\n",
      "1026/1026 [==============================] - 2s 2ms/step - loss: 1.0902 - accuracy: 0.5150\n",
      "Epoch 18/40\n",
      "1026/1026 [==============================] - 2s 2ms/step - loss: 1.0609 - accuracy: 0.5150\n",
      "Epoch 19/40\n",
      "1026/1026 [==============================] - 2s 2ms/step - loss: 1.0367 - accuracy: 0.5150\n",
      "Epoch 20/40\n",
      "1026/1026 [==============================] - 2s 2ms/step - loss: 1.0178 - accuracy: 0.5150\n",
      "Epoch 21/40\n",
      "1026/1026 [==============================] - 2s 2ms/step - loss: 1.0072 - accuracy: 0.5150\n",
      "Epoch 22/40\n",
      "1026/1026 [==============================] - 2s 2ms/step - loss: 1.0010 - accuracy: 0.5150\n",
      "Epoch 23/40\n",
      "1026/1026 [==============================] - 2s 2ms/step - loss: 0.9991 - accuracy: 0.5147\n",
      "Epoch 24/40\n",
      "1026/1026 [==============================] - 2s 2ms/step - loss: 0.9981 - accuracy: 0.5150\n",
      "Epoch 25/40\n",
      "1026/1026 [==============================] - 2s 2ms/step - loss: 0.9978 - accuracy: 0.5150\n",
      "Epoch 26/40\n",
      "1026/1026 [==============================] - 2s 2ms/step - loss: 0.9978 - accuracy: 0.5150\n",
      "Epoch 27/40\n",
      "1026/1026 [==============================] - 2s 2ms/step - loss: 0.9979 - accuracy: 0.5150\n",
      "Epoch 28/40\n",
      "1026/1026 [==============================] - 2s 2ms/step - loss: 0.9977 - accuracy: 0.5150\n",
      "Epoch 29/40\n",
      "1026/1026 [==============================] - 2s 2ms/step - loss: 0.9977 - accuracy: 0.5150\n",
      "Epoch 30/40\n",
      "1026/1026 [==============================] - 2s 2ms/step - loss: 0.9976 - accuracy: 0.5150\n",
      "Epoch 31/40\n",
      "1026/1026 [==============================] - 2s 2ms/step - loss: 0.9974 - accuracy: 0.5150\n",
      "Epoch 32/40\n",
      "1026/1026 [==============================] - 2s 2ms/step - loss: 0.9974 - accuracy: 0.5150\n",
      "Epoch 33/40\n",
      "1026/1026 [==============================] - 2s 2ms/step - loss: 0.9974 - accuracy: 0.5150\n",
      "Epoch 34/40\n",
      "1026/1026 [==============================] - 2s 2ms/step - loss: 0.9974 - accuracy: 0.5150\n",
      "Epoch 35/40\n",
      "1026/1026 [==============================] - 2s 2ms/step - loss: 0.9974 - accuracy: 0.5150\n",
      "Epoch 36/40\n",
      "1026/1026 [==============================] - 2s 2ms/step - loss: 0.9974 - accuracy: 0.5150\n",
      "Epoch 37/40\n",
      "1026/1026 [==============================] - 2s 2ms/step - loss: 0.9974 - accuracy: 0.5150\n",
      "Epoch 38/40\n",
      "1026/1026 [==============================] - 2s 2ms/step - loss: 0.9974 - accuracy: 0.5150\n",
      "Epoch 39/40\n",
      "1026/1026 [==============================] - 2s 2ms/step - loss: 0.9974 - accuracy: 0.5150\n",
      "Epoch 40/40\n",
      "1026/1026 [==============================] - 2s 2ms/step - loss: 0.9974 - accuracy: 0.5150\n"
     ]
    }
   ],
   "source": [
    "history = model.fit(\n",
    "    X,y,\n",
    "    epochs=40\n",
    ")"
   ]
  },
  {
   "cell_type": "code",
   "execution_count": 95,
   "metadata": {},
   "outputs": [],
   "source": [
    "def plot_loss_tf(history):\n",
    "    fig,ax = plt.subplots(1,1, figsize = (5,5))\n",
    "    ax.plot(history.history['loss'], label='loss')\n",
    "    ax.set_ylim([0, 10])\n",
    "    ax.set_xlabel('Epoch')\n",
    "    ax.set_ylabel('loss (cost)')\n",
    "    ax.legend()\n",
    "    ax.grid(True)\n",
    "    plt.show()"
   ]
  },
  {
   "cell_type": "code",
   "execution_count": 96,
   "metadata": {},
   "outputs": [
    {
     "data": {
      "application/vnd.jupyter.widget-view+json": {
       "model_id": "2413cc56ea2c4bc1b967e9388375aeb6",
       "version_major": 2,
       "version_minor": 0
      },
      "image/png": "[encoded data removed]",
      "text/html": [
       "\n",
       "            <div style=\"display: inline-block;\">\n",
       "                <div class=\"jupyter-widgets widget-label\" style=\"text-align: center;\">\n",
       "                    Figure\n",
       "                </div>\n",
       "                <img src='data:image/png;base64,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' width=500.0/>\n",
       "            </div>\n",
       "        "
      ],
      "text/plain": [
       "Canvas(toolbar=Toolbar(toolitems=[('Home', 'Reset original view', 'home', 'home'), ('Back', 'Back to previous …"
      ]
     },
     "metadata": {},
     "output_type": "display_data"
    }
   ],
   "source": [
    "plot_loss_tf(history)"
   ]
  },
  {
   "cell_type": "code",
   "execution_count": 97,
   "metadata": {},
   "outputs": [
    {
     "data": {
      "text/plain": [
       "track_artist                Ed Sheeran\n",
       "track_popularity                    66\n",
       "playlist_genre                     pop\n",
       "playlist_subgenre            dance pop\n",
       "energy                           0.835\n",
       "key                                  0\n",
       "loudness                        -4.603\n",
       "mode                                 1\n",
       "speechiness                     0.0896\n",
       "acousticness                      0.13\n",
       "instrumentalness              0.000005\n",
       "liveness                         0.365\n",
       "valence                          0.722\n",
       "tempo                          125.028\n",
       "duration_s                      188.23\n",
       "track_danceability_label             2\n",
       "release_year                      2019\n",
       "Name: 15, dtype: object"
      ]
     },
     "execution_count": 97,
     "metadata": {},
     "output_type": "execute_result"
    }
   ],
   "source": [
    "df.head()\n",
    "#give df value at row 23\n",
    "df.iloc[2]\n",
    "#give me the row with the highest track_popularity_label         \n",
    "df.loc[df['track_danceability_label'].idxmax()]"
   ]
  },
  {
   "cell_type": "code",
   "execution_count": 98,
   "metadata": {},
   "outputs": [
    {
     "name": "stdout",
     "output_type": "stream",
     "text": [
      "(13,)\n",
      "1/1 [==============================] - 0s 30ms/step\n",
      " predicting a Two: \n",
      "[[ 0.01230356  0.46372265 -0.72513586]]\n",
      " Largest Prediction index: 1\n"
     ]
    }
   ],
   "source": [
    "Ed_IHE_Remix = X[41]\n",
    "print(Ed_IHE_Remix.shape)\n",
    "prediction = model.predict(Ed_IHE_Remix.reshape(1,13))\n",
    "print(f\" predicting a Two: \\n{prediction}\")  # Moet toch zijn: predicting a Four?\n",
    "print(f\" Largest Prediction index: {np.argmax(prediction)}\")"
   ]
  },
  {
   "cell_type": "code",
   "execution_count": 99,
   "metadata": {},
   "outputs": [
    {
     "name": "stdout",
     "output_type": "stream",
     "text": [
      " predicting a Two. Probability vector: \n",
      "[[0.32798964 0.5151206  0.15688963]]\n",
      "np.argmax(prediction_p): 1\n"
     ]
    }
   ],
   "source": [
    "prediction_p = tf.nn.softmax(prediction)\n",
    "\n",
    "print(f\" predicting a Two. Probability vector: \\n{prediction_p}\") # Moet toch zijn: predicting a Four?\n",
    "yhat = np.argmax(prediction_p)\n",
    "\n",
    "print(f\"np.argmax(prediction_p): {yhat}\")"
   ]
  },
  {
   "cell_type": "code",
   "execution_count": 100,
   "metadata": {},
   "outputs": [
    {
     "name": "stdout",
     "output_type": "stream",
     "text": [
      "1/1 [==============================] - 0s 23ms/step\n",
      "1/1 [==============================] - 0s 21ms/step\n",
      "1/1 [==============================] - 0s 21ms/step\n",
      "1/1 [==============================] - 0s 23ms/step\n",
      "1/1 [==============================] - 0s 24ms/step\n",
      "1/1 [==============================] - 0s 22ms/step\n",
      "1/1 [==============================] - 0s 22ms/step\n",
      "1/1 [==============================] - 0s 22ms/step\n",
      "1/1 [==============================] - 0s 22ms/step\n",
      "1/1 [==============================] - 0s 22ms/step\n",
      "1/1 [==============================] - 0s 20ms/step\n",
      "1/1 [==============================] - 0s 20ms/step\n",
      "1/1 [==============================] - 0s 22ms/step\n",
      "1/1 [==============================] - 0s 22ms/step\n",
      "1/1 [==============================] - 0s 24ms/step\n",
      "1/1 [==============================] - 0s 38ms/step\n",
      "1/1 [==============================] - 0s 21ms/step\n",
      "1/1 [==============================] - 0s 20ms/step\n",
      "1/1 [==============================] - 0s 20ms/step\n",
      "1/1 [==============================] - 0s 21ms/step\n",
      "1/1 [==============================] - 0s 20ms/step\n",
      "1/1 [==============================] - 0s 21ms/step\n",
      "1/1 [==============================] - 0s 20ms/step\n",
      "1/1 [==============================] - 0s 22ms/step\n",
      "1/1 [==============================] - 0s 23ms/step\n",
      "1/1 [==============================] - 0s 20ms/step\n",
      "1/1 [==============================] - 0s 23ms/step\n",
      "1/1 [==============================] - 0s 20ms/step\n",
      "1/1 [==============================] - 0s 29ms/step\n",
      "1/1 [==============================] - 0s 22ms/step\n",
      "1/1 [==============================] - 0s 21ms/step\n",
      "1/1 [==============================] - 0s 21ms/step\n",
      "1/1 [==============================] - 0s 23ms/step\n",
      "1/1 [==============================] - 0s 22ms/step\n",
      "1/1 [==============================] - 0s 20ms/step\n",
      "1/1 [==============================] - 0s 29ms/step\n",
      "1/1 [==============================] - 0s 20ms/step\n",
      "1/1 [==============================] - 0s 22ms/step\n",
      "1/1 [==============================] - 0s 25ms/step\n",
      "1/1 [==============================] - 0s 20ms/step\n",
      "1/1 [==============================] - 0s 24ms/step\n",
      "1/1 [==============================] - 0s 23ms/step\n",
      "1/1 [==============================] - 0s 20ms/step\n",
      "1/1 [==============================] - 0s 22ms/step\n",
      "1/1 [==============================] - 0s 20ms/step\n",
      "1/1 [==============================] - 0s 21ms/step\n",
      "1/1 [==============================] - 0s 20ms/step\n",
      "1/1 [==============================] - 0s 19ms/step\n",
      "1/1 [==============================] - 0s 22ms/step\n",
      "1/1 [==============================] - 0s 21ms/step\n",
      "1/1 [==============================] - 0s 20ms/step\n",
      "1/1 [==============================] - 0s 20ms/step\n",
      "1/1 [==============================] - 0s 22ms/step\n",
      "1/1 [==============================] - 0s 22ms/step\n",
      "1/1 [==============================] - 0s 25ms/step\n",
      "1/1 [==============================] - 0s 22ms/step\n",
      "1/1 [==============================] - 0s 23ms/step\n",
      "1/1 [==============================] - 0s 24ms/step\n",
      "1/1 [==============================] - 0s 22ms/step\n",
      "1/1 [==============================] - 0s 21ms/step\n",
      "1/1 [==============================] - 0s 20ms/step\n",
      "1/1 [==============================] - 0s 23ms/step\n",
      "1/1 [==============================] - 0s 23ms/step\n",
      "1/1 [==============================] - 0s 21ms/step\n"
     ]
    },
    {
     "data": {
      "application/vnd.jupyter.widget-view+json": {
       "model_id": "90b6ae24bd17476f9bfcc3c4adae2f38",
       "version_major": 2,
       "version_minor": 0
      },
      "image/png": "[encoded data removed]",
      "text/html": [
       "\n",
       "            <div style=\"display: inline-block;\">\n",
       "                <div class=\"jupyter-widgets widget-label\" style=\"text-align: center;\">\n",
       "                    Figure\n",
       "                </div>\n",
       "                <img src='data:image/png;base64,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' width=500.0/>\n",
       "            </div>\n",
       "        "
      ],
      "text/plain": [
       "Canvas(toolbar=Toolbar(toolitems=[('Home', 'Reset original view', 'home', 'home'), ('Back', 'Back to previous …"
      ]
     },
     "metadata": {},
     "output_type": "display_data"
    }
   ],
   "source": [
    "import warnings\n",
    "warnings.simplefilter(action='ignore', category=FutureWarning)\n",
    "# You do not need to modify anything in this cell\n",
    "\n",
    "m, n = X.shape\n",
    "\n",
    "fig, axes = plt.subplots(8,8, figsize=(5,5))\n",
    "fig.tight_layout(pad=0.13,rect=[0, 0.03, 1, 0.91]) #[left, bottom, right, top]\n",
    "\n",
    "for i,ax in enumerate(axes.flat):\n",
    "    random_index = np.random.randint(m)\n",
    "\n",
    "    # Predict using the Neural Network\n",
    "    prediction = model.predict(X[random_index].reshape(1,13))\n",
    "    prediction_p = tf.nn.softmax(prediction)\n",
    "    yhat = np.argmax(prediction_p)\n",
    "    \n",
    "    # Display the label above the image\n",
    "    ax.set_title(f\"{y[random_index]},{yhat}\",fontsize=10)\n",
    "    ax.set_axis_off()\n",
    "    \n",
    "fig.suptitle(\"Label, yhat\", fontsize=14)\n",
    "plt.show()"
   ]
  },
  {
   "cell_type": "code",
   "execution_count": 92,
   "metadata": {},
   "outputs": [],
   "source": [
    "def display_errors(model,X,y):\n",
    "    f = model.predict(X)\n",
    "    yhat = np.argmax(f, axis=1)\n",
    "    doo = yhat != y[:]\n",
    "    idxs = np.where(yhat != y[:])[0]\n",
    "    if len(idxs) == 0:\n",
    "        print(\"no errors found\")\n",
    "    else:\n",
    "        cnt = min(8, len(idxs))\n",
    "        fig, ax = plt.subplots(1,cnt, figsize=(5,2))\n",
    "        fig.tight_layout(pad=0.13,rect=[0, 0.03, 1, 0.80]) #[left, bottom, right, top]\n",
    "\n",
    "        for i in range(cnt):\n",
    "            j = idxs[i]\n",
    "            \n",
    "            # Predict using the Neural Network\n",
    "            prediction = model.predict(X[j].reshape(1,13))\n",
    "            prediction_p = tf.nn.softmax(prediction)\n",
    "            yhat = np.argmax(prediction_p)\n",
    "\n",
    "            # Display the label above the image\n",
    "            ax[i].set_title(f\"{y[j]},{yhat}\",fontsize=10)\n",
    "            ax[i].set_axis_off()\n",
    "            fig.suptitle(\"Label, yhat\", fontsize=12)\n",
    "    return(len(idxs))"
   ]
  },
  {
   "cell_type": "code",
   "execution_count": 93,
   "metadata": {},
   "outputs": [
    {
     "name": "stdout",
     "output_type": "stream",
     "text": [
      "1026/1026 [==============================] - 1s 1ms/step\n",
      "1/1 [==============================] - 0s 19ms/step\n",
      "1/1 [==============================] - 0s 19ms/step\n",
      "1/1 [==============================] - 0s 19ms/step\n",
      "1/1 [==============================] - 0s 21ms/step\n",
      "1/1 [==============================] - 0s 21ms/step\n",
      "1/1 [==============================] - 0s 22ms/step\n",
      "1/1 [==============================] - 0s 21ms/step\n",
      "1/1 [==============================] - 0s 20ms/step\n",
      "22028 errors out of 32828 images\n"
     ]
    },
    {
     "data": {
      "application/vnd.jupyter.widget-view+json": {
       "model_id": "bad5f6db942d48b4a1ef22ab9b36ed85",
       "version_major": 2,
       "version_minor": 0
      },
      "image/png": "[encoded data removed]",
      "text/html": [
       "\n",
       "            <div style=\"display: inline-block;\">\n",
       "                <div class=\"jupyter-widgets widget-label\" style=\"text-align: center;\">\n",
       "                    Figure\n",
       "                </div>\n",
       "                <img src='data:image/png;base64,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' width=500.0/>\n",
       "            </div>\n",
       "        "
      ],
      "text/plain": [
       "Canvas(toolbar=Toolbar(toolitems=[('Home', 'Reset original view', 'home', 'home'), ('Back', 'Back to previous …"
      ]
     },
     "metadata": {},
     "output_type": "display_data"
    }
   ],
   "source": [
    "print( f\"{display_errors(model,X,y)} errors out of {len(X)} images\")"
   ]
  }
 ],
 "metadata": {
  "kernelspec": {
   "display_name": "Python 3",
   "language": "python",
   "name": "python3"
  },
  "language_info": {
   "codemirror_mode": {
    "name": "ipython",
    "version": 3
   },
   "file_extension": ".py",
   "mimetype": "text/x-python",
   "name": "python",
   "nbconvert_exporter": "python",
   "pygments_lexer": "ipython3",
   "version": "3.9.13"
  }
 },
 "nbformat": 4,
 "nbformat_minor": 2
}
