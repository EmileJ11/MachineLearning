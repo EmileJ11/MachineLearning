{
 "cells": [
  {
   "cell_type": "code",
   "execution_count": 14,
   "metadata": {},
   "outputs": [],
   "source": [
    "import numpy as np\n",
    "import pandas as pd\n",
    "import tensorflow as tf\n",
    "from tensorflow.keras.models import Sequential\n",
    "from tensorflow.keras.layers import Dense\n",
    "from tensorflow.keras.activations import linear, relu, softmax\n",
    "\n",
    "%matplotlib widget\n",
    "import matplotlib.pyplot as plt\n",
    "\n",
    "import logging\n",
    "logging.getLogger(\"tensorflow\").setLevel(logging.ERROR)\n",
    "tf.autograph.set_verbosity(0)"
   ]
  },
  {
   "cell_type": "code",
   "execution_count": 15,
   "metadata": {},
   "outputs": [
    {
     "data": {
      "text/html": [
       "<div>\n",
       "<style scoped>\n",
       "    .dataframe tbody tr th:only-of-type {\n",
       "        vertical-align: middle;\n",
       "    }\n",
       "\n",
       "    .dataframe tbody tr th {\n",
       "        vertical-align: top;\n",
       "    }\n",
       "\n",
       "    .dataframe thead th {\n",
       "        text-align: right;\n",
       "    }\n",
       "</style>\n",
       "<table border=\"1\" class=\"dataframe\">\n",
       "  <thead>\n",
       "    <tr style=\"text-align: right;\">\n",
       "      <th></th>\n",
       "      <th>song_name</th>\n",
       "      <th>song_popularity</th>\n",
       "      <th>song_duration_ms</th>\n",
       "      <th>acousticness</th>\n",
       "      <th>danceability</th>\n",
       "      <th>energy</th>\n",
       "      <th>instrumentalness</th>\n",
       "      <th>key</th>\n",
       "      <th>liveness</th>\n",
       "      <th>loudness</th>\n",
       "      <th>audio_mode</th>\n",
       "      <th>speechiness</th>\n",
       "      <th>tempo</th>\n",
       "      <th>time_signature</th>\n",
       "      <th>audio_valence</th>\n",
       "    </tr>\n",
       "  </thead>\n",
       "  <tbody>\n",
       "    <tr>\n",
       "      <th>0</th>\n",
       "      <td>Boulevard of Broken Dreams</td>\n",
       "      <td>73</td>\n",
       "      <td>262333</td>\n",
       "      <td>0.005520</td>\n",
       "      <td>0.496</td>\n",
       "      <td>0.682</td>\n",
       "      <td>0.000029</td>\n",
       "      <td>8</td>\n",
       "      <td>0.0589</td>\n",
       "      <td>-4.095</td>\n",
       "      <td>1</td>\n",
       "      <td>0.0294</td>\n",
       "      <td>167.060</td>\n",
       "      <td>4</td>\n",
       "      <td>0.474</td>\n",
       "    </tr>\n",
       "    <tr>\n",
       "      <th>1</th>\n",
       "      <td>In The End</td>\n",
       "      <td>66</td>\n",
       "      <td>216933</td>\n",
       "      <td>0.010300</td>\n",
       "      <td>0.542</td>\n",
       "      <td>0.853</td>\n",
       "      <td>0.000000</td>\n",
       "      <td>3</td>\n",
       "      <td>0.1080</td>\n",
       "      <td>-6.407</td>\n",
       "      <td>0</td>\n",
       "      <td>0.0498</td>\n",
       "      <td>105.256</td>\n",
       "      <td>4</td>\n",
       "      <td>0.370</td>\n",
       "    </tr>\n",
       "    <tr>\n",
       "      <th>2</th>\n",
       "      <td>Seven Nation Army</td>\n",
       "      <td>76</td>\n",
       "      <td>231733</td>\n",
       "      <td>0.008170</td>\n",
       "      <td>0.737</td>\n",
       "      <td>0.463</td>\n",
       "      <td>0.447000</td>\n",
       "      <td>0</td>\n",
       "      <td>0.2550</td>\n",
       "      <td>-7.828</td>\n",
       "      <td>1</td>\n",
       "      <td>0.0792</td>\n",
       "      <td>123.881</td>\n",
       "      <td>4</td>\n",
       "      <td>0.324</td>\n",
       "    </tr>\n",
       "    <tr>\n",
       "      <th>3</th>\n",
       "      <td>By The Way</td>\n",
       "      <td>74</td>\n",
       "      <td>216933</td>\n",
       "      <td>0.026400</td>\n",
       "      <td>0.451</td>\n",
       "      <td>0.970</td>\n",
       "      <td>0.003550</td>\n",
       "      <td>0</td>\n",
       "      <td>0.1020</td>\n",
       "      <td>-4.938</td>\n",
       "      <td>1</td>\n",
       "      <td>0.1070</td>\n",
       "      <td>122.444</td>\n",
       "      <td>4</td>\n",
       "      <td>0.198</td>\n",
       "    </tr>\n",
       "    <tr>\n",
       "      <th>4</th>\n",
       "      <td>How You Remind Me</td>\n",
       "      <td>56</td>\n",
       "      <td>223826</td>\n",
       "      <td>0.000954</td>\n",
       "      <td>0.447</td>\n",
       "      <td>0.766</td>\n",
       "      <td>0.000000</td>\n",
       "      <td>10</td>\n",
       "      <td>0.1130</td>\n",
       "      <td>-5.065</td>\n",
       "      <td>1</td>\n",
       "      <td>0.0313</td>\n",
       "      <td>172.011</td>\n",
       "      <td>4</td>\n",
       "      <td>0.574</td>\n",
       "    </tr>\n",
       "  </tbody>\n",
       "</table>\n",
       "</div>"
      ],
      "text/plain": [
       "                    song_name  song_popularity  song_duration_ms  \\\n",
       "0  Boulevard of Broken Dreams               73            262333   \n",
       "1                  In The End               66            216933   \n",
       "2           Seven Nation Army               76            231733   \n",
       "3                  By The Way               74            216933   \n",
       "4           How You Remind Me               56            223826   \n",
       "\n",
       "   acousticness  danceability  energy  instrumentalness  key  liveness  \\\n",
       "0      0.005520         0.496   0.682          0.000029    8    0.0589   \n",
       "1      0.010300         0.542   0.853          0.000000    3    0.1080   \n",
       "2      0.008170         0.737   0.463          0.447000    0    0.2550   \n",
       "3      0.026400         0.451   0.970          0.003550    0    0.1020   \n",
       "4      0.000954         0.447   0.766          0.000000   10    0.1130   \n",
       "\n",
       "   loudness  audio_mode  speechiness    tempo  time_signature  audio_valence  \n",
       "0    -4.095           1       0.0294  167.060               4          0.474  \n",
       "1    -6.407           0       0.0498  105.256               4          0.370  \n",
       "2    -7.828           1       0.0792  123.881               4          0.324  \n",
       "3    -4.938           1       0.1070  122.444               4          0.198  \n",
       "4    -5.065           1       0.0313  172.011               4          0.574  "
      ]
     },
     "execution_count": 15,
     "metadata": {},
     "output_type": "execute_result"
    }
   ],
   "source": [
    "df = pd.read_csv(\"archive/song_data.csv\")\n",
    "\n",
    "df.head()"
   ]
  },
  {
   "cell_type": "code",
   "execution_count": 16,
   "metadata": {},
   "outputs": [
    {
     "data": {
      "text/plain": [
       "(18835, 15)"
      ]
     },
     "execution_count": 16,
     "metadata": {},
     "output_type": "execute_result"
    }
   ],
   "source": [
    "df.shape"
   ]
  },
  {
   "cell_type": "code",
   "execution_count": 17,
   "metadata": {},
   "outputs": [
    {
     "data": {
      "text/plain": [
       "False"
      ]
     },
     "execution_count": 17,
     "metadata": {},
     "output_type": "execute_result"
    }
   ],
   "source": [
    "missing_popularity = df['song_popularity'].isnull().any()\n",
    "\n",
    "missing_popularity"
   ]
  },
  {
   "cell_type": "code",
   "execution_count": 18,
   "metadata": {},
   "outputs": [
    {
     "name": "stdout",
     "output_type": "stream",
     "text": [
      "<class 'pandas.core.frame.DataFrame'>\n",
      "RangeIndex: 18835 entries, 0 to 18834\n",
      "Data columns (total 15 columns):\n",
      " #   Column            Non-Null Count  Dtype  \n",
      "---  ------            --------------  -----  \n",
      " 0   song_name         18835 non-null  object \n",
      " 1   song_popularity   18835 non-null  int64  \n",
      " 2   song_duration_ms  18835 non-null  int64  \n",
      " 3   acousticness      18835 non-null  float64\n",
      " 4   danceability      18835 non-null  float64\n",
      " 5   energy            18835 non-null  float64\n",
      " 6   instrumentalness  18835 non-null  float64\n",
      " 7   key               18835 non-null  int64  \n",
      " 8   liveness          18835 non-null  float64\n",
      " 9   loudness          18835 non-null  float64\n",
      " 10  audio_mode        18835 non-null  int64  \n",
      " 11  speechiness       18835 non-null  float64\n",
      " 12  tempo             18835 non-null  float64\n",
      " 13  time_signature    18835 non-null  int64  \n",
      " 14  audio_valence     18835 non-null  float64\n",
      "dtypes: float64(9), int64(5), object(1)\n",
      "memory usage: 2.2+ MB\n"
     ]
    }
   ],
   "source": [
    "df.info()"
   ]
  },
  {
   "cell_type": "code",
   "execution_count": 19,
   "metadata": {},
   "outputs": [],
   "source": [
    "# Define the bin edges and labels\n",
    "bin_edges = [0, 20, 40, 60, 80, 100]\n",
    "bin_labels = [0, 1, 2, 3, 4]# ['Trash', 'Flop', 'Average', 'Hit', 'Monsterhit']\n",
    "\n",
    "# Create a new column 'popularity_label' based on the bins\n",
    "df['song_popularity'] = pd.cut(df['song_popularity'], bins=bin_edges, labels=bin_labels, include_lowest=True)\n",
    "df['track_popularity_label'] = df['song_popularity'].astype(int)"
   ]
  },
  {
   "cell_type": "code",
   "execution_count": 21,
   "metadata": {},
   "outputs": [],
   "source": [
    "df = df.drop(['song_popularity'],axis=1)"
   ]
  },
  {
   "cell_type": "code",
   "execution_count": 22,
   "metadata": {},
   "outputs": [
    {
     "name": "stdout",
     "output_type": "stream",
     "text": [
      "<class 'pandas.core.frame.DataFrame'>\n",
      "RangeIndex: 18835 entries, 0 to 18834\n",
      "Data columns (total 15 columns):\n",
      " #   Column                  Non-Null Count  Dtype  \n",
      "---  ------                  --------------  -----  \n",
      " 0   song_name               18835 non-null  object \n",
      " 1   song_duration_ms        18835 non-null  int64  \n",
      " 2   acousticness            18835 non-null  float64\n",
      " 3   danceability            18835 non-null  float64\n",
      " 4   energy                  18835 non-null  float64\n",
      " 5   instrumentalness        18835 non-null  float64\n",
      " 6   key                     18835 non-null  int64  \n",
      " 7   liveness                18835 non-null  float64\n",
      " 8   loudness                18835 non-null  float64\n",
      " 9   audio_mode              18835 non-null  int64  \n",
      " 10  speechiness             18835 non-null  float64\n",
      " 11  tempo                   18835 non-null  float64\n",
      " 12  time_signature          18835 non-null  int64  \n",
      " 13  audio_valence           18835 non-null  float64\n",
      " 14  track_popularity_label  18835 non-null  int32  \n",
      "dtypes: float64(9), int32(1), int64(4), object(1)\n",
      "memory usage: 2.1+ MB\n"
     ]
    }
   ],
   "source": [
    "df.dropna(inplace=True)\n",
    "df.info()"
   ]
  },
  {
   "cell_type": "code",
   "execution_count": 29,
   "metadata": {},
   "outputs": [],
   "source": [
    "X, y = df.drop('song_name',axis=1).to_numpy(), df['track_popularity_label'].to_numpy()"
   ]
  },
  {
   "cell_type": "code",
   "execution_count": 30,
   "metadata": {},
   "outputs": [
    {
     "name": "stdout",
     "output_type": "stream",
     "text": [
      "The shape of X is: (18835, 14)\n",
      "The shape of y is: (18835,)\n"
     ]
    }
   ],
   "source": [
    "print ('The shape of X is: ' + str(X.shape))\n",
    "print ('The shape of y is: ' + str(y.shape))"
   ]
  },
  {
   "cell_type": "code",
   "execution_count": 31,
   "metadata": {},
   "outputs": [],
   "source": [
    "# UNQ_C2\n",
    "# GRADED CELL: Sequential model\n",
    "tf.random.set_seed(1234) # for consistent results\n",
    "model = Sequential(\n",
    "    [\n",
    "        ### START CODE HERE ###\n",
    "\n",
    "        tf.keras.Input(shape=(14,)),    #specify input shape\n",
    "        Dense(20, activation=relu, name=\"L1\"),\n",
    "        Dense(10, activation=relu, name=\"L2\"),\n",
    "        Dense(5, activation=linear, name=\"L3\"),\n",
    "        \n",
    "        ### END CODE HERE ###\n",
    "    ], name = \"my_model\"\n",
    ")\n",
    "model.compile(loss=tf.keras.losses.SparseCategoricalCrossentropy(from_logits=True))"
   ]
  },
  {
   "cell_type": "code",
   "execution_count": 32,
   "metadata": {},
   "outputs": [],
   "source": [
    "[layer1, layer2, layer3] = model.layers"
   ]
  },
  {
   "cell_type": "code",
   "execution_count": 33,
   "metadata": {},
   "outputs": [
    {
     "name": "stdout",
     "output_type": "stream",
     "text": [
      "W1 shape = (14, 20), b1 shape = (20,)\n",
      "W2 shape = (20, 10), b2 shape = (10,)\n",
      "W3 shape = (10, 5), b3 shape = (5,)\n"
     ]
    }
   ],
   "source": [
    "#### Examine Weights shapes\n",
    "W1,b1 = layer1.get_weights()\n",
    "W2,b2 = layer2.get_weights()\n",
    "W3,b3 = layer3.get_weights()\n",
    "print(f\"W1 shape = {W1.shape}, b1 shape = {b1.shape}\")\n",
    "print(f\"W2 shape = {W2.shape}, b2 shape = {b2.shape}\")\n",
    "print(f\"W3 shape = {W3.shape}, b3 shape = {b3.shape}\")"
   ]
  },
  {
   "cell_type": "code",
   "execution_count": 34,
   "metadata": {},
   "outputs": [
    {
     "name": "stdout",
     "output_type": "stream",
     "text": [
      "Epoch 1/40\n"
     ]
    },
    {
     "name": "stdout",
     "output_type": "stream",
     "text": [
      "589/589 [==============================] - 2s 2ms/step - loss: 4426.9507\n",
      "Epoch 2/40\n",
      "589/589 [==============================] - 1s 2ms/step - loss: 1.5204\n",
      "Epoch 3/40\n",
      "589/589 [==============================] - 1s 2ms/step - loss: 1.4844\n",
      "Epoch 4/40\n",
      "589/589 [==============================] - 3s 5ms/step - loss: 1.4664\n",
      "Epoch 5/40\n",
      "589/589 [==============================] - 2s 3ms/step - loss: 1.4586\n",
      "Epoch 6/40\n",
      "589/589 [==============================] - 2s 3ms/step - loss: 1.4556\n",
      "Epoch 7/40\n",
      "589/589 [==============================] - 1s 2ms/step - loss: 1.4546\n",
      "Epoch 8/40\n",
      "589/589 [==============================] - 2s 4ms/step - loss: 1.4542\n",
      "Epoch 9/40\n",
      "589/589 [==============================] - 1s 2ms/step - loss: 1.4540\n",
      "Epoch 10/40\n",
      "589/589 [==============================] - 1s 1ms/step - loss: 1.4540\n",
      "Epoch 11/40\n",
      "589/589 [==============================] - 1s 1ms/step - loss: 1.4540\n",
      "Epoch 12/40\n",
      "589/589 [==============================] - 1s 1ms/step - loss: 1.4540\n",
      "Epoch 13/40\n",
      "589/589 [==============================] - 1s 1ms/step - loss: 1.4540\n",
      "Epoch 14/40\n",
      "589/589 [==============================] - 1s 2ms/step - loss: 1.4540\n",
      "Epoch 15/40\n",
      "589/589 [==============================] - 1s 2ms/step - loss: 1.4540\n",
      "Epoch 16/40\n",
      "589/589 [==============================] - 1s 1ms/step - loss: 1.4540\n",
      "Epoch 17/40\n",
      "589/589 [==============================] - 1s 1ms/step - loss: 1.4540\n",
      "Epoch 18/40\n",
      "589/589 [==============================] - 1s 1ms/step - loss: 1.4540\n",
      "Epoch 19/40\n",
      "589/589 [==============================] - 1s 1ms/step - loss: 1.4540\n",
      "Epoch 20/40\n",
      "589/589 [==============================] - 1s 1ms/step - loss: 1.4540\n",
      "Epoch 21/40\n",
      "589/589 [==============================] - 1s 1ms/step - loss: 1.4540\n",
      "Epoch 22/40\n",
      "589/589 [==============================] - 1s 1ms/step - loss: 1.4540\n",
      "Epoch 23/40\n",
      "589/589 [==============================] - 1s 1ms/step - loss: 1.4540\n",
      "Epoch 24/40\n",
      "589/589 [==============================] - 1s 1ms/step - loss: 1.4540\n",
      "Epoch 25/40\n",
      "589/589 [==============================] - 1s 1ms/step - loss: 1.4540\n",
      "Epoch 26/40\n",
      "589/589 [==============================] - 1s 1ms/step - loss: 1.4540\n",
      "Epoch 27/40\n",
      "589/589 [==============================] - 1s 1ms/step - loss: 1.4540\n",
      "Epoch 28/40\n",
      "589/589 [==============================] - 1s 1ms/step - loss: 1.4540\n",
      "Epoch 29/40\n",
      "589/589 [==============================] - 2s 3ms/step - loss: 1.4540\n",
      "Epoch 30/40\n",
      "589/589 [==============================] - 2s 3ms/step - loss: 1.4540\n",
      "Epoch 31/40\n",
      "589/589 [==============================] - 4s 6ms/step - loss: 1.4540\n",
      "Epoch 32/40\n",
      "589/589 [==============================] - 2s 3ms/step - loss: 1.4540\n",
      "Epoch 33/40\n",
      "589/589 [==============================] - 2s 3ms/step - loss: 1.4540\n",
      "Epoch 34/40\n",
      "589/589 [==============================] - 1s 2ms/step - loss: 1.4540\n",
      "Epoch 35/40\n",
      "589/589 [==============================] - 1s 2ms/step - loss: 1.4540\n",
      "Epoch 36/40\n",
      "589/589 [==============================] - 2s 4ms/step - loss: 1.4540\n",
      "Epoch 37/40\n",
      "589/589 [==============================] - 1s 1ms/step - loss: 1.4540\n",
      "Epoch 38/40\n",
      "589/589 [==============================] - 1s 1ms/step - loss: 1.4540\n",
      "Epoch 39/40\n",
      "589/589 [==============================] - 1s 1ms/step - loss: 1.4540\n",
      "Epoch 40/40\n",
      "589/589 [==============================] - 1s 2ms/step - loss: 1.4540\n"
     ]
    }
   ],
   "source": [
    "model.compile(\n",
    "    loss=tf.keras.losses.SparseCategoricalCrossentropy(from_logits=True),\n",
    "    optimizer=tf.keras.optimizers.Adam(learning_rate=0.0005),\n",
    ")\n",
    "\n",
    "history = model.fit(\n",
    "    X,y,\n",
    "    epochs=40\n",
    ")"
   ]
  },
  {
   "cell_type": "code",
   "execution_count": 35,
   "metadata": {},
   "outputs": [
    {
     "data": {
      "application/vnd.jupyter.widget-view+json": {
       "model_id": "f827711bf11d4922b1760f8d53cd78d1",
       "version_major": 2,
       "version_minor": 0
      },
      "image/png": "[encoded data removed]",
      "text/html": [
       "\n",
       "            <div style=\"display: inline-block;\">\n",
       "                <div class=\"jupyter-widgets widget-label\" style=\"text-align: center;\">\n",
       "                    Figure\n",
       "                </div>\n",
       "                <img src='data:image/png;base64,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' width=500.0/>\n",
       "            </div>\n",
       "        "
      ],
      "text/plain": [
       "Canvas(toolbar=Toolbar(toolitems=[('Home', 'Reset original view', 'home', 'home'), ('Back', 'Back to previous …"
      ]
     },
     "metadata": {},
     "output_type": "display_data"
    }
   ],
   "source": [
    "fig,ax = plt.subplots(1,1, figsize = (5,5))\n",
    "ax.plot(history.history['loss'], label='loss')\n",
    "ax.set_ylim([0, 10])\n",
    "ax.set_xlabel('Epoch')\n",
    "ax.set_ylabel('loss (cost)')\n",
    "ax.legend()\n",
    "ax.grid(True)\n",
    "plt.show()"
   ]
  },
  {
   "cell_type": "code",
   "execution_count": 44,
   "metadata": {},
   "outputs": [
    {
     "data": {
      "text/plain": [
       "song_name                 No One Knows\n",
       "song_duration_ms                255066\n",
       "acousticness                    0.0137\n",
       "danceability                     0.518\n",
       "energy                           0.538\n",
       "instrumentalness              0.000398\n",
       "key                                  0\n",
       "liveness                         0.141\n",
       "loudness                        -5.818\n",
       "audio_mode                           1\n",
       "speechiness                     0.0486\n",
       "tempo                          170.953\n",
       "time_signature                       4\n",
       "audio_valence                    0.687\n",
       "track_popularity_label               0\n",
       "Name: 22, dtype: object"
      ]
     },
     "execution_count": 44,
     "metadata": {},
     "output_type": "execute_result"
    }
   ],
   "source": [
    "df.loc[df['track_popularity_label'].idxmin()]"
   ]
  },
  {
   "cell_type": "code",
   "execution_count": 45,
   "metadata": {},
   "outputs": [
    {
     "name": "stdout",
     "output_type": "stream",
     "text": [
      "(14,)\n",
      "1/1 [==============================] - 0s 32ms/step\n"
     ]
    },
    {
     "name": "stdout",
     "output_type": "stream",
     "text": [
      " predicting a Two: \n",
      "[[-0.5858788  -0.14442287  0.66784763  0.60449785 -0.75226223]]\n",
      " Largest Prediction index: 2\n"
     ]
    }
   ],
   "source": [
    "Ed_IHE_Remix = X[22]\n",
    "print(Ed_IHE_Remix.shape)\n",
    "prediction = model.predict(Ed_IHE_Remix.reshape(1,14))\n",
    "print(f\" predicting a Two: \\n{prediction}\")  # Moet toch zijn: predicting a Four?\n",
    "print(f\" Largest Prediction index: {np.argmax(prediction)}\")"
   ]
  },
  {
   "cell_type": "code",
   "execution_count": 46,
   "metadata": {},
   "outputs": [
    {
     "name": "stdout",
     "output_type": "stream",
     "text": [
      " predicting a Two. Probability vector: \n",
      "[[0.09810285 0.15254693 0.34369093 0.32259348 0.08306579]]\n",
      "np.argmax(prediction_p): 2\n"
     ]
    }
   ],
   "source": [
    "prediction_p = tf.nn.softmax(prediction)\n",
    "\n",
    "print(f\" predicting a Two. Probability vector: \\n{prediction_p}\") # Moet toch zijn: predicting a Four?\n",
    "yhat = np.argmax(prediction_p)\n",
    "\n",
    "print(f\"np.argmax(prediction_p): {yhat}\")"
   ]
  }
 ],
 "metadata": {
  "kernelspec": {
   "display_name": "base",
   "language": "python",
   "name": "python3"
  },
  "language_info": {
   "codemirror_mode": {
    "name": "ipython",
    "version": 3
   },
   "file_extension": ".py",
   "mimetype": "text/x-python",
   "name": "python",
   "nbconvert_exporter": "python",
   "pygments_lexer": "ipython3",
   "version": "3.11.5"
  }
 },
 "nbformat": 4,
 "nbformat_minor": 2
}
