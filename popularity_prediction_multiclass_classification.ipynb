{
 "cells": [
  {
   "cell_type": "markdown",
   "metadata": {},
   "source": [
    "# Multiclass classification prediction for popularity of a song"
   ]
  },
  {
   "cell_type": "markdown",
   "metadata": {},
   "source": [
    "Import all the packages"
   ]
  },
  {
   "cell_type": "code",
   "execution_count": 94,
   "metadata": {},
   "outputs": [],
   "source": [
    "import numpy as np\n",
    "import pandas as pd\n",
    "import tensorflow as tf\n",
    "from tensorflow.keras.models import Sequential\n",
    "from tensorflow.keras.layers import Dense\n",
    "from tensorflow.keras.activations import linear, relu, sigmoid\n",
    "\n",
    "%matplotlib widget\n",
    "import matplotlib.pyplot as plt\n",
    "\n",
    "import logging\n",
    "logging.getLogger(\"tensorflow\").setLevel(logging.ERROR)\n",
    "tf.autograph.set_verbosity(0)"
   ]
  },
  {
   "cell_type": "markdown",
   "metadata": {},
   "source": [
    "## Import data"
   ]
  },
  {
   "cell_type": "code",
   "execution_count": 95,
   "metadata": {},
   "outputs": [
    {
     "data": {
      "text/html": [
       "<div>\n",
       "<style scoped>\n",
       "    .dataframe tbody tr th:only-of-type {\n",
       "        vertical-align: middle;\n",
       "    }\n",
       "\n",
       "    .dataframe tbody tr th {\n",
       "        vertical-align: top;\n",
       "    }\n",
       "\n",
       "    .dataframe thead th {\n",
       "        text-align: right;\n",
       "    }\n",
       "</style>\n",
       "<table border=\"1\" class=\"dataframe\">\n",
       "  <thead>\n",
       "    <tr style=\"text-align: right;\">\n",
       "      <th></th>\n",
       "      <th>track_artist</th>\n",
       "      <th>track_popularity</th>\n",
       "      <th>track_album_release_date</th>\n",
       "      <th>playlist_genre</th>\n",
       "      <th>playlist_subgenre</th>\n",
       "      <th>danceability</th>\n",
       "      <th>energy</th>\n",
       "      <th>key</th>\n",
       "      <th>loudness</th>\n",
       "      <th>mode</th>\n",
       "      <th>speechiness</th>\n",
       "      <th>acousticness</th>\n",
       "      <th>instrumentalness</th>\n",
       "      <th>liveness</th>\n",
       "      <th>valence</th>\n",
       "      <th>tempo</th>\n",
       "      <th>duration_ms</th>\n",
       "    </tr>\n",
       "  </thead>\n",
       "  <tbody>\n",
       "    <tr>\n",
       "      <th>0</th>\n",
       "      <td>Ed Sheeran</td>\n",
       "      <td>66</td>\n",
       "      <td>2019-06-14</td>\n",
       "      <td>pop</td>\n",
       "      <td>dance pop</td>\n",
       "      <td>0.748</td>\n",
       "      <td>0.916</td>\n",
       "      <td>6</td>\n",
       "      <td>-2.634</td>\n",
       "      <td>1</td>\n",
       "      <td>0.0583</td>\n",
       "      <td>0.1020</td>\n",
       "      <td>0.000000</td>\n",
       "      <td>0.0653</td>\n",
       "      <td>0.518</td>\n",
       "      <td>122.036</td>\n",
       "      <td>194754</td>\n",
       "    </tr>\n",
       "    <tr>\n",
       "      <th>1</th>\n",
       "      <td>Maroon 5</td>\n",
       "      <td>67</td>\n",
       "      <td>2019-12-13</td>\n",
       "      <td>pop</td>\n",
       "      <td>dance pop</td>\n",
       "      <td>0.726</td>\n",
       "      <td>0.815</td>\n",
       "      <td>11</td>\n",
       "      <td>-4.969</td>\n",
       "      <td>1</td>\n",
       "      <td>0.0373</td>\n",
       "      <td>0.0724</td>\n",
       "      <td>0.004210</td>\n",
       "      <td>0.3570</td>\n",
       "      <td>0.693</td>\n",
       "      <td>99.972</td>\n",
       "      <td>162600</td>\n",
       "    </tr>\n",
       "    <tr>\n",
       "      <th>2</th>\n",
       "      <td>Zara Larsson</td>\n",
       "      <td>70</td>\n",
       "      <td>2019-07-05</td>\n",
       "      <td>pop</td>\n",
       "      <td>dance pop</td>\n",
       "      <td>0.675</td>\n",
       "      <td>0.931</td>\n",
       "      <td>1</td>\n",
       "      <td>-3.432</td>\n",
       "      <td>0</td>\n",
       "      <td>0.0742</td>\n",
       "      <td>0.0794</td>\n",
       "      <td>0.000023</td>\n",
       "      <td>0.1100</td>\n",
       "      <td>0.613</td>\n",
       "      <td>124.008</td>\n",
       "      <td>176616</td>\n",
       "    </tr>\n",
       "    <tr>\n",
       "      <th>3</th>\n",
       "      <td>The Chainsmokers</td>\n",
       "      <td>60</td>\n",
       "      <td>2019-07-19</td>\n",
       "      <td>pop</td>\n",
       "      <td>dance pop</td>\n",
       "      <td>0.718</td>\n",
       "      <td>0.930</td>\n",
       "      <td>7</td>\n",
       "      <td>-3.778</td>\n",
       "      <td>1</td>\n",
       "      <td>0.1020</td>\n",
       "      <td>0.0287</td>\n",
       "      <td>0.000009</td>\n",
       "      <td>0.2040</td>\n",
       "      <td>0.277</td>\n",
       "      <td>121.956</td>\n",
       "      <td>169093</td>\n",
       "    </tr>\n",
       "    <tr>\n",
       "      <th>4</th>\n",
       "      <td>Lewis Capaldi</td>\n",
       "      <td>69</td>\n",
       "      <td>2019-03-05</td>\n",
       "      <td>pop</td>\n",
       "      <td>dance pop</td>\n",
       "      <td>0.650</td>\n",
       "      <td>0.833</td>\n",
       "      <td>1</td>\n",
       "      <td>-4.672</td>\n",
       "      <td>1</td>\n",
       "      <td>0.0359</td>\n",
       "      <td>0.0803</td>\n",
       "      <td>0.000000</td>\n",
       "      <td>0.0833</td>\n",
       "      <td>0.725</td>\n",
       "      <td>123.976</td>\n",
       "      <td>189052</td>\n",
       "    </tr>\n",
       "  </tbody>\n",
       "</table>\n",
       "</div>"
      ],
      "text/plain": [
       "       track_artist  track_popularity track_album_release_date playlist_genre  \\\n",
       "0        Ed Sheeran                66               2019-06-14            pop   \n",
       "1          Maroon 5                67               2019-12-13            pop   \n",
       "2      Zara Larsson                70               2019-07-05            pop   \n",
       "3  The Chainsmokers                60               2019-07-19            pop   \n",
       "4     Lewis Capaldi                69               2019-03-05            pop   \n",
       "\n",
       "  playlist_subgenre  danceability  energy  key  loudness  mode  speechiness  \\\n",
       "0         dance pop         0.748   0.916    6    -2.634     1       0.0583   \n",
       "1         dance pop         0.726   0.815   11    -4.969     1       0.0373   \n",
       "2         dance pop         0.675   0.931    1    -3.432     0       0.0742   \n",
       "3         dance pop         0.718   0.930    7    -3.778     1       0.1020   \n",
       "4         dance pop         0.650   0.833    1    -4.672     1       0.0359   \n",
       "\n",
       "   acousticness  instrumentalness  liveness  valence    tempo  duration_ms  \n",
       "0        0.1020          0.000000    0.0653    0.518  122.036       194754  \n",
       "1        0.0724          0.004210    0.3570    0.693   99.972       162600  \n",
       "2        0.0794          0.000023    0.1100    0.613  124.008       176616  \n",
       "3        0.0287          0.000009    0.2040    0.277  121.956       169093  \n",
       "4        0.0803          0.000000    0.0833    0.725  123.976       189052  "
      ]
     },
     "execution_count": 95,
     "metadata": {},
     "output_type": "execute_result"
    }
   ],
   "source": [
    "df = pd.read_csv(\"spotify_data/spotify_songs.csv\")\n",
    "\n",
    "df = df.drop(['track_id','track_name','track_album_id','track_album_name','playlist_id','playlist_name'], axis= 1 ) # These features are not needed for prediction\n",
    "df.head()"
   ]
  },
  {
   "cell_type": "code",
   "execution_count": 96,
   "metadata": {},
   "outputs": [
    {
     "data": {
      "text/plain": [
       "(32833, 17)"
      ]
     },
     "execution_count": 96,
     "metadata": {},
     "output_type": "execute_result"
    }
   ],
   "source": [
    "df.shape"
   ]
  },
  {
   "cell_type": "code",
   "execution_count": 97,
   "metadata": {},
   "outputs": [
    {
     "data": {
      "application/vnd.jupyter.widget-view+json": {
       "model_id": "7225b90b44fd4de98d4d682682f24cb1",
       "version_major": 2,
       "version_minor": 0
      },
      "image/png": "[encoded data removed]",
      "text/html": [
       "\n",
       "            <div style=\"display: inline-block;\">\n",
       "                <div class=\"jupyter-widgets widget-label\" style=\"text-align: center;\">\n",
       "                    Figure\n",
       "                </div>\n",
       "                <img src='data:image/png;base64,iVBORw0KGgoAAAANSUhEUgAAA+gAAAJYCAYAAADxHswlAAAAOXRFWHRTb2Z0d2FyZQBNYXRwbG90bGliIHZlcnNpb24zLjUuMiwgaHR0cHM6Ly9tYXRwbG90bGliLm9yZy8qNh9FAAAACXBIWXMAAA9hAAAPYQGoP6dpAABX0ElEQVR4nO3de1xVVf7/8fdB7gooELfxkrfMxKy0FLXUUMxCKiubHEnTzKbUSM2ypsSZUrPJajSt/HqbyMvMb7JsLBIrNb/eSSyNB2NlogahxkUUAeH8/nA4X4+AehA4C8/r+XjwyLPPWnt/NqzQ99lrr22xWq1WAQAAAAAAp3JzdgEAAAAAAICADgAAAACAEQjoAAAAAAAYgIAOAAAAAIABCOgAAAAAABiAgA4AAAAAgAEI6AAAAAAAGICADgAAAACAAQjoAAAAAAAYgIAOAAAAAIABCOgAAAAAABiAgA4AAAAAgAEI6AAAAAAAGICADgAAAACAAQjoAAAAAAAYgIAOAAAAAIABCOgAAAAAABiAgA4AAAAAgAEI6AAAAAAAGICADgAAAACAAQjoAAAAAAAYgIAOAAAAAIABCOgAAAAAABiAgA4AAAAAgAEI6AAAAAAAGICADgAAAACAAQjoAAAAAAAYgIAOAAAAAIABCOgAAAAAABiAgA4AAAAAgAEI6AAAAAAAGICADgAAAACAAQjoAAAAAAAYgIAOAAAAAIABCOgAAAAAABiAgA4AAAAAgAEI6AAAAAAAGICADgAAAACAAQjoAAAAAAAYgIAOAAAAAIABCOgAAAAAABiAgA4AAAAAgAEI6AAAAAAAGICADgAAAACAAQjoAAAAAAAYgIAOAAAAAIABCOgAAAAAABiAgA4AAAAAgAEI6AAAAAAAGICADgAAAACAAQjoAAAAAAAYgIAOAKgzS5culcVisX15e3srLCxM/fr108yZM5WTk1OpT2JioiwWi0PHOXXqlBITE7VhwwaH+lV1rKuvvlqxsbEO7edili9frjfffLPK9ywWixITE2v1eLXtiy++ULdu3dS4cWNZLBZ99NFHVbb7+eef7X7ebm5uCgoK0p133qmtW7fWb9HVqBiTP//8c63ut6qxNH/+fC1durRWjwMAuLIR0AEAdW7JkiXaunWrUlJS9Pbbb+uGG27Qq6++qo4dO2r9+vV2bR999FGHw9ypU6c0ffp0hwN6TY5VExcK6Fu3btWjjz5a5zXUlNVq1dChQ+Xh4aE1a9Zo69at6tOnzwX7jB8/Xlu3btXXX3+tmTNnas+ePerXr592795dT1XXv6rGEgEdAOAod2cXAAC48kVGRqpbt2621/fdd5+efvpp9e7dW0OGDNH+/fsVGhoqSWrevLmaN29ep/WcOnVKvr6+9XKsi+nRo4dTj38xv/zyi3777Tfde++9io6OvqQ+LVu2tJ1Xr1691K5dO0VHR2v+/PlauHBhXZZb70waSwCAho8r6AAAp2jZsqVef/11nThxQu+++65te1VThb/88kv17dtXQUFB8vHxUcuWLXXffffp1KlT+vnnn3XVVVdJkqZPn26bXj1y5Ei7/X3zzTe6//771axZM7Vt27baY1VYvXq1rr/+enl7e6tNmzb629/+Zvd+dVOlN2zYIIvFYrua37dvX61du1YHDx60m/5doaop7nv37tXdd9+tZs2aydvbWzfccIOWLVtW5XFWrFihF154QREREfL391f//v2VkZFR/Tf+HJs3b1Z0dLT8/Pzk6+urnj17au3atbb3ExMTbaHz2WeflcVi0dVXX31J+z5XRVg/ePCgbdvixYvVpUsXeXt7KzAwUPfee6/S09Pt+o0cOVJNmjTRvn37FB0drcaNG+uqq67SuHHjdOrUKVu7iqn1VV2tvpRbCFJSUnT33XerefPm8vb2Vrt27TR27FgdO3bMrp0jY+nqq6/Wvn37tHHjRtvP/Oqrr1ZhYaGaNm2qsWPHVqrj559/VqNGjfTaa69dsF4AwJWLgA4AcJo777xTjRo10qZNm6pt8/PPP+uuu+6Sp6enFi9erOTkZM2aNUuNGzdWSUmJwsPDlZycLEkaPXq0tm7dqq1bt+rFF1+028+QIUPUrl07/fOf/9Q777xzwbrS0tKUkJCgp59+WqtXr1bPnj311FNP6a9//avD5zh//nz16tVLYWFhttouNK0+IyNDPXv21L59+/S3v/1NH374oa677jqNHDlSs2fPrtT++eef18GDB/U///M/eu+997R//34NHjxYZWVlF6xr48aNuv3225Wfn69FixZpxYoV8vPz0+DBg7Vq1SpJZ6dtf/jhh5L+b9r66tWrHf4e/PDDD5Jk+yBl5syZGj16tDp16qQPP/xQb731lr799ltFRUVp//79dn1LS0t15513Kjo6Wh999JHGjRund999Vw8++KDDdVTnxx9/VFRUlBYsWKB169bppZde0vbt29W7d2+VlpZWan8pY2n16tVq06aNbrzxRtvPfPXq1WrSpIlGjRqlDz74QPn5+XZ95s+fL09PT40aNarWzg0A0LAwxR0A4DSNGzdWcHCwfvnll2rbpKam6vTp03rttdfUpUsX2/Zhw4bZ/ty1a1dJZ6fHVzdlfMSIEZo+ffol1fXLL79o9+7dtuMNGjRIOTk5+stf/qInnnhCvr6+l7QfSbruuuvUtGlTeXl5XdJ09sTERJWUlOirr75SixYtJJ39ICMvL0/Tp0/X2LFjFRAQYLf/pKQk2+tGjRpp6NCh2rlz5wWP99xzz6lZs2basGGDmjRpIkmKjY3VDTfcoMmTJ2vo0KFq3ry5zpw5I8l+2vrFlJeX68yZMyorK9O+ffv0+OOPS5L+8Ic/KC8vT3/5y1905513avny5bY+ffv2Vfv27ZWYmKgPPvjAtr2kpESTJk3ShAkTJEkDBgyQh4eHXnjhBf3v//6vevXqdUk1XUhFfdLZe+579uypvn37qlWrVvrss88UFxdn1/5SxtKNN94oHx8f+fv7V/q+jRs3Tm+99ZaWLFmihIQESdLp06e1ePFiPfTQQwoKCrrscwIANExcQQcAOJXVar3g+zfccIM8PT312GOPadmyZfrpp59qdJz77rvvktt26tTJ7sMA6ewHAgUFBfrmm29qdPxL9eWXXyo6OtoWziuMHDlSp06dqnT1/fzweP3110uyn05+vpMnT2r79u26//77beFcOhvu4+Pjdfjw4UueJl+VZ599Vh4eHvL29lbXrl2VmZmpd99917aae1FRke0WhAotWrTQ7bffri+++KLS/v7whz/Yva74cOarr76qcY3nysnJ0eOPP64WLVrI3d1dHh4eatWqlSRVmnYvOTaWqtKmTRvFxsZq/vz5tvG/fPlyHT9+XOPGjbusfQMAGjYCOgDAaU6ePKnjx48rIiKi2jZt27bV+vXrFRISoieffFJt27ZV27Zt9dZbbzl0rPDw8EtuGxYWVu2248ePO3RcRx0/frzKWiu+R+cf//yrrV5eXpKkoqKiao+Rm5srq9Xq0HEc8dRTT2nnzp1KTU3Vjz/+qKysLD322GN2+63u2Ocf193dvdI51ubPory8XDExMfrwww81ZcoUffHFF9qxY4e2bdsmqervoyNjqTpPPfWU9u/fr5SUFEnS22+/raioKN10002XvW8AQMPFFHcAgNOsXbtWZWVl6tu37wXb3Xrrrbr11ltVVlamXbt2ae7cuUpISFBoaKh+//vfX9KxHHm2enZ2drXbKsKit7e3JKm4uNiu3fkLizkqKChIWVlZlbZX3AYQHBx8WfuXpGbNmsnNza3OjtO8eXO7VfvPVfH9q+7Y5x/3zJkzOn78uF1Iv9SfxaUE+L1792rPnj1aunSpRowYYdtecd98VRwZS9W5/fbbFRkZqXnz5qlJkyb65ptv7G5VAAC4Jq6gAwCcIjMzU5MnT1ZAQECVK1pXpVGjRurevbvefvttSbJNN7+Uq8aO2Ldvn/bs2WO3bfny5fLz87Nd4axYzfzbb7+1a7dmzZpK+/Py8rrk2qKjo/Xll19Wui//73//u3x9fWvlsWyNGzdW9+7d9eGHH9rVVV5erqSkJDVv3lzXXHPNZR+nKlFRUfLx8akURg8fPmyb3n++c+9Jl2S7d73ig53Q0FB5e3tX+ll8/PHHF62nImxXjKEK5z5ZoKYu9nOfMGGC1q5dq6lTpyo0NFQPPPDAZR8TANCwcQUdAFDn9u7dqzNnzujMmTPKycnR119/rSVLlqhRo0ZavXq1bXXvqrzzzjv68ssvddddd6lly5a2xbQkqX///pIkPz8/tWrVSh9//LGio6MVGBio4ODgGj0STDo71TouLk6JiYkKDw9XUlKSUlJS9Oqrr9oWiLv55pvVoUMHTZ48WWfOnFGzZs20evVqbd68udL+OnfurA8//FALFixQ165d5ebmVu0V5mnTpunf//63+vXrp5deekmBgYH64IMPtHbtWs2ePdtugbjLMXPmTA0YMED9+vXT5MmT5enpqfnz52vv3r1asWJFrVwlrkrTpk314osv6vnnn9fDDz+shx56SMePH9f06dPl7e2tadOm2bX39PTU66+/rsLCQt18883asmWLXn75ZQ0aNEi9e/eWdDZkDx8+XIsXL1bbtm3VpUsX7dixw24Ruupce+21atu2rZ577jlZrVYFBgbqk08+sU09vxydO3fWypUrtWrVKrVp00be3t7q3Lmz7f3hw4dr6tSp2rRpk/70pz/J09Pzso8JAGjYCOgAgDr3yCOPSDobtpo2baqOHTvq2Wef1aOPPnrBcC6dXSRu3bp1mjZtmrKzs9WkSRNFRkZqzZo1iomJsbVbtGiRnnnmGcXFxam4uFgjRoyo8rnYl+KGG27QI488omnTpmn//v2KiIjQnDlz9PTTT9vaNGrUSJ988onGjRunxx9/XF5eXvr973+vefPm6a677rLb31NPPaV9+/bp+eefV35+vqxWa7WL43Xo0EFbtmzR888/ryeffFJFRUXq2LGjlixZUmlhtcvRp08fffnll5o2bZpGjhyp8vJydenSRWvWrFFsbGytHacqU6dOVUhIiP72t79p1apV8vHxUd++fTVjxgy1b9/erq2Hh4f+/e9/a8KECXr55Zfl4+OjMWPGVHpW+Ouvvy5Jmj17tgoLC3X77bfr3//+90U/pPHw8NAnn3yip556SmPHjpW7u7v69++v9evXq2XLlpd1ntOnT1dWVpbGjBmjEydOqFWrVvr5559t7/v4+Gjw4MFKSkqyW0keAOC6LNaLLZ8LAADgBCNHjtT/+3//T4WFhc4upU6UlJTo6quvVu/evfWPf/zD2eUAAAzAFXQAAIB6dPToUWVkZGjJkiX69ddf9dxzzzm7JACAIQjoAAAA9Wjt2rV65JFHFB4ervnz5/NoNQCADVPcAQAAAAAwAI9ZAwAAAADAAAR0AAAAAAAMQEAHAAAAAMAALBLnYsrLy/XLL7/Iz89PFovF2eUAAAAAcBKr1aoTJ04oIiJCbm5cuzUBAd3F/PLLL2rRooWzywAAAABgiEOHDql58+bOLgMioLscPz8/SWf/J/T393dqLaWlpVq3bp1iYmLk4eHh1FrQMDBm4CjGDBzFmIGjGDNwlEljpqCgQC1atLBlBDgfAd3FVExr9/f3NyKg+/r6yt/f3+m/nNAwMGbgKMYMHMWYgaMYM3CUiWOGW1/NwY0GAAAAAAAYgIAOAAAAAIABCOgAAAAAABiAgA4AAAAAgAEI6AAAAAAAGICADgAAAACAAQjoAAAAAAAYgIAOAAAAAIABCOgAAAAAABiAgA4AAAAAgAEI6AAAAAAAGICADgAAAACAAQjoAAAAAAAYgIAOAAAAAIABCOgAAAAAABiAgA4AAAAAgAEI6AAAAAAAGICADgAAAACAAdydXQCwZ88eubk59llRcHCwWrZsWUcVAQAAAED9I6DDaQ4fPixJuu2221RUVORQX29vX2VkpBPSAQAAAFwxCOhwmuPHj//3TwsldXSgZ7pOnx6uY8eOEdABAAAAXDEI6DBAB0k3ObsIAAAAAHAqFokDAAAAAMAABHQAAAAAAAxAQAcAAAAAwAAEdAAAAAAADEBABwAAAADAAAR0AAAAAAAMQEAHAAAAAMAABHQAAAAAAAxAQAcAAAAAwAAEdAAAAAAADEBABwAAAADAAAR0AAAAAAAMQEAHAAAAAMAABHQAAAAAAAxAQAcAAAAAwAAEdAAAAAAADEBABwAAAADAAAR0AAAAAAAMQEAHAAAAAMAABHQAAAAAAAxAQAcAAAAAwAAEdAAAAAAADEBABwAAAADAAAR0AAAAAAAMQEAHAAAAAMAABHQAAAAAAAxAQAcAAAAAwAAEdAAAAAAADEBABwAAAADAAAR0AAAAAAAMQECvBQsWLND1118vf39/+fv7KyoqSp999pntfavVqsTEREVERMjHx0d9+/bVvn377PZRXFys8ePHKzg4WI0bN1ZcXJwOHz5s1yY3N1fx8fEKCAhQQECA4uPjlZeXVx+nCAAAAACoYwT0WtC8eXPNmjVLu3bt0q5du3T77bfr7rvvtoXw2bNna86cOZo3b5527typsLAwDRgwQCdOnLDtIyEhQatXr9bKlSu1efNmFRYWKjY2VmVlZbY2w4YNU1pampKTk5WcnKy0tDTFx8fX+/kCAAAAAGqfu7MLuBIMHjzY7vUrr7yiBQsWaNu2bbruuuv05ptv6oUXXtCQIUMkScuWLVNoaKiWL1+usWPHKj8/X4sWLdL777+v/v37S5KSkpLUokULrV+/XgMHDlR6erqSk5O1bds2de/eXZK0cOFCRUVFKSMjQx06dKjfkwYAAAAA1CoCei0rKyvTP//5T508eVJRUVE6cOCAsrOzFRMTY2vj5eWlPn36aMuWLRo7dqxSU1NVWlpq1yYiIkKRkZHasmWLBg4cqK1btyogIMAWziWpR48eCggI0JYtW6oN6MXFxSouLra9LigokCSVlpaqtLS0tk/fIeXl5ZIkH59ySY7UUi7JR+Xl5U4/B9Svip83P3dcKsYMHMWYgaMYM3CUSWPGhBpgj4BeS7777jtFRUXp9OnTatKkiVavXq3rrrtOW7ZskSSFhobatQ8NDdXBgwclSdnZ2fL09FSzZs0qtcnOzra1CQkJqXTckJAQW5uqzJw5U9OnT6+0fd26dfL19XXsJOvI4sVZkrIc7LVCR44c0ZEjR+qiJBguJSXF2SWggWHMwFGMGTiKMQNHmTBmTp065ewScB4Cei3p0KGD0tLSlJeXp3/9618aMWKENm7caHvfYrHYtbdarZW2ne/8NlW1v9h+pk6dqokTJ9peFxQUqEWLFoqJiZG/v/9Fz6su7d69W1lZWRo1KlxFRTc60HOPpNu0adMmdenSpa7Kg4FKS0uVkpKiAQMGyMPDw9nloAFgzMBRjBk4ijEDR5k0Zipm18IcBPRa4unpqXbt2kmSunXrpp07d+qtt97Ss88+K+nsFfDw8HBb+5ycHNtV9bCwMJWUlCg3N9fuKnpOTo569uxpa/Prr79WOu7Ro0crXZ0/l5eXl7y8vCpt9/DwcPovBDe3s2sUFhW5qajIkVrcJBXJzc3N6ecA5zBh/KJhYczAUYwZOIoxA0eZMGacfXxUxirudcRqtaq4uFitW7dWWFiY3RSWkpISbdy40Ra+u3btKg8PD7s2WVlZ2rt3r61NVFSU8vPztWPHDlub7du3Kz8/39YGAAAAANBwcQW9Fjz//PMaNGiQWrRooRMnTmjlypXasGGDkpOTZbFYlJCQoBkzZqh9+/Zq3769ZsyYIV9fXw0bNkySFBAQoNGjR2vSpEkKCgpSYGCgJk+erM6dO9tWde/YsaPuuOMOjRkzRu+++64k6bHHHlNsbCwruAMAAADAFYCAXgt+/fVXxcfHKysrSwEBAbr++uuVnJysAQMGSJKmTJmioqIiPfHEE8rNzVX37t21bt06+fn52fbxxhtvyN3dXUOHDlVRUZGio6O1dOlSNWrUyNbmgw8+0IQJE2yrvcfFxWnevHn1e7IAAAAAgDpBQK8FixYtuuD7FotFiYmJSkxMrLaNt7e35s6dq7lz51bbJjAwUElJSTUtEwAAAABgMO5BBwAAAADAAAR0AAAAAAAMQEAHAAAAAMAABHQAAAAAAAxAQAcAAAAAwAAEdAAAAAAADEBABwAAAADAAAR0AAAAAAAMQEAHAAAAAMAABHQAAAAAAAxAQAcAAAAAwAAEdAAAAAAADEBABwAAAADAAAR0AAAAAAAMQEAHAAAAAMAABHQAAAAAAAxAQAcAAAAAwAAEdAAAAAAADEBABwAAAADAAAR0AAAAAAAMQEAHAAAAAMAABHQAAAAAAAxAQAcAAAAAwAAEdAAAAAAADEBABwAAAADAAAR0AAAAAAAMQEAHAAAAAMAABHQAAAAAAAxAQAcAAAAAwAAEdAAAAAAADEBABwAAAADAAAR0AAAAAAAMQEAHAAAAAMAABHQAAAAAAAxAQAcAAAAAwAAEdAAAAAAADEBABwAAAADAAAR0AAAAAAAMQEAHAAAAAMAABHQAAAAAAAxAQAcAAAAAwAAEdAAAAAAADEBABwAAAADAAAR0AAAAAAAMQEAHAAAAAMAABHQAAAAAAAxAQAcAAAAAwAAEdAAAAAAADEBABwAAAADAAAR0AAAAAAAMQEAHAAAAAMAABHQAAAAAAAxAQAcAAAAAwAAEdAAAAAAADEBABwAAAADAAAR0AAAAAAAMQECvBTNnztTNN98sPz8/hYSE6J577lFGRoZdm5EjR8pisdh99ejRw65NcXGxxo8fr+DgYDVu3FhxcXE6fPiwXZvc3FzFx8crICBAAQEBio+PV15eXl2fIgAAAACgjhHQa8HGjRv15JNPatu2bUpJSdGZM2cUExOjkydP2rW74447lJWVZfv69NNP7d5PSEjQ6tWrtXLlSm3evFmFhYWKjY1VWVmZrc2wYcOUlpam5ORkJScnKy0tTfHx8fVyngAAAACAuuPu7AKuBMnJyXavlyxZopCQEKWmpuq2226zbffy8lJYWFiV+8jPz9eiRYv0/vvvq3///pKkpKQktWjRQuvXr9fAgQOVnp6u5ORkbdu2Td27d5ckLVy4UFFRUcrIyFCHDh3q6AwBAAAAAHWNgF4H8vPzJUmBgYF22zds2KCQkBA1bdpUffr00SuvvKKQkBBJUmpqqkpLSxUTE2NrHxERocjISG3ZskUDBw7U1q1bFRAQYAvnktSjRw8FBARoy5YtVQb04uJiFRcX214XFBRIkkpLS1VaWlp7J10D5eXlkiQfn3JJjtRSLslH5eXlTj8H1K+Knzc/d1wqxgwcxZiBoxgzcJRJY8aEGmCPgF7LrFarJk6cqN69eysyMtK2fdCgQXrggQfUqlUrHThwQC+++KJuv/12paamysvLS9nZ2fL09FSzZs3s9hcaGqrs7GxJUnZ2ti3QnyskJMTW5nwzZ87U9OnTK21ft26dfH19L+dUa83ixVmSshzstUJHjhzRkSNH6qIkGC4lJcXZJaCBYczAUYwZOIoxA0eZMGZOnTrl7BJwHgJ6LRs3bpy+/fZbbd682W77gw8+aPtzZGSkunXrplatWmnt2rUaMmRItfuzWq2yWCy21+f+ubo255o6daomTpxoe11QUKAWLVooJiZG/v7+l3xedWH37t3KysrSqFHhKiq60YGeeyTdpk2bNqlLly51VR4MVFpaqpSUFA0YMEAeHh7OLgcNAGMGjmLMwFGMGTjKpDFTMbsW5iCg16Lx48drzZo12rRpk5o3b37BtuHh4WrVqpX2798vSQoLC1NJSYlyc3PtrqLn5OSoZ8+etja//vprpX0dPXpUoaGhVR7Hy8tLXl5elbZ7eHg4/ReCm9vZNQqLitxUVORILW6SiuTm5ub0c4BzmDB+0bAwZuAoxgwcxZiBo0wYM84+PipjFfdaYLVaNW7cOH344Yf68ssv1bp164v2OX78uA4dOqTw8HBJUteuXeXh4WE31SUrK0t79+61BfSoqCjl5+drx44dtjbbt29Xfn6+rQ0AAAAAoGHiCnotePLJJ7V8+XJ9/PHH8vPzs90PHhAQIB8fHxUWFioxMVH33XefwsPD9fPPP+v5559XcHCw7r33Xlvb0aNHa9KkSQoKClJgYKAmT56szp0721Z179ixo+644w6NGTNG7777riTpscceU2xsLCu4AwAAAEADR0CvBQsWLJAk9e3b1277kiVLNHLkSDVq1Ejfffed/v73vysvL0/h4eHq16+fVq1aJT8/P1v7N954Q+7u7ho6dKiKiooUHR2tpUuXqlGjRrY2H3zwgSZMmGBb7T0uLk7z5s2r+5MEAAAAANQpAnotsFqtF3zfx8dHn3/++UX34+3trblz52ru3LnVtgkMDFRSUpLDNQIAAAAAzMY96AAAAAAAGICADgAAAACAAQjoAAAAAAAYgIAOAAAAAIABCOgAAAAAABiAgA4AAAAAgAEI6AAAAAAAGICADgAAAACAAQjoAAAAAAAYgIAOAAAAAIABCOgAAAAAABiAgA4AAAAAgAEI6AAAAAAAGICADgAAAACAAQjoAAAAAAAYgIAOAAAAAIABCOgAAAAAABiAgA4AAAAAgAEI6AAAAAAAGICADgAAAACAAQjoAAAAAAAYgIAOAAAAAIABCOgAAAAAABiAgA4AAAAAgAEI6AAAAAAAGICADgAAAACAAQjoAAAAAAAYgIAOAAAAAIABCOgAAAAAABiAgA4AAAAAgAEI6AAAAAAAGICADgAAAACAAQjoAAAAAAAYgIAOAAAAAIABCOgAAAAAABiAgA4AAAAAgAEI6AAAAAAAGICADgAAAACAAQjoAAAAAAAYgIAOAAAAAIABCOgAAAAAABiAgA4AAAAAgAEI6AAAAAAAGICADgAAAACAAQjoAAAAAAAYgIAOAAAAAIABCOgAAAAAABiAgA4AAAAAgAEI6AAAAAAAGICADgAAAACAAQjoAAAAAAAYgIAOAAAAAIABCOgAAAAAABiAgA4AAAAAgAEI6AAAAAAAGICADgAAAACAAQjotWDmzJm6+eab5efnp5CQEN1zzz3KyMiwa2O1WpWYmKiIiAj5+Piob9++2rdvn12b4uJijR8/XsHBwWrcuLHi4uJ0+PBhuza5ubmKj49XQECAAgICFB8fr7y8vLo+RQAAAABAHSOg14KNGzfqySef1LZt25SSkqIzZ84oJiZGJ0+etLWZPXu25syZo3nz5mnnzp0KCwvTgAEDdOLECVubhIQErV69WitXrtTmzZtVWFio2NhYlZWV2doMGzZMaWlpSk5OVnJystLS0hQfH1+v5wsAAAAAqH3uzi7gSpCcnGz3esmSJQoJCVFqaqpuu+02Wa1Wvfnmm3rhhRc0ZMgQSdKyZcsUGhqq5cuXa+zYscrPz9eiRYv0/vvvq3///pKkpKQktWjRQuvXr9fAgQOVnp6u5ORkbdu2Td27d5ckLVy4UFFRUcrIyFCHDh3q98QBAAAAALWGK+h1ID8/X5IUGBgoSTpw4ICys7MVExNja+Pl5aU+ffpoy5YtkqTU1FSVlpbatYmIiFBkZKStzdatWxUQEGAL55LUo0cPBQQE2NoAAAAAABomrqDXMqvVqokTJ6p3796KjIyUJGVnZ0uSQkND7dqGhobq4MGDtjaenp5q1qxZpTYV/bOzsxUSElLpmCEhIbY25ysuLlZxcbHtdUFBgSSptLRUpaWlNTnFWlNeXi5J8vEpl+RILeWSfFReXu70c0D9qvh583PHpWLMwFGMGTiKMQNHmTRmTKgB9gjotWzcuHH69ttvtXnz5krvWSwWu9dWq7XStvOd36aq9hfaz8yZMzV9+vRK29etWydfX98LHru+LF6cJSnLwV4rdOTIER05cqQuSoLhUlJSnF0CGhjGDBzFmIGjGDNwlAlj5tSpU84uAechoNei8ePHa82aNdq0aZOaN29u2x4WFibp7BXw8PBw2/acnBzbVfWwsDCVlJQoNzfX7ip6Tk6OevbsaWvz66+/Vjru0aNHK12drzB16lRNnDjR9rqgoEAtWrRQTEyM/P39L+NsL9/u3buVlZWlUaPCVVR0owM990i6TZs2bVKXLl3qqjwYqLS0VCkpKRowYIA8PDycXQ4aAMYMHMWYgaMYM3CUSWOmYnYtzEFArwVWq1Xjx4/X6tWrtWHDBrVu3dru/datWyssLEwpKSm68cazQbSkpEQbN27Uq6++Kknq2rWrPDw8lJKSoqFDh0qSsrKytHfvXs2ePVuSFBUVpfz8fO3YsUO33HKLJGn79u3Kz8+3hfjzeXl5ycvLq9J2Dw8Pp/9CcHM7uwRCUZGbioocqcVNUpHc3Nycfg5wDhPGLxoWxgwcxZiBoxgzcJQJY8bZx0dlBPRa8OSTT2r58uX6+OOP5efnZ7sfPCAgQD4+PrJYLEpISNCMGTPUvn17tW/fXjNmzJCvr6+GDRtmazt69GhNmjRJQUFBCgwM1OTJk9W5c2fbqu4dO3bUHXfcoTFjxujdd9+VJD322GOKjY1lBXcAAAAAaOAI6LVgwYIFkqS+ffvabV+yZIlGjhwpSZoyZYqKior0xBNPKDc3V927d9e6devk5+dna//GG2/I3d1dQ4cOVVFRkaKjo7V06VI1atTI1uaDDz7QhAkTbKu9x8XFad68eXV7ggAAAACAOkdArwVWq/WibSwWixITE5WYmFhtG29vb82dO1dz586ttk1gYKCSkpJqUiYAAAAAwGA8Bx0AAAAAAAMQ0AEAAAAAMAABHQAAAAAAAxDQAQAAAAAwAAEdAAAAAAADuGxAz8zMrHL1davVqszMTCdUBAAAAABwZS4b0Fu3bq2jR49W2v7bb7+pdevWTqgIAAAAAODKXDagW61WWSyWStsLCwvl7e3thIoAAAAAAK7M3dkF1LeJEydKkiwWi1588UX5+vra3isrK9P27dt1ww03OKk6AAAAAICrcrmAvnv3bklnr6B/99138vT0tL3n6empLl26aPLkyc4qDwAAAADgolwuoH/11VeSpEceeURvvfWW/P39nVwRAAAAAAAuGNArLFmyxNklAAAAAABg47IB/eTJk5o1a5a++OIL5eTkqLy83O79n376yUmVAQAAAABckcsG9EcffVQbN25UfHy8wsPDq1zRHQAAAACA+uKyAf2zzz7T2rVr1atXL2eXAgAAAACA6z4HvVmzZgoMDHR2GQAAAAAASHLhgP6Xv/xFL730kk6dOuXsUgAAAAAAcN0p7q+//rp+/PFHhYaG6uqrr5aHh4fd+998842TKgMAAAAAuCKXDej33HOPs0sAAAAAAMDGZQP6tGnTnF0CAAAAAAA2LnsPOgAAAAAAJnHZK+hubm4XfPZ5WVlZPVYDAAAAAHB1LhvQV69ebfe6tLRUu3fv1rJlyzR9+nQnVQUAAAAAcFUuG9DvvvvuStvuv/9+derUSatWrdLo0aOdUBUAAAAAwFVxD/p5unfvrvXr1zu7DAAAAACAiyGgn6OoqEhz585V8+bNnV0KAAAAAMDFuOwU92bNmtktEme1WnXixAn5+voqKSnJiZUBAAAAAFyRywb0N9980+61m5ubrrrqKnXv3l3NmjVzTlEAAAAAAJflsgF9xIgRzi4BAAAAAAAblw3okpSXl6dFixYpPT1dFotF1113nUaNGqWAgABnlwYAAAAAcDEuu0jcrl271LZtW73xxhv67bffdOzYMc2ZM0dt27bVN9984+zyAAAAAAAuxmWvoD/99NOKi4vTwoUL5e5+9ttw5swZPfroo0pISNCmTZucXCEAAAAAwJW4bEDftWuXXTiXJHd3d02ZMkXdunVzYmUAAAAAAFfkslPc/f39lZmZWWn7oUOH5Ofn54SKAAAAAACuzGUD+oMPPqjRo0dr1apVOnTokA4fPqyVK1fq0Ucf1UMPPeTs8gAAAAAALsZlp7j/9a9/lcVi0cMPP6wzZ85Ikjw8PPTHP/5Rs2bNcnJ1AAAAAABX47IB3dPTU2+99ZZmzpypH3/8UVarVe3atZOvr6+zSwMAAAAAuCCXDegVfH191blzZ2eXAQAAAABwcS4b0E+fPq25c+fqq6++Uk5OjsrLy+3e51noAAAAAID65LIBfdSoUUpJSdH999+vW265RRaLxdklAQAAAABcmMsG9LVr1+rTTz9Vr169nF0KAAAAAACu+5i13/3udzzvHAAAAABgDJcN6K+//rqeffZZHTx40NmlAAAAAADgulPcu3XrptOnT6tNmzby9fWVh4eH3fu//fabkyoDAAAAALgilw3oDz30kI4cOaIZM2YoNDSUReIAAAAAAE7lsgF9y5Yt2rp1q7p06eLsUgAAAAAAcN170K+99loVFRU5uwwAAAAAACS5cECfNWuWJk2apA0bNuj48eMqKCiw+wIAAAAAoD657BT3O+64Q5IUHR1tt91qtcpisaisrMwZZQEAAAAAXJTLBvSvvvqq2vd2795dj5UAAAAAAODCAb1Pnz52r/Pz8/XBBx/of/7nf7Rnzx4lJCQ4pzAAAAAAgEty2XvQK3z55ZcaPny4wsPDNXfuXN15553atWuXs8sCAAAAALgYl7yCfvjwYS1dulSLFy/WyZMnNXToUJWWlupf//qXrrvuOmeXBwAAAABwQS53Bf3OO+/Uddddp++//15z587VL7/8orlz5zq7LAAAAACAi3O5K+jr1q3ThAkT9Mc//lHt27d3djkAAAAAAEhywSvoX3/9tU6cOKFu3bqpe/fumjdvno4ePerssgAAAAAALs7lAnpUVJQWLlyorKwsjR07VitXrtTvfvc7lZeXKyUlRSdOnHB4n5s2bdLgwYMVEREhi8Wijz76yO79kSNHymKx2H316NHDrk1xcbHGjx+v4OBgNW7cWHFxcTp8+LBdm9zcXMXHxysgIEABAQGKj49XXl6ew/UCAAAAAMzjcgG9gq+vr0aNGqXNmzfru+++06RJkzRr1iyFhIQoLi7OoX2dPHlSXbp00bx586ptc8cddygrK8v29emnn9q9n5CQoNWrV2vlypXavHmzCgsLFRsbq7KyMlubYcOGKS0tTcnJyUpOTlZaWpri4+MdO3EAAAAAgJFc7h70qnTo0EGzZ8/WzJkz9cknn2jx4sUO9R80aJAGDRp0wTZeXl4KCwur8r38/HwtWrRI77//vvr37y9JSkpKUosWLbR+/XoNHDhQ6enpSk5O1rZt29S9e3dJ0sKFCxUVFaWMjAx16NDBoZoBAAAAAGZx2SvoVWnUqJHuuecerVmzptb3vWHDBoWEhOiaa67RmDFjlJOTY3svNTVVpaWliomJsW2LiIhQZGSktmzZIknaunWrAgICbOFcknr06KGAgABbGwAAAABAw8UV9HowaNAgPfDAA2rVqpUOHDigF198UbfffrtSU1Pl5eWl7OxseXp6qlmzZnb9QkNDlZ2dLUnKzs5WSEhIpX2HhITY2lSluLhYxcXFttcFBQWSpNLSUpWWltbG6dVYeXm5JMnHp1ySI7WUS/JReXm5088B9avi583PHZeKMQNHMWbgKMYMHGXSmDGhBtgjoNeDBx980PbnyMhIdevWTa1atdLatWs1ZMiQavtZrVZZLBbb63P/XF2b882cOVPTp0+vtH3dunXy9fW91FOoU4sXZ0nKcrDXCh05ckRHjhypi5JguJSUFGeXgAaGMQNHMWbgKMYMHGXCmDl16pSzS8B5COhOEB4erlatWmn//v2SpLCwMJWUlCg3N9fuKnpOTo569uxpa/Prr79W2tfRo0cVGhpa7bGmTp2qiRMn2l4XFBSoRYsWiomJkb+/f22dUo3s3r1bWVlZGjUqXEVFNzrQc4+k27Rp0yZ16dKlrsqDgUpLS5WSkqIBAwbIw8PD2eWgAWDMwFGMGTiKMQNHmTRmKmbXwhwEdCc4fvy4Dh06pPDwcElS165d5eHhoZSUFA0dOlSSlJWVpb1792r27NmSzj4eLj8/Xzt27NAtt9wiSdq+fbvy8/NtIb4qXl5e8vLyqrTdw8PD6b8Q3NzOLoFQVOSmoiJHanGTVCQ3NzennwOcw4Txi4aFMQNHMWbgKMYMHGXCmHH28VEZAb0WFBYW6ocffrC9PnDggNLS0hQYGKjAwEAlJibqvvvuU3h4uH7++Wc9//zzCg4O1r333itJCggI0OjRozVp0iQFBQUpMDBQkydPVufOnW2runfs2FF33HGHxowZo3fffVeS9Nhjjyk2NpYV3AEAAADgCkBArwW7du1Sv379bK8rppSPGDFCCxYs0Hfffae///3vysvLU3h4uPr166dVq1bJz8/P1ueNN96Qu7u7hg4dqqKiIkVHR2vp0qVq1KiRrc0HH3ygCRMm2FZ7j4uLu+Cz1wEAAAAADQcBvRb07dtXVqu12vc///zzi+7D29tbc+fO1dy5c6ttExgYqKSkpBrVCAAAAAAwG89BBwAAAADAAAR0AAAAAAAMQEAHAAAAAMAABHQAAAAAAAxAQAcAAAAAwAAEdAAAAAAADEBABwAAAADAAAR0AAAAAAAMQEAHAAAAAMAABHQAAAAAAAxAQAcAAAAAwAAEdAAAAAAADEBABwAAAADAAAR0AAAAAAAMQEAHAAAAAMAABHQAAAAAAAxAQAcAAAAAwAAEdAAAAAAADEBABwAAAADAAAR0AAAAAAAMQEAHAAAAAMAABHQAAAAAAAxAQAcAAAAAwAAEdAAAAAAADEBABwAAAADAAAR0AAAAAAAMQEAHAAAAAMAABHQAAAAAAAxAQAcAAAAAwAAEdAAAAAAADEBABwAAAADAAAR0AAAAAAAMQEAHAAAAAMAABHQAAAAAAAxAQAcAAAAAwAAEdAAAAAAADEBABwAAAADAAAR0AAAAAAAMQEAHAAAAAMAABHQAAAAAAAxAQAcAAAAAwAAEdAAAAAAADEBABwAAAADAAAR0AAAAAAAMQEAHAAAAAMAABHQAAAAAAAxAQAcAAAAAwAAEdAAAAAAADEBABwAAAADAAAR0AAAAAAAMQEAHAAAAAMAABHQAAAAAAAxAQAcAAAAAwAAEdAAAAAAADEBABwAAAADAAO7OLgAAAOBCMjMzdezYMYf7BQcHq2XLlnVQEQAAdYMr6LVg06ZNGjx4sCIiImSxWPTRRx/ZvW+1WpWYmKiIiAj5+Piob9++2rdvn12b4uJijR8/XsHBwWrcuLHi4uJ0+PBhuza5ubmKj49XQECAAgICFB8fr7y8vDo+OwAAnCczM1MdOnRU165dHf7q0KGjMjMznX0KAABcMgJ6LTh58qS6dOmiefPmVfn+7NmzNWfOHM2bN087d+5UWFiYBgwYoBMnTtjaJCQkaPXq1Vq5cqU2b96swsJCxcbGqqyszNZm2LBhSktLU3JyspKTk5WWlqb4+Pg6Pz8AAJzl2LFjOn36lKQkSakOfCXp9OlTNbryDgCAszDFvRYMGjRIgwYNqvI9q9WqN998Uy+88IKGDBkiSVq2bJlCQ0O1fPlyjR07Vvn5+Vq0aJHef/999e/fX5KUlJSkFi1aaP369Ro4cKDS09OVnJysbdu2qXv37pKkhQsXKioqShkZGerQoUP9nCwA4IrRsKaOd5R0Uz0fEwCA+kVAr2MHDhxQdna2YmJibNu8vLzUp08fbdmyRWPHjlVqaqpKS0vt2kRERCgyMlJbtmzRwIEDtXXrVgUEBNjCuST16NFDAQEB2rJlCwEdAOCQiqnjZ69OO8bb21cZGekOh/SafCCQnp7uUPvasmfPHrm5OTbRkHveAQCXi4Bex7KzsyVJoaGhdttDQ0N18OBBWxtPT081a9asUpuK/tnZ2QoJCam0/5CQEFubqhQXF6u4uNj2uqCgQJJUWlqq0tLSGpxR7SkvL5ck+fiUS3KklnJJPiovL3f6OaB+Vfy8+bnjUjFmqpeTkyOLxSofnyRJjnzImyFpjHJychQeHn7JvQ4fPqyuXW+u0QcCPj4+Ovu7v+7/rqj4u3ngwIEqKipypEx5e/sqNXWnmjdv7lA/NGz8noGjTBozJtQAewT0emKxWOxeW63WStvOd36bqtpfbD8zZ87U9OnTK21ft26dfH19L1Z2vVi8OEtSloO9VujIkSM6cuRIXZQEw6WkpDi7BDQwjJmqrVix4r9/cuR3aRPV9HfwkiWLHGpv74gcq1O6nL8rFi9e7HAfSfr222/17bff1qgvGjZ+z8BRJoyZU6cc/9AUdYuAXsfCwsIknb0Cfu6VhpycHNtV9bCwMJWUlCg3N9fuKnpOTo569uxpa/Prr79W2v/Ro0crXZ0/19SpUzVx4kTb64KCArVo0UIxMTHy9/e/vJO7TLt371ZWVpZGjQpXUdGNDvTcI+k2bdq0SV26dKmr8mCg0tJSpaSkaMCAAfLw8HB2OWgAGDPV27Nnj2677TZJmyQ58ru0Zr+Da368f0gaU2918ncTHMXvGTjKpDFTMbsW5iCg17HWrVsrLCxMKSkpuvHGs3/Rl5SUaOPGjXr11VclSV27dpWHh4dSUlI0dOhQSVJWVpb27t2r2bNnS5KioqKUn5+vHTt26JZbbpEkbd++Xfn5+bYQXxUvLy95eXlV2u7h4eH0XwgV9/YVFbmpqMiRWtwkFcnNzc3p5wDnMGH8omGpzzHTUBZec3Nz++8UbjdJjv8OzsjIcOge7YyMjBoeT5JqXqejf1fwdxNqir+b4CgTxoyzj4/KCOi1oLCwUD/88IPt9YEDB5SWlqbAwEC1bNlSCQkJmjFjhtq3b6/27dtrxowZ8vX11bBhwyRJAQEBGj16tCZNmqSgoCAFBgZq8uTJ6ty5s21V944dO+qOO+7QmDFj9O6770qSHnvsMcXGxrJAHAAYwhkLr9W/LEluGj58uLMLuSSOLjKXkZGhJk2a1FE1AABcGAG9FuzatUv9+vWzva6YUj5ixAgtXbpUU6ZMUVFRkZ544gnl5uaqe/fuWrdunfz8/Gx93njjDbm7u2vo0KEqKipSdHS0li5dqkaNGtnafPDBB5owYYJttfe4uLhqn70OAKh/9s/s7uhAz3SdPj1cx44dq5eV0aXLWR09T2cXYHP0HD+V9GINj1kTNfsgwcfH55x78wEAqF8E9FrQt29fWa3Wat+3WCxKTExUYmJitW28vb01d+5czZ07t9o2gYGBSkpKupxSAQD1on6e2X05V+wvn6PnWN+PS8tTzT5ISL6so9bkgw8ezwYAqEBABwCggar5FXup/q9oO0t9fZBQ86n/Def2BgBAXSOgAwAahJpM5S4vL6+jakxTkyv29X1F+0qXp5pdsa/57Q0AgCsPAR0AYLyaTuWuuJ/4888/V0REhEN9mXaMmqmf2xsAAFcmAjoAwHg1n8q9WZJsC3A6whnTjh29f7nmC70BAAATEdABAA1ITe8nXiizpx03rEeXAQCAukFABwC4gA4ye9pxnhrGo8tgkpo+Yo/bNwDAXAR0AACMYfqjy2CKy3nEHqvGA4C5COgAAFSDe8Jhqpqvy8Cq8QBgMgI6AACVcE846lfNPwxi1XgAuJIQ0AEAqCRP3BOO+sGHQQCA/0NABwCgWtwTjrqWJ2d8GFST2zFYXA4A6h4BHQBQr2qy8jT3duPKV18fBtX8ij2LywFA3SOgAwDqzeWsPA2gNuSpZlfsWVwOAOoDAR0AUG9qvvI093YDtYvF5QDARAR0AIATcG83AADA+dycXQAAAAAAACCgAwAAAABgBKa4AwBqhNXYAddT0/+HeUQbAFwaAjoAwGGsxg64mpo/nk3iEW0AcKkI6AAAh7EaO+Bq8lSzx7NJPKINAC4dAR0AcBlYjR1wLTyeDQDqEovEAQAAAABgAAI6AAAAAAAGIKADAAAAAGAAAjoAAAAAAAYgoAMAAAAAYAACOgAAAAAABiCgAwAAAABgAAI6AAAAAAAGcHd2AQAA58rMzNSxY8cc6pOenl5H1QAAALguAjoAuLDMzEx16NBRp0+fcnYpAAAALo+ADgAu7NixY/8N50mSOjrQ81NJL9ZNUQAAAC6KgI4GqyZTbIODg9WyZcs6qAZo6DpKusmB9kxxBwAAqG0EdDRAWZLcNHz4cId7env7KiMjnZAOAAAAwDgEdDRAeZLK5fiU3HSdPj1cx44dI6ADAFDPmPkGABdHQEcD5uiUXAAAUP+Y+QYAl4qADgAAgDqUJ2a+AcClIaADwBWC55kDMBsz3wDgYgjoAHAF4HnmAPB/avKBpcQ97wCcj4AOAFcAnmcO4Erl6EyfrKws3XffAyouLnL4WNzzDsDZCOgAcEXheeYArhQ1X1zuLO55B9DwENABAABgoDzVbHG5iplB3PMOoOEhoAMAAMBgzAwC4DrcnF0AAAAAAAAgoAMAAAAAYAQCOgAAAAAABiCgAwAAAABgAAI6AAAAAAAGIKADAAAAAGAAAjoAAAAAAAYgoAMAAAAAYAACOgAAAAAABiCgAwAAAABgAAI6AAAAAAAGcHd2AQBwJcrMzNSxY8cc7hccHCxJDvdNT093+FgAAAAwCwEdAGpZZmamOnToqNOnTznc18vLW5JFxcVFtV8YAAAAjMYU93qSmJgoi8Vi9xUWFmZ732q1KjExUREREfLx8VHfvn21b98+u30UFxdr/PjxCg4OVuPGjRUXF6fDhw/X96kAuIhjx479N5wnSUp14CtJxcWn/xvOHe37l/o6PQAAANQRrqDXo06dOmn9+vW2140aNbL9efbs2ZozZ46WLl2qa665Ri+//LIGDBigjIwM+fn5SZISEhL0ySefaOXKlQoKCtKkSZMUGxur1NRUu30BMEVHSTfVU1+muAMAADR0BPR65O7ubnfVvILVatWbb76pF154QUOGDJEkLVu2TKGhoVq+fLnGjh2r/Px8LVq0SO+//7769+8vSUpKSlKLFi20fv16DRw4sF7PBQAAAABQu5jiXo/279+viIgItW7dWr///e/1008/SZIOHDig7OxsxcTE2Np6eXmpT58+2rJliyQpNTVVpaWldm0iIiIUGRlpawMAAAAAaLi4gl5Punfvrr///e+65ppr9Ouvv+rll19Wz549tW/fPmVnZ0uSQkND7fqEhobq4MGDkqTs7Gx5enqqWbNmldpU9K9KcXGxiouLba8LCgokSaWlpSotLa2Vc6up8vJySZKPT7kkR2vxkeRov3JJPiovL3f6uaNmKn5upv/8ysvL5eNT8zH6f3+uj/8vrux+Pj4V/zW7Tuf0c8Yxze/HmKmLfs44Zv39O6Gh/N0Ec5g0ZkyoAfYsVqvV6uwiXNHJkyfVtm1bTZkyRT169FCvXr30yy+/KDw83NZmzJgxOnTokJKTk7V8+XI98sgjdmFbkgYMGKC2bdvqnXfeqfI4iYmJmj59eqXty5cvl6+vb+2eFAAAAIAG49SpUxo2bJjy8/Pl7+/v7HIgrqA7TePGjdW5c2ft379f99xzj6SzV8nPDeg5OTm2q+phYWEqKSlRbm6u3VX0nJwc9ezZs9rjTJ06VRMnTrS9LigoUIsWLRQTE+P0/wl3796trKwsjRoVrqKiGx3o+Q9JYyRtktTFgX57JN2mTZs2qUsXR/rBFKWlpUpJSdGAAQPk4eFRL8c8fPiwjh8/7lCfjIwMjRlT8zF6lqN9a/r/xZXdz8fnH1q8uEk9/p5pKP2cccyG0Y8xU9v9nHHMmvb7XNLvdfZK+qXz8fHR4sWL1alTJ7Vq1cqhvnBNzvj3THUqZtfCHAR0JykuLlZ6erpuvfVWtW7dWmFhYUpJSdGNN579x0BJSYk2btyoV199VZLUtWtXeXh4KCUlRUOHDpUkZWVlae/evZo9e3a1x/Hy8pKXl1el7R4eHk7/heDmdnYJhKIiNxUVOVpLkc4uoeBIPzdJRcrIyLAd2xHBwcFq2bKlw/1Q++pr/GZmZuq66yJr9Dzzs2o2RmvWV6rZ/xeu0K8+f880pH7OOGZD6ceYqd1+zjhmTfrlSzqps4+57OhAv7NP0cjLy1O7du0c6AdXZ8K/x519fFRGQK8nkydP1uDBg9WyZUvl5OTo5ZdfVkFBgUaMGCGLxaKEhATNmDFD7du3V/v27TVjxgz5+vpq2LBhkqSAgACNHj1akyZNUlBQkAIDAzV58mR17tzZtqo7LiZLkpuGDx9eo97e3r7KyEgnpLsQ++eZO/KPtU8lvVg3RQEA6pijj7ksl3SkjmoB4GoI6PXk8OHDeuihh3Ts2DFdddVV6tGjh7Zt22abCjVlyhQVFRXpiSeeUG5urrp3765169bZnoEuSW+88Ybc3d01dOhQFRUVKTo6WkuXLuUZ6JcsT2f/EnU0bElSuk6fHq5jx44R0F0SzyQHAABA3SOg15OVK1de8H2LxaLExEQlJiZW28bb21tz587V3Llza7k6V+No2AIAAACAukdAB+AUmZmZOnbsmEN9Kh7NBwAAAFyJCOgA6l1mZqY6dOjo8OJrPj4+WrFihT7//HNFREQ41JdF/gAAAGA6AjqAelfzxdc2S5JtHQZHeHl561//+n92jzK8mPR07iUHAABA/SGgA7gsNZmq/n/Bt6aLry2UY8H+axUXT1RsbKwDfQAAAID6RUAHUGM1nap++TrI8WBfkxX8eVwaAAAA6g8BHUCNNbznhPO4NAAAAJiLgA6gFhB8AQAAgMtFQAfqWE3u0ZZYdRwAAABwNQR0oA5dzj3a3t6+yshIr7eQfnmLvQEAAAC4XAR0wAGOBtL09PQa3qOdrtOnh+vYsWP1EtCdt9gbAAAAgAoEdOCSZEly0/Dhw2vY39F7tOtXw1vsDQAAALjyENCBS5KnhvKYLuc8lxwAAADA5SKgAw4xO8AyVR0AAABouAjowBWEqeoAAABAw0VABwxWk0XpzjL7Sj8AAFeajIwMubm5OdSHR6oCOB8BHTDS5S5KBwAA6ke2JGnMmDEqKipyqGd9P1IVgPkI6ICR8tRQFqUDAMC15UtqImmhTH6kKoCGgYAOGI2p6gAANAwdZPIjVQE0DI7dKAMAAAAAAOoEV9ABAAAAJ3F0QViJxeWAKxkBHQAAAKh3NV8QlsXlgCsXAR0AAACod3mq2YKwLC4HXMkI6AAAAIDTOLogLIArGYvEAQAAAABgAAI6AAAAAAAGIKADAAAAAGAAAjoAAAAAAAYgoAMAAAAAYABWcQcAAAAamPT0dIf7BAcH82g2wHAEdAAAAKDByJLkpuHDhzvc09vbVxkZ6YR0wGAEdAAAAKDByJNULilJZ5+hfqnSdfr0cB07doyADhiMgA4AAAA0OB0l3eTsIgDUMhaJAwAAAADAAAR0AAAAAAAMQEAHAAAAAMAABHQAAAAAAAzAInEAAACAi+D56YDZCOgAAADAFY/npwMNAQEdAAAAuOLlieenA+YjoAMAAAAug+enAyZjkTgAAAAAAAxAQAcAAAAAwABMcQcAAABwQaz+DtQPAjoAAACAarD6O1CfCOgAAAAAqpGny1n9/euvv1bHjo7048o7XBsBHQAAAMBFOLr6O1fegZogoAMAAACoZXniueuA4wjoAAAAAOoIz10HHMFj1gAAAAAAMAABHQAAAAAAAzDFHQAAAIBRavLcdYkV4NHwEdABAAAAGKLmq79LrACPho+ADgAAAMAQearZ6u8SK8DjSkBABwAAAGCYmq/+XpPp8UyNhykI6AAAAACuADWfHl/TqfGZmZk6duyYQ33Ky8sdag/XQkAHAAAAcAXIU82mx9dsanxmZqY6dOio06dPOVSlj4+PVqxYocOHD6t169YO9cWVj4AOAAAA4ApSs+nxjk6NT09P/284d/wDAUk6fvw4AR2VENAboPnz5+u1115TVlaWOnXqpDfffFO33nqrs8sCAAAAGqDLWzne8Q8EyiUdqeGxcKUjoDcwq1atUkJCgubPn69evXrp3Xff1aBBg/T999+zsAUAAADgsDzVbGr8p5JerIuC4MII6A3MnDlzNHr0aD366KOSpDfffFOff/65FixYoJkzZzq5OgAAAKChcvRKuOOrxQMXQ0BvQEpKSpSamqrnnnvObntMTIy2bNlSZZ/i4mIVFxfbXufn50uSfvvtN5WWltZdsZegoKBAp06dkrf3blmthQ70zJDkLSlVUkE99HPGMelXFW/v/Tp1qkMDGDM17bf/v/1Uj8e8svtd+WOG32u13Y8xU9v9nHFMxoxr9nPGMS9nzDRRQUGBjh8/7sDxat+JEyckSVar1al14P9YrPw0GoxffvlFv/vd7/S///u/6tmzp237jBkztGzZMmVkZFTqk5iYqOnTp9dnmQAAAAAakEOHDql58+bOLgPiCnqDZLFY7F5brdZK2ypMnTpVEydOtL0uLy/Xb7/9pqCgoGr71JeCggK1aNFChw4dkr+/v1NrQcPAmIGjGDNwFGMGjmLMwFEmjRmr1aoTJ04oIiLCqXXg/xDQG5Dg4GA1atRI2dnZdttzcnIUGhpaZR8vLy95eXnZbWvatGldlVgj/v7+Tv/lhIaFMQNHMWbgKMYMHMWYgaNMGTMBAQHOLgHncHN2Abh0np6e6tq1q1JSUuy2p6Sk2E15BwAAAAA0PFxBb2AmTpyo+Ph4devWTVFRUXrvvfeUmZmpxx9/3NmlAQAAAAAuAwG9gXnwwQd1/Phx/fnPf1ZWVpYiIyP16aefqlWrVs4uzWFeXl6aNm1apSn4QHUYM3AUYwaOYszAUYwZOIoxgwthFXcAAAAAAAzAPegAAAAAABiAgA4AAAAAgAEI6AAAAAAAGICADgAAAACAAQjocJr58+erdevW8vb2VteuXfX11187uyQYYObMmbr55pvl5+enkJAQ3XPPPcrIyLBrY7ValZiYqIiICPn4+Khv377at2+fkyqGaWbOnCmLxaKEhATbNsYMznfkyBENHz5cQUFB8vX11Q033KDU1FTb+4wZnOvMmTP605/+pNatW8vHx0dt2rTRn//8Z5WXl9vaMGZc26ZNmzR48GBFRETIYrHoo48+snv/UsZHcXGxxo8fr+DgYDVu3FhxcXE6fPhwPZ4FTEBAh1OsWrVKCQkJeuGFF7R7927deuutGjRokDIzM51dGpxs48aNevLJJ7Vt2zalpKTozJkziomJ0cmTJ21tZs+erTlz5mjevHnauXOnwsLCNGDAAJ04ccKJlcMEO3fu1Hvvvafrr7/ebjtjBufKzc1Vr1695OHhoc8++0zff/+9Xn/9dTVt2tTWhjGDc7366qt65513NG/ePKWnp2v27Nl67bXXNHfuXFsbxoxrO3nypLp06aJ58+ZV+f6ljI+EhAStXr1aK1eu1ObNm1VYWKjY2FiVlZXV12nABFbACW655Rbr448/brft2muvtT733HNOqgimysnJsUqybty40Wq1Wq3l5eXWsLAw66xZs2xtTp8+bQ0ICLC+8847zioTBjhx4oS1ffv21pSUFGufPn2sTz31lNVqZcygsmeffdbau3fvat9nzOB8d911l3XUqFF224YMGWIdPny41WplzMCeJOvq1attry9lfOTl5Vk9PDysK1eutLU5cuSI1c3NzZqcnFxvtcP5uIKOeldSUqLU1FTFxMTYbY+JidGWLVucVBVMlZ+fL0kKDAyUJB04cEDZ2dl248fLy0t9+vRh/Li4J598UnfddZf69+9vt50xg/OtWbNG3bp10wMPPKCQkBDdeOONWrhwoe19xgzO17t3b33xxRf6z3/+I0nas2ePNm/erDvvvFMSYwYXdinjIzU1VaWlpXZtIiIiFBkZyRhyMe7OLgCu59ixYyorK1NoaKjd9tDQUGVnZzupKpjIarVq4sSJ6t27tyIjIyXJNkaqGj8HDx6s9xphhpUrVyo1NVW7du2q9B5jBuf76aeftGDBAk2cOFHPP/+8duzYoQkTJsjLy0sPP/wwYwaVPPvss8rPz9e1116rRo0aqaysTK+88ooeeughSfyewYVdyvjIzs6Wp6enmjVrVqkN/z52LQR0OI3FYrF7bbVaK22Daxs3bpy+/fZbbd68udJ7jB9UOHTokJ566imtW7dO3t7e1bZjzKBCeXm5unXrphkzZkiSbrzxRu3bt08LFizQww8/bGvHmEGFVatWKSkpScuXL1enTp2UlpamhIQERUREaMSIEbZ2jBlcSE3GB2PI9TDFHfUuODhYjRo1qvRpYE5OTqVPFuG6xo8frzVr1uirr75S8+bNbdvDwsIkifEDm9TUVOXk5Khr165yd3eXu7u7Nm7cqL/97W9yd3e3jQvGDCqEh4fruuuus9vWsWNH20Kl/J7B+Z555hk999xz+v3vf6/OnTsrPj5eTz/9tGbOnCmJMYMLu5TxERYWppKSEuXm5lbbBq6BgI565+npqa5duyolJcVue0pKinr27OmkqmAKq9WqcePG6cMPP9SXX36p1q1b273funVrhYWF2Y2fkpISbdy4kfHjoqKjo/Xdd98pLS3N9tWtWzf94Q9/UFpamtq0acOYgZ1evXpVenzjf/7zH7Vq1UoSv2dQ2alTp+TmZv/P5kaNGtkes8aYwYVcyvjo2rWrPDw87NpkZWVp7969jCEXwxR3OMXEiRMVHx+vbt26KSoqSu+9954yMzP1+OOPO7s0ONmTTz6p5cuX6+OPP5afn5/t0+aAgAD5+PjYnm89Y8YMtW/fXu3bt9eMGTPk6+urYcOGObl6OIOfn59tjYIKjRs3VlBQkG07Ywbnevrpp9WzZ0/NmDFDQ4cO1Y4dO/Tee+/pvffekyR+z6CSwYMH65VXXlHLli3VqVMn7d69W3PmzNGoUaMkMWYgFRYW6ocffrC9PnDggNLS0hQYGKiWLVtedHwEBARo9OjRmjRpkoKCghQYGKjJkyerc+fOlRY/xRXOaevHw+W9/fbb1latWlk9PT2tN910k+0xWnBtkqr8WrJkia1NeXm5ddq0adawsDCrl5eX9bbbbrN+9913zisaxjn3MWtWK2MGlX3yySfWyMhIq5eXl/Xaa6+1vvfee3bvM2ZwroKCAutTTz1lbdmypdXb29vapk0b6wsvvGAtLi62tWHMuLavvvqqyn+/jBgxwmq1Xtr4KCoqso4bN84aGBho9fHxscbGxlozMzOdcDZwJovVarU66bMBAAAAAADwX9yDDgAAAACAAQjoAAAAAAAYgIAOAAAAAIABCOgAAAAAABiAgA4AAAAAgAEI6AAAAAAAGICADgAAAACAAQjoAAAY4ueff5bFYlFaWpqzS6mRkSNH6p577rns/SxdulRNmza97P0AANDQENABAKiCxWK54NfIkSOdXeIV68EHH9R//vMf2+vExETdcMMNzisIAIB64u7sAgAAMFFWVpbtz6tWrdJLL72kjIwM2zYfHx+79qWlpfLw8Ki3+q5UpaWl8vHxqfT9BQDAFXAFHQCAKoSFhdm+AgICZLFYbK9Pnz6tpk2b6h//+If69u0rb29vJSUl6fjx43rooYfUvHlz+fr6qnPnzlqxYoXdfsvLy/Xqq6+qXbt28vLyUsuWLfXKK69UWUN5ebnGjBmja665RgcPHqyyTcW08unTpyskJET+/v4aO3asSkpKbG2Ki4s1YcIEhYSEyNvbW71799bOnTtt72/YsEEWi0Vr165Vly5d5O3tre7du+u7776ztanqKvabb76pq6++utrvYXJysnr37q2mTZsqKChIsbGx+vHHH23vV0zpP//7eO4U96VLl2r69Onas2ePbfbC0qVLNWrUKMXGxtod78yZMwoLC9PixYurrQkAAJMR0AEAqKFnn31WEyZMUHp6ugYOHKjTp0+ra9eu+ve//629e/fqscceU3x8vLZv327rM3XqVL366qt68cUX9f3332v58uUKDQ2ttO+SkhINHTpUu3bt0ubNm9WqVatq6/jiiy+Unp6ur776SitWrNDq1as1ffp02/tTpkzRv/71Ly1btkzffPON2rVrp4EDB+q3336z288zzzyjv/71r9q5c6dCQkIUFxen0tLSGn9/Tp48qYkTJ2rnzp364osv5ObmpnvvvVfl5eV27c7/Pp7rwQcf1KRJk9SpUydlZWUpKytLDz74oB599FElJyfbzXT49NNPVVhYqKFDh9a4ZgAAnIkp7gAA1FBCQoKGDBlit23y5Mm2P48fP17Jycn65z//qe7du+vEiRN66623NG/ePI0YMUKS1LZtW/Xu3dtuH4WFhbrrrrtUVFSkDRs2KCAg4IJ1eHp6avHixfL19VWnTp305z//Wc8884z+8pe/qKioSAsWLNDSpUs1aNAgSdLChQuVkpKiRYsW6ZlnnrHtZ9q0aRowYIAkadmyZWrevLlWr15d48B733332b1etGiRQkJC9P333ysyMtK2varvYwUfHx81adJE7u7uCgsLs23v2bOnOnTooPfff19TpkyRJC1ZskQPPPCAmjRpUqN6AQBwNq6gAwBQQ926dbN7XVZWpldeeUXXX3+9goKC1KRJE61bt06ZmZmSpPT0dBUXFys6OvqC+33ooYdUWFiodevWXTScS1KXLl3k6+trex0VFaXCwkIdOnRIP/74o0pLS9WrVy/b+x4eHrrllluUnp5ut5+oqCjbnwMDA9WhQ4dKbRzx448/atiwYWrTpo38/f3VunVrSbJ9Pyqc/328VI8++qiWLFkiScrJydHatWs1atSoGtcLAICzEdABAKihxo0b271+/fXX9cYbb2jKlCn68ssvlZaWpoEDB9ruB7/Uhc/uvPNOffvtt9q2bdtl1WexWGS1Wm1/PpfVaq20rbp9SJKbm5ttXxUuNv198ODBOn78uBYuXKjt27fbpvqfe3+8VPn7eKkefvhh/fTTT9q6dauSkpJ09dVX69Zbb63RvgAAMAEBHQCAWvL111/r7rvv1vDhw9WlSxe1adNG+/fvt73fvn17+fj46Isvvrjgfv74xz9q1qxZiouL08aNGy963D179qioqMj2etu2bWrSpImaN2+udu3aydPTU5s3b7a9X1paql27dqljx452+zn3A4Hc3Fz95z//0bXXXitJuuqqq5SdnW0X0i/0vPbjx48rPT1df/rTnxQdHa2OHTsqNzf3oudSFU9PT5WVlVXaHhQUpHvuuUdLlizRkiVL9Mgjj9Ro/wAAmIJ70AEAqCXt2rXTv/71L23ZskXNmjXTnDlzlJ2dbQvC3t7eevbZZzVlyhR5enqqV69eOnr0qPbt26fRo0fb7Wv8+PEqKytTbGysPvvss0r3qZ+rpKREo0eP1p/+9CcdPHhQ06ZN07hx4+Tm5qbGjRvrj3/8o5555hkFBgaqZcuWmj17tk6dOlXpmH/+858VFBSk0NBQvfDCCwoODtY999wjSerbt6+OHj2q2bNn6/7771dycrI+++wz+fv7V1lTs2bNFBQUpPfee0/h4eHKzMzUc889V6Pv69VXX60DBw4oLS1NzZs3l5+fn7y8vCSdneYeGxursrIy2339AAA0VFxBBwCglrz44ou66aabNHDgQPXt21dhYWG2gHtum0mTJumll15Sx44d9eCDDyonJ6fK/SUkJGj69Om68847tWXLlmqPGx0drfbt2+u2227T0KFDNXjwYCUmJtrenzVrlu677z7Fx8frpptu0g8//KDPP/9czZo1s9vPrFmz9NRTT6lr167KysrSmjVr5OnpKUnq2LGj5s+fr7fffltdunTRjh077BbEO5+bm5tWrlyp1NRURUZG6umnn9Zrr712ke9g1e677z7dcccd6tevn6666iq7R9f1799f4eHhGjhwoCIiImq0fwAATGGxnn9DGQAAaDBGjhypvLw8ffTRRzXex4YNG9SvXz/l5ubanj/eUJw6dUoRERFavHhxtSvBAwDQUDDFHQAANDjl5eXKzs7W66+/roCAAMXFxTm7JAAALhsBHQAANDiZmZlq3bq1mjdvrqVLl8rdnX/SAAAaPqa4AwAAAABgABaJAwAAAADAAAR0AAAAAAAMQEAHAAAAAMAABHQAAAAAAAxAQAcAAAAAwAAEdAAAAAAADEBABwAAAADAAAR0AAAAAAAMQEAHAAAAAMAABHQAAAAAAAxAQAcAAAAAwAAEdAAAAAAADEBABwAAAADAAAR0AAAAAAAMQEAHAAAAAMAABHQAAAAAAAxAQAcAAAAAwAAEdAAAAAAADEBABwAAAADAAAR0AAAAAAAMQEAHAAAAAMAABHQAAAAAAAzw/wEF+GrpUScQAQAAAABJRU5ErkJggg==' width=1000.0/>\n",
       "            </div>\n",
       "        "
      ],
      "text/plain": [
       "Canvas(toolbar=Toolbar(toolitems=[('Home', 'Reset original view', 'home', 'home'), ('Back', 'Back to previous …"
      ]
     },
     "metadata": {},
     "output_type": "display_data"
    }
   ],
   "source": [
    "# Plot the distribution of track_popularity\n",
    "plt.figure(figsize=(10,6))\n",
    "plt.hist(df['track_popularity'], bins=50, color='blue', edgecolor='black')\n",
    "plt.title('Distribution of Popularity')\n",
    "plt.xlabel('Track popularity')\n",
    "plt.ylabel('Amount')\n",
    "plt.grid(True)\n",
    "plt.show()"
   ]
  },
  {
   "cell_type": "markdown",
   "metadata": {},
   "source": [
    "### Checking for null or NaN values"
   ]
  },
  {
   "cell_type": "code",
   "execution_count": 98,
   "metadata": {},
   "outputs": [
    {
     "data": {
      "text/plain": [
       "False"
      ]
     },
     "execution_count": 98,
     "metadata": {},
     "output_type": "execute_result"
    }
   ],
   "source": [
    "missing_popularity = df['track_popularity'].isnull().any()\n",
    "\n",
    "missing_popularity"
   ]
  },
  {
   "cell_type": "markdown",
   "metadata": {},
   "source": [
    "## Drop the songs with popularity zero"
   ]
  },
  {
   "cell_type": "code",
   "execution_count": 99,
   "metadata": {},
   "outputs": [],
   "source": [
    "df = df[df['track_popularity'] != 0]"
   ]
  },
  {
   "cell_type": "code",
   "execution_count": 100,
   "metadata": {},
   "outputs": [
    {
     "data": {
      "application/vnd.jupyter.widget-view+json": {
       "model_id": "d4f43b6db80843b0b5811eb368753107",
       "version_major": 2,
       "version_minor": 0
      },
      "image/png": "[encoded data removed]",
      "text/html": [
       "\n",
       "            <div style=\"display: inline-block;\">\n",
       "                <div class=\"jupyter-widgets widget-label\" style=\"text-align: center;\">\n",
       "                    Figure\n",
       "                </div>\n",
       "                <img src='data:image/png;base64,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' width=1000.0/>\n",
       "            </div>\n",
       "        "
      ],
      "text/plain": [
       "Canvas(toolbar=Toolbar(toolitems=[('Home', 'Reset original view', 'home', 'home'), ('Back', 'Back to previous …"
      ]
     },
     "metadata": {},
     "output_type": "display_data"
    }
   ],
   "source": [
    "# Plot the distribution of track_popularity\n",
    "plt.figure(figsize=(10,6))\n",
    "plt.hist(df['track_popularity'], bins=50, color='blue', edgecolor='black')\n",
    "plt.title('Distribution of Popularity')\n",
    "plt.xlabel('Track popularity')\n",
    "plt.ylabel('Amount')\n",
    "plt.grid(True)\n",
    "plt.show()"
   ]
  },
  {
   "cell_type": "code",
   "execution_count": 101,
   "metadata": {},
   "outputs": [
    {
     "name": "stdout",
     "output_type": "stream",
     "text": [
      "<class 'pandas.core.frame.DataFrame'>\n",
      "Int64Index: 30130 entries, 0 to 32832\n",
      "Data columns (total 17 columns):\n",
      " #   Column                    Non-Null Count  Dtype  \n",
      "---  ------                    --------------  -----  \n",
      " 0   track_artist              30130 non-null  object \n",
      " 1   track_popularity          30130 non-null  int64  \n",
      " 2   track_album_release_date  30130 non-null  object \n",
      " 3   playlist_genre            30130 non-null  object \n",
      " 4   playlist_subgenre         30130 non-null  object \n",
      " 5   danceability              30130 non-null  float64\n",
      " 6   energy                    30130 non-null  float64\n",
      " 7   key                       30130 non-null  int64  \n",
      " 8   loudness                  30130 non-null  float64\n",
      " 9   mode                      30130 non-null  int64  \n",
      " 10  speechiness               30130 non-null  float64\n",
      " 11  acousticness              30130 non-null  float64\n",
      " 12  instrumentalness          30130 non-null  float64\n",
      " 13  liveness                  30130 non-null  float64\n",
      " 14  valence                   30130 non-null  float64\n",
      " 15  tempo                     30130 non-null  float64\n",
      " 16  duration_ms               30130 non-null  int64  \n",
      "dtypes: float64(9), int64(4), object(4)\n",
      "memory usage: 4.1+ MB\n"
     ]
    }
   ],
   "source": [
    "df.info()"
   ]
  },
  {
   "cell_type": "markdown",
   "metadata": {},
   "source": [
    "## Divide track_popularity in classes(labels)"
   ]
  },
  {
   "cell_type": "code",
   "execution_count": 102,
   "metadata": {},
   "outputs": [],
   "source": [
    "# Define the bin edges and labels\n",
    "bin_edges = [0, 25, 50, 75, 100]\n",
    "bin_labels = ['Shit', 'Average', 'Hit', 'Monsterhit']\n",
    "\n",
    "# Create a new column 'popularity_label' based on the bins\n",
    "df['track_popularity_label'] = pd.cut(df['track_popularity'], bins=bin_edges, labels=bin_labels, include_lowest=True)"
   ]
  },
  {
   "cell_type": "code",
   "execution_count": 103,
   "metadata": {},
   "outputs": [],
   "source": [
    "df = df.drop(['track_popularity'],axis=1)"
   ]
  },
  {
   "cell_type": "markdown",
   "metadata": {},
   "source": [
    "## Change release date to release year + scale duration to seconds"
   ]
  },
  {
   "cell_type": "code",
   "execution_count": 104,
   "metadata": {},
   "outputs": [],
   "source": [
    "# Release date to years\n",
    "df['track_album_release_date'] = pd.to_datetime(df['track_album_release_date'], errors='coerce')\n",
    "df['release_year'] = df['track_album_release_date'].dt.year\n",
    "\n",
    "df = df.drop(['track_album_release_date'], axis=1)"
   ]
  },
  {
   "cell_type": "code",
   "execution_count": 105,
   "metadata": {},
   "outputs": [],
   "source": [
    "# Track duration from ms to s\n",
    "df['duration_ms'] = df['duration_ms']/1000"
   ]
  },
  {
   "cell_type": "code",
   "execution_count": 106,
   "metadata": {},
   "outputs": [],
   "source": [
    "df = df.rename(columns={'duration_ms': 'duration_s'})"
   ]
  },
  {
   "cell_type": "code",
   "execution_count": 107,
   "metadata": {},
   "outputs": [
    {
     "data": {
      "text/html": [
       "<div>\n",
       "<style scoped>\n",
       "    .dataframe tbody tr th:only-of-type {\n",
       "        vertical-align: middle;\n",
       "    }\n",
       "\n",
       "    .dataframe tbody tr th {\n",
       "        vertical-align: top;\n",
       "    }\n",
       "\n",
       "    .dataframe thead th {\n",
       "        text-align: right;\n",
       "    }\n",
       "</style>\n",
       "<table border=\"1\" class=\"dataframe\">\n",
       "  <thead>\n",
       "    <tr style=\"text-align: right;\">\n",
       "      <th></th>\n",
       "      <th>track_artist</th>\n",
       "      <th>playlist_genre</th>\n",
       "      <th>playlist_subgenre</th>\n",
       "      <th>danceability</th>\n",
       "      <th>energy</th>\n",
       "      <th>key</th>\n",
       "      <th>loudness</th>\n",
       "      <th>mode</th>\n",
       "      <th>speechiness</th>\n",
       "      <th>acousticness</th>\n",
       "      <th>instrumentalness</th>\n",
       "      <th>liveness</th>\n",
       "      <th>valence</th>\n",
       "      <th>tempo</th>\n",
       "      <th>duration_s</th>\n",
       "      <th>track_popularity_label</th>\n",
       "      <th>release_year</th>\n",
       "    </tr>\n",
       "  </thead>\n",
       "  <tbody>\n",
       "    <tr>\n",
       "      <th>0</th>\n",
       "      <td>Ed Sheeran</td>\n",
       "      <td>pop</td>\n",
       "      <td>dance pop</td>\n",
       "      <td>0.748</td>\n",
       "      <td>0.916</td>\n",
       "      <td>6</td>\n",
       "      <td>-2.634</td>\n",
       "      <td>1</td>\n",
       "      <td>0.0583</td>\n",
       "      <td>0.1020</td>\n",
       "      <td>0.000000</td>\n",
       "      <td>0.0653</td>\n",
       "      <td>0.518</td>\n",
       "      <td>122.036</td>\n",
       "      <td>194.754</td>\n",
       "      <td>Hit</td>\n",
       "      <td>2019</td>\n",
       "    </tr>\n",
       "    <tr>\n",
       "      <th>1</th>\n",
       "      <td>Maroon 5</td>\n",
       "      <td>pop</td>\n",
       "      <td>dance pop</td>\n",
       "      <td>0.726</td>\n",
       "      <td>0.815</td>\n",
       "      <td>11</td>\n",
       "      <td>-4.969</td>\n",
       "      <td>1</td>\n",
       "      <td>0.0373</td>\n",
       "      <td>0.0724</td>\n",
       "      <td>0.004210</td>\n",
       "      <td>0.3570</td>\n",
       "      <td>0.693</td>\n",
       "      <td>99.972</td>\n",
       "      <td>162.600</td>\n",
       "      <td>Hit</td>\n",
       "      <td>2019</td>\n",
       "    </tr>\n",
       "    <tr>\n",
       "      <th>2</th>\n",
       "      <td>Zara Larsson</td>\n",
       "      <td>pop</td>\n",
       "      <td>dance pop</td>\n",
       "      <td>0.675</td>\n",
       "      <td>0.931</td>\n",
       "      <td>1</td>\n",
       "      <td>-3.432</td>\n",
       "      <td>0</td>\n",
       "      <td>0.0742</td>\n",
       "      <td>0.0794</td>\n",
       "      <td>0.000023</td>\n",
       "      <td>0.1100</td>\n",
       "      <td>0.613</td>\n",
       "      <td>124.008</td>\n",
       "      <td>176.616</td>\n",
       "      <td>Hit</td>\n",
       "      <td>2019</td>\n",
       "    </tr>\n",
       "    <tr>\n",
       "      <th>3</th>\n",
       "      <td>The Chainsmokers</td>\n",
       "      <td>pop</td>\n",
       "      <td>dance pop</td>\n",
       "      <td>0.718</td>\n",
       "      <td>0.930</td>\n",
       "      <td>7</td>\n",
       "      <td>-3.778</td>\n",
       "      <td>1</td>\n",
       "      <td>0.1020</td>\n",
       "      <td>0.0287</td>\n",
       "      <td>0.000009</td>\n",
       "      <td>0.2040</td>\n",
       "      <td>0.277</td>\n",
       "      <td>121.956</td>\n",
       "      <td>169.093</td>\n",
       "      <td>Hit</td>\n",
       "      <td>2019</td>\n",
       "    </tr>\n",
       "    <tr>\n",
       "      <th>4</th>\n",
       "      <td>Lewis Capaldi</td>\n",
       "      <td>pop</td>\n",
       "      <td>dance pop</td>\n",
       "      <td>0.650</td>\n",
       "      <td>0.833</td>\n",
       "      <td>1</td>\n",
       "      <td>-4.672</td>\n",
       "      <td>1</td>\n",
       "      <td>0.0359</td>\n",
       "      <td>0.0803</td>\n",
       "      <td>0.000000</td>\n",
       "      <td>0.0833</td>\n",
       "      <td>0.725</td>\n",
       "      <td>123.976</td>\n",
       "      <td>189.052</td>\n",
       "      <td>Hit</td>\n",
       "      <td>2019</td>\n",
       "    </tr>\n",
       "  </tbody>\n",
       "</table>\n",
       "</div>"
      ],
      "text/plain": [
       "       track_artist playlist_genre playlist_subgenre  danceability  energy  \\\n",
       "0        Ed Sheeran            pop         dance pop         0.748   0.916   \n",
       "1          Maroon 5            pop         dance pop         0.726   0.815   \n",
       "2      Zara Larsson            pop         dance pop         0.675   0.931   \n",
       "3  The Chainsmokers            pop         dance pop         0.718   0.930   \n",
       "4     Lewis Capaldi            pop         dance pop         0.650   0.833   \n",
       "\n",
       "   key  loudness  mode  speechiness  acousticness  instrumentalness  liveness  \\\n",
       "0    6    -2.634     1       0.0583        0.1020          0.000000    0.0653   \n",
       "1   11    -4.969     1       0.0373        0.0724          0.004210    0.3570   \n",
       "2    1    -3.432     0       0.0742        0.0794          0.000023    0.1100   \n",
       "3    7    -3.778     1       0.1020        0.0287          0.000009    0.2040   \n",
       "4    1    -4.672     1       0.0359        0.0803          0.000000    0.0833   \n",
       "\n",
       "   valence    tempo  duration_s track_popularity_label  release_year  \n",
       "0    0.518  122.036     194.754                    Hit          2019  \n",
       "1    0.693   99.972     162.600                    Hit          2019  \n",
       "2    0.613  124.008     176.616                    Hit          2019  \n",
       "3    0.277  121.956     169.093                    Hit          2019  \n",
       "4    0.725  123.976     189.052                    Hit          2019  "
      ]
     },
     "execution_count": 107,
     "metadata": {},
     "output_type": "execute_result"
    }
   ],
   "source": [
    "df.head()"
   ]
  },
  {
   "cell_type": "code",
   "execution_count": 108,
   "metadata": {},
   "outputs": [
    {
     "name": "stdout",
     "output_type": "stream",
     "text": [
      "<class 'pandas.core.frame.DataFrame'>\n",
      "Int64Index: 30130 entries, 0 to 32832\n",
      "Data columns (total 17 columns):\n",
      " #   Column                  Non-Null Count  Dtype   \n",
      "---  ------                  --------------  -----   \n",
      " 0   track_artist            30130 non-null  object  \n",
      " 1   playlist_genre          30130 non-null  object  \n",
      " 2   playlist_subgenre       30130 non-null  object  \n",
      " 3   danceability            30130 non-null  float64 \n",
      " 4   energy                  30130 non-null  float64 \n",
      " 5   key                     30130 non-null  int64   \n",
      " 6   loudness                30130 non-null  float64 \n",
      " 7   mode                    30130 non-null  int64   \n",
      " 8   speechiness             30130 non-null  float64 \n",
      " 9   acousticness            30130 non-null  float64 \n",
      " 10  instrumentalness        30130 non-null  float64 \n",
      " 11  liveness                30130 non-null  float64 \n",
      " 12  valence                 30130 non-null  float64 \n",
      " 13  tempo                   30130 non-null  float64 \n",
      " 14  duration_s              30130 non-null  float64 \n",
      " 15  track_popularity_label  30130 non-null  category\n",
      " 16  release_year            30130 non-null  int64   \n",
      "dtypes: category(1), float64(10), int64(3), object(3)\n",
      "memory usage: 3.9+ MB\n"
     ]
    }
   ],
   "source": [
    "df.info()"
   ]
  },
  {
   "cell_type": "markdown",
   "metadata": {},
   "source": [
    "## Making the model"
   ]
  },
  {
   "cell_type": "markdown",
   "metadata": {},
   "source": [
    "### Dataset"
   ]
  },
  {
   "cell_type": "code",
   "execution_count": 109,
   "metadata": {},
   "outputs": [],
   "source": [
    "X, y = df.drop('track_popularity_label',axis=1), df['track_popularity_label']"
   ]
  },
  {
   "cell_type": "code",
   "execution_count": 110,
   "metadata": {},
   "outputs": [
    {
     "name": "stdout",
     "output_type": "stream",
     "text": [
      "The shape of X is: (30130, 16)\n",
      "The shape of y is: (30130,)\n"
     ]
    }
   ],
   "source": [
    "print ('The shape of X is: ' + str(X.shape))\n",
    "print ('The shape of y is: ' + str(y.shape))"
   ]
  },
  {
   "cell_type": "code",
   "execution_count": 111,
   "metadata": {},
   "outputs": [],
   "source": [
    "# UNQ_C2\n",
    "# GRADED CELL: Sequential model\n",
    "tf.random.set_seed(1234) # for consistent results\n",
    "model = Sequential(\n",
    "    [\n",
    "        ### START CODE HERE ###\n",
    "\n",
    "        tf.keras.Input(shape=(16,)),    #specify input shape\n",
    "        Dense(15, activation=\"relu\", name=\"L1\"),\n",
    "        Dense(10, activation=\"relu\", name=\"L2\"),\n",
    "        Dense(4, activation=\"linear\", name=\"L3\"),\n",
    "        \n",
    "        ### END CODE HERE ###\n",
    "    ], name = \"my_model\"\n",
    ")\n",
    "model.compile(loss=tf.keras.losses.SparseCategoricalCrossentropy(from_logits=True))"
   ]
  },
  {
   "cell_type": "code",
   "execution_count": 112,
   "metadata": {},
   "outputs": [
    {
     "name": "stdout",
     "output_type": "stream",
     "text": [
      "Model: \"my_model\"\n",
      "_________________________________________________________________\n",
      " Layer (type)                Output Shape              Param #   \n",
      "=================================================================\n",
      " L1 (Dense)                  (None, 15)                255       \n",
      "                                                                 \n",
      " L2 (Dense)                  (None, 10)                160       \n",
      "                                                                 \n",
      " L3 (Dense)                  (None, 4)                 44        \n",
      "                                                                 \n",
      "=================================================================\n",
      "Total params: 459 (1.79 KB)\n",
      "Trainable params: 459 (1.79 KB)\n",
      "Non-trainable params: 0 (0.00 Byte)\n",
      "_________________________________________________________________\n"
     ]
    }
   ],
   "source": [
    "model.summary()"
   ]
  },
  {
   "cell_type": "code",
   "execution_count": 113,
   "metadata": {},
   "outputs": [],
   "source": [
    "[layer1, layer2, layer3] = model.layers"
   ]
  },
  {
   "cell_type": "code",
   "execution_count": 114,
   "metadata": {},
   "outputs": [
    {
     "name": "stdout",
     "output_type": "stream",
     "text": [
      "W1 shape = (16, 15), b1 shape = (15,)\n",
      "W2 shape = (15, 10), b2 shape = (10,)\n",
      "W3 shape = (10, 4), b3 shape = (4,)\n"
     ]
    }
   ],
   "source": [
    "#### Examine Weights shapes\n",
    "W1,b1 = layer1.get_weights()\n",
    "W2,b2 = layer2.get_weights()\n",
    "W3,b3 = layer3.get_weights()\n",
    "print(f\"W1 shape = {W1.shape}, b1 shape = {b1.shape}\")\n",
    "print(f\"W2 shape = {W2.shape}, b2 shape = {b2.shape}\")\n",
    "print(f\"W3 shape = {W3.shape}, b3 shape = {b3.shape}\")"
   ]
  },
  {
   "cell_type": "code",
   "execution_count": 115,
   "metadata": {},
   "outputs": [
    {
     "ename": "ValueError",
     "evalue": "Failed to convert a NumPy array to a Tensor (Unsupported object type float).",
     "output_type": "error",
     "traceback": [
      "\u001b[1;31m---------------------------------------------------------------------------\u001b[0m",
      "\u001b[1;31mValueError\u001b[0m                                Traceback (most recent call last)",
      "\u001b[1;32m~\\AppData\\Local\\Temp\\ipykernel_12540\\4020564122.py\u001b[0m in \u001b[0;36m<module>\u001b[1;34m\u001b[0m\n\u001b[0;32m      4\u001b[0m )\n\u001b[0;32m      5\u001b[0m \u001b[1;33m\u001b[0m\u001b[0m\n\u001b[1;32m----> 6\u001b[1;33m history = model.fit(\n\u001b[0m\u001b[0;32m      7\u001b[0m     \u001b[0mX\u001b[0m\u001b[1;33m,\u001b[0m\u001b[0my\u001b[0m\u001b[1;33m,\u001b[0m\u001b[1;33m\u001b[0m\u001b[1;33m\u001b[0m\u001b[0m\n\u001b[0;32m      8\u001b[0m     \u001b[0mepochs\u001b[0m\u001b[1;33m=\u001b[0m\u001b[1;36m40\u001b[0m\u001b[1;33m\u001b[0m\u001b[1;33m\u001b[0m\u001b[0m\n",
      "\u001b[1;32mc:\\Users\\emile\\anaconda3\\lib\\site-packages\\keras\\src\\utils\\traceback_utils.py\u001b[0m in \u001b[0;36merror_handler\u001b[1;34m(*args, **kwargs)\u001b[0m\n\u001b[0;32m     68\u001b[0m             \u001b[1;31m# To get the full stack trace, call:\u001b[0m\u001b[1;33m\u001b[0m\u001b[1;33m\u001b[0m\u001b[0m\n\u001b[0;32m     69\u001b[0m             \u001b[1;31m# `tf.debugging.disable_traceback_filtering()`\u001b[0m\u001b[1;33m\u001b[0m\u001b[1;33m\u001b[0m\u001b[0m\n\u001b[1;32m---> 70\u001b[1;33m             \u001b[1;32mraise\u001b[0m \u001b[0me\u001b[0m\u001b[1;33m.\u001b[0m\u001b[0mwith_traceback\u001b[0m\u001b[1;33m(\u001b[0m\u001b[0mfiltered_tb\u001b[0m\u001b[1;33m)\u001b[0m \u001b[1;32mfrom\u001b[0m \u001b[1;32mNone\u001b[0m\u001b[1;33m\u001b[0m\u001b[1;33m\u001b[0m\u001b[0m\n\u001b[0m\u001b[0;32m     71\u001b[0m         \u001b[1;32mfinally\u001b[0m\u001b[1;33m:\u001b[0m\u001b[1;33m\u001b[0m\u001b[1;33m\u001b[0m\u001b[0m\n\u001b[0;32m     72\u001b[0m             \u001b[1;32mdel\u001b[0m \u001b[0mfiltered_tb\u001b[0m\u001b[1;33m\u001b[0m\u001b[1;33m\u001b[0m\u001b[0m\n",
      "\u001b[1;32mc:\\Users\\emile\\anaconda3\\lib\\site-packages\\tensorflow\\python\\framework\\constant_op.py\u001b[0m in \u001b[0;36mconvert_to_eager_tensor\u001b[1;34m(value, ctx, dtype)\u001b[0m\n\u001b[0;32m    100\u001b[0m       \u001b[0mdtype\u001b[0m \u001b[1;33m=\u001b[0m \u001b[0mdtypes\u001b[0m\u001b[1;33m.\u001b[0m\u001b[0mas_dtype\u001b[0m\u001b[1;33m(\u001b[0m\u001b[0mdtype\u001b[0m\u001b[1;33m)\u001b[0m\u001b[1;33m.\u001b[0m\u001b[0mas_datatype_enum\u001b[0m\u001b[1;33m\u001b[0m\u001b[1;33m\u001b[0m\u001b[0m\n\u001b[0;32m    101\u001b[0m   \u001b[0mctx\u001b[0m\u001b[1;33m.\u001b[0m\u001b[0mensure_initialized\u001b[0m\u001b[1;33m(\u001b[0m\u001b[1;33m)\u001b[0m\u001b[1;33m\u001b[0m\u001b[1;33m\u001b[0m\u001b[0m\n\u001b[1;32m--> 102\u001b[1;33m   \u001b[1;32mreturn\u001b[0m \u001b[0mops\u001b[0m\u001b[1;33m.\u001b[0m\u001b[0mEagerTensor\u001b[0m\u001b[1;33m(\u001b[0m\u001b[0mvalue\u001b[0m\u001b[1;33m,\u001b[0m \u001b[0mctx\u001b[0m\u001b[1;33m.\u001b[0m\u001b[0mdevice_name\u001b[0m\u001b[1;33m,\u001b[0m \u001b[0mdtype\u001b[0m\u001b[1;33m)\u001b[0m\u001b[1;33m\u001b[0m\u001b[1;33m\u001b[0m\u001b[0m\n\u001b[0m\u001b[0;32m    103\u001b[0m \u001b[1;33m\u001b[0m\u001b[0m\n\u001b[0;32m    104\u001b[0m \u001b[1;33m\u001b[0m\u001b[0m\n",
      "\u001b[1;31mValueError\u001b[0m: Failed to convert a NumPy array to a Tensor (Unsupported object type float)."
     ]
    }
   ],
   "source": [
    "model.compile(\n",
    "    loss=tf.keras.losses.SparseCategoricalCrossentropy(from_logits=True),\n",
    "    optimizer=tf.keras.optimizers.Adam(learning_rate=0.001),\n",
    ")\n",
    "\n",
    "history = model.fit(\n",
    "    X,y,\n",
    "    epochs=40\n",
    ")"
   ]
  }
 ],
 "metadata": {
  "kernelspec": {
   "display_name": "Python 3",
   "language": "python",
   "name": "python3"
  },
  "language_info": {
   "codemirror_mode": {
    "name": "ipython",
    "version": 3
   },
   "file_extension": ".py",
   "mimetype": "text/x-python",
   "name": "python",
   "nbconvert_exporter": "python",
   "pygments_lexer": "ipython3",
   "version": "3.9.13"
  }
 },
 "nbformat": 4,
 "nbformat_minor": 2
}
