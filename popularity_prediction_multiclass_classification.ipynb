{
 "cells": [
  {
   "cell_type": "markdown",
   "metadata": {},
   "source": [
    "# Multiclass classification prediction for popularity of a song"
   ]
  },
  {
   "cell_type": "markdown",
   "metadata": {},
   "source": [
    "Import all the packages"
   ]
  },
  {
   "cell_type": "code",
   "execution_count": 509,
   "metadata": {},
   "outputs": [],
   "source": [
    "import numpy as np\n",
    "import pandas as pd\n",
    "import tensorflow as tf\n",
    "from tensorflow.keras.models import Sequential\n",
    "from tensorflow.keras.layers import Dense\n",
    "from tensorflow.keras.activations import linear, relu\n",
    "\n",
    "%matplotlib widget\n",
    "import matplotlib.pyplot as plt\n",
    "\n",
    "import logging\n",
    "logging.getLogger(\"tensorflow\").setLevel(logging.ERROR)\n",
    "tf.autograph.set_verbosity(0)"
   ]
  },
  {
   "cell_type": "markdown",
   "metadata": {},
   "source": [
    "## Import data"
   ]
  },
  {
   "cell_type": "code",
   "execution_count": 510,
   "metadata": {},
   "outputs": [
    {
     "data": {
      "text/html": [
       "<div>\n",
       "<style scoped>\n",
       "    .dataframe tbody tr th:only-of-type {\n",
       "        vertical-align: middle;\n",
       "    }\n",
       "\n",
       "    .dataframe tbody tr th {\n",
       "        vertical-align: top;\n",
       "    }\n",
       "\n",
       "    .dataframe thead th {\n",
       "        text-align: right;\n",
       "    }\n",
       "</style>\n",
       "<table border=\"1\" class=\"dataframe\">\n",
       "  <thead>\n",
       "    <tr style=\"text-align: right;\">\n",
       "      <th></th>\n",
       "      <th>track_artist</th>\n",
       "      <th>track_popularity</th>\n",
       "      <th>track_album_release_date</th>\n",
       "      <th>playlist_genre</th>\n",
       "      <th>playlist_subgenre</th>\n",
       "      <th>danceability</th>\n",
       "      <th>energy</th>\n",
       "      <th>key</th>\n",
       "      <th>loudness</th>\n",
       "      <th>mode</th>\n",
       "      <th>speechiness</th>\n",
       "      <th>acousticness</th>\n",
       "      <th>instrumentalness</th>\n",
       "      <th>liveness</th>\n",
       "      <th>valence</th>\n",
       "      <th>tempo</th>\n",
       "      <th>duration_ms</th>\n",
       "    </tr>\n",
       "  </thead>\n",
       "  <tbody>\n",
       "    <tr>\n",
       "      <th>0</th>\n",
       "      <td>Ed Sheeran</td>\n",
       "      <td>66</td>\n",
       "      <td>2019-06-14</td>\n",
       "      <td>pop</td>\n",
       "      <td>dance pop</td>\n",
       "      <td>0.748</td>\n",
       "      <td>0.916</td>\n",
       "      <td>6</td>\n",
       "      <td>-2.634</td>\n",
       "      <td>1</td>\n",
       "      <td>0.0583</td>\n",
       "      <td>0.1020</td>\n",
       "      <td>0.000000</td>\n",
       "      <td>0.0653</td>\n",
       "      <td>0.518</td>\n",
       "      <td>122.036</td>\n",
       "      <td>194754</td>\n",
       "    </tr>\n",
       "    <tr>\n",
       "      <th>1</th>\n",
       "      <td>Maroon 5</td>\n",
       "      <td>67</td>\n",
       "      <td>2019-12-13</td>\n",
       "      <td>pop</td>\n",
       "      <td>dance pop</td>\n",
       "      <td>0.726</td>\n",
       "      <td>0.815</td>\n",
       "      <td>11</td>\n",
       "      <td>-4.969</td>\n",
       "      <td>1</td>\n",
       "      <td>0.0373</td>\n",
       "      <td>0.0724</td>\n",
       "      <td>0.004210</td>\n",
       "      <td>0.3570</td>\n",
       "      <td>0.693</td>\n",
       "      <td>99.972</td>\n",
       "      <td>162600</td>\n",
       "    </tr>\n",
       "    <tr>\n",
       "      <th>2</th>\n",
       "      <td>Zara Larsson</td>\n",
       "      <td>70</td>\n",
       "      <td>2019-07-05</td>\n",
       "      <td>pop</td>\n",
       "      <td>dance pop</td>\n",
       "      <td>0.675</td>\n",
       "      <td>0.931</td>\n",
       "      <td>1</td>\n",
       "      <td>-3.432</td>\n",
       "      <td>0</td>\n",
       "      <td>0.0742</td>\n",
       "      <td>0.0794</td>\n",
       "      <td>0.000023</td>\n",
       "      <td>0.1100</td>\n",
       "      <td>0.613</td>\n",
       "      <td>124.008</td>\n",
       "      <td>176616</td>\n",
       "    </tr>\n",
       "    <tr>\n",
       "      <th>3</th>\n",
       "      <td>The Chainsmokers</td>\n",
       "      <td>60</td>\n",
       "      <td>2019-07-19</td>\n",
       "      <td>pop</td>\n",
       "      <td>dance pop</td>\n",
       "      <td>0.718</td>\n",
       "      <td>0.930</td>\n",
       "      <td>7</td>\n",
       "      <td>-3.778</td>\n",
       "      <td>1</td>\n",
       "      <td>0.1020</td>\n",
       "      <td>0.0287</td>\n",
       "      <td>0.000009</td>\n",
       "      <td>0.2040</td>\n",
       "      <td>0.277</td>\n",
       "      <td>121.956</td>\n",
       "      <td>169093</td>\n",
       "    </tr>\n",
       "    <tr>\n",
       "      <th>4</th>\n",
       "      <td>Lewis Capaldi</td>\n",
       "      <td>69</td>\n",
       "      <td>2019-03-05</td>\n",
       "      <td>pop</td>\n",
       "      <td>dance pop</td>\n",
       "      <td>0.650</td>\n",
       "      <td>0.833</td>\n",
       "      <td>1</td>\n",
       "      <td>-4.672</td>\n",
       "      <td>1</td>\n",
       "      <td>0.0359</td>\n",
       "      <td>0.0803</td>\n",
       "      <td>0.000000</td>\n",
       "      <td>0.0833</td>\n",
       "      <td>0.725</td>\n",
       "      <td>123.976</td>\n",
       "      <td>189052</td>\n",
       "    </tr>\n",
       "  </tbody>\n",
       "</table>\n",
       "</div>"
      ],
      "text/plain": [
       "       track_artist  track_popularity track_album_release_date playlist_genre  \\\n",
       "0        Ed Sheeran                66               2019-06-14            pop   \n",
       "1          Maroon 5                67               2019-12-13            pop   \n",
       "2      Zara Larsson                70               2019-07-05            pop   \n",
       "3  The Chainsmokers                60               2019-07-19            pop   \n",
       "4     Lewis Capaldi                69               2019-03-05            pop   \n",
       "\n",
       "  playlist_subgenre  danceability  energy  key  loudness  mode  speechiness  \\\n",
       "0         dance pop         0.748   0.916    6    -2.634     1       0.0583   \n",
       "1         dance pop         0.726   0.815   11    -4.969     1       0.0373   \n",
       "2         dance pop         0.675   0.931    1    -3.432     0       0.0742   \n",
       "3         dance pop         0.718   0.930    7    -3.778     1       0.1020   \n",
       "4         dance pop         0.650   0.833    1    -4.672     1       0.0359   \n",
       "\n",
       "   acousticness  instrumentalness  liveness  valence    tempo  duration_ms  \n",
       "0        0.1020          0.000000    0.0653    0.518  122.036       194754  \n",
       "1        0.0724          0.004210    0.3570    0.693   99.972       162600  \n",
       "2        0.0794          0.000023    0.1100    0.613  124.008       176616  \n",
       "3        0.0287          0.000009    0.2040    0.277  121.956       169093  \n",
       "4        0.0803          0.000000    0.0833    0.725  123.976       189052  "
      ]
     },
     "execution_count": 510,
     "metadata": {},
     "output_type": "execute_result"
    }
   ],
   "source": [
    "df = pd.read_csv(\"spotify_data/spotify_songs.csv\")\n",
    "\n",
    "df = df.drop(['track_id','track_name','track_album_id','track_album_name','playlist_id','playlist_name'], axis= 1 ) # These features are not needed for prediction\n",
    "df.head()"
   ]
  },
  {
   "cell_type": "code",
   "execution_count": 511,
   "metadata": {},
   "outputs": [
    {
     "data": {
      "text/plain": [
       "(32833, 17)"
      ]
     },
     "execution_count": 511,
     "metadata": {},
     "output_type": "execute_result"
    }
   ],
   "source": [
    "df.shape"
   ]
  },
  {
   "cell_type": "code",
   "execution_count": 512,
   "metadata": {},
   "outputs": [
    {
     "data": {
      "application/vnd.jupyter.widget-view+json": {
       "model_id": "2ad6fa107afc47c997e84f2814b75433",
       "version_major": 2,
       "version_minor": 0
      },
      "image/png": "[encoded data removed]",
      "text/html": [
       "\n",
       "            <div style=\"display: inline-block;\">\n",
       "                <div class=\"jupyter-widgets widget-label\" style=\"text-align: center;\">\n",
       "                    Figure\n",
       "                </div>\n",
       "                <img src='data:image/png;base64,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' width=1000.0/>\n",
       "            </div>\n",
       "        "
      ],
      "text/plain": [
       "Canvas(toolbar=Toolbar(toolitems=[('Home', 'Reset original view', 'home', 'home'), ('Back', 'Back to previous …"
      ]
     },
     "metadata": {},
     "output_type": "display_data"
    }
   ],
   "source": [
    "# Plot the distribution of track_popularity\n",
    "plt.figure(figsize=(10,6))\n",
    "plt.hist(df['track_popularity'], bins=50, color='blue', edgecolor='black')\n",
    "plt.title('Distribution of Popularity')\n",
    "plt.xlabel('Track popularity')\n",
    "plt.ylabel('Amount')\n",
    "plt.grid(True)\n",
    "plt.show()"
   ]
  },
  {
   "cell_type": "markdown",
   "metadata": {},
   "source": [
    "### Checking for null or NaN values"
   ]
  },
  {
   "cell_type": "code",
   "execution_count": 513,
   "metadata": {},
   "outputs": [
    {
     "data": {
      "text/plain": [
       "False"
      ]
     },
     "execution_count": 513,
     "metadata": {},
     "output_type": "execute_result"
    }
   ],
   "source": [
    "missing_popularity = df['track_popularity'].isnull().any()\n",
    "\n",
    "missing_popularity"
   ]
  },
  {
   "cell_type": "markdown",
   "metadata": {},
   "source": [
    "## Drop the songs with popularity zero"
   ]
  },
  {
   "cell_type": "code",
   "execution_count": 514,
   "metadata": {},
   "outputs": [],
   "source": [
    "df = df[df['track_popularity'] != 0]"
   ]
  },
  {
   "cell_type": "code",
   "execution_count": 515,
   "metadata": {},
   "outputs": [
    {
     "data": {
      "application/vnd.jupyter.widget-view+json": {
       "model_id": "ace487b8003445acaf915777c644aac9",
       "version_major": 2,
       "version_minor": 0
      },
      "image/png": "[encoded data removed]",
      "text/html": [
       "\n",
       "            <div style=\"display: inline-block;\">\n",
       "                <div class=\"jupyter-widgets widget-label\" style=\"text-align: center;\">\n",
       "                    Figure\n",
       "                </div>\n",
       "                <img src='data:image/png;base64,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' width=1000.0/>\n",
       "            </div>\n",
       "        "
      ],
      "text/plain": [
       "Canvas(toolbar=Toolbar(toolitems=[('Home', 'Reset original view', 'home', 'home'), ('Back', 'Back to previous …"
      ]
     },
     "metadata": {},
     "output_type": "display_data"
    }
   ],
   "source": [
    "# Plot the distribution of track_popularity\n",
    "plt.figure(figsize=(10,6))\n",
    "plt.hist(df['track_popularity'], bins=50, color='blue', edgecolor='black')\n",
    "plt.title('Distribution of Popularity')\n",
    "plt.xlabel('Track popularity')\n",
    "plt.ylabel('Amount')\n",
    "plt.grid(True)\n",
    "plt.show()"
   ]
  },
  {
   "cell_type": "code",
   "execution_count": 516,
   "metadata": {},
   "outputs": [
    {
     "name": "stdout",
     "output_type": "stream",
     "text": [
      "<class 'pandas.core.frame.DataFrame'>\n",
      "Index: 30130 entries, 0 to 32832\n",
      "Data columns (total 17 columns):\n",
      " #   Column                    Non-Null Count  Dtype  \n",
      "---  ------                    --------------  -----  \n",
      " 0   track_artist              30130 non-null  object \n",
      " 1   track_popularity          30130 non-null  int64  \n",
      " 2   track_album_release_date  30130 non-null  object \n",
      " 3   playlist_genre            30130 non-null  object \n",
      " 4   playlist_subgenre         30130 non-null  object \n",
      " 5   danceability              30130 non-null  float64\n",
      " 6   energy                    30130 non-null  float64\n",
      " 7   key                       30130 non-null  int64  \n",
      " 8   loudness                  30130 non-null  float64\n",
      " 9   mode                      30130 non-null  int64  \n",
      " 10  speechiness               30130 non-null  float64\n",
      " 11  acousticness              30130 non-null  float64\n",
      " 12  instrumentalness          30130 non-null  float64\n",
      " 13  liveness                  30130 non-null  float64\n",
      " 14  valence                   30130 non-null  float64\n",
      " 15  tempo                     30130 non-null  float64\n",
      " 16  duration_ms               30130 non-null  int64  \n",
      "dtypes: float64(9), int64(4), object(4)\n",
      "memory usage: 4.1+ MB\n"
     ]
    }
   ],
   "source": [
    "df.info()"
   ]
  },
  {
   "cell_type": "markdown",
   "metadata": {},
   "source": [
    "## Divide track_popularity in classes(labels)"
   ]
  },
  {
   "cell_type": "code",
   "execution_count": 517,
   "metadata": {},
   "outputs": [],
   "source": [
    "# Define the bin edges and labels\n",
    "bin_edges = [0, 20, 40, 60, 80, 100]\n",
    "bin_labels = [0, 1, 2, 3, 4]# ['Trash', 'Flop', 'Average', 'Hit', 'Monsterhit']\n",
    "\n",
    "# Create a new column 'popularity_label' based on the bins\n",
    "df['track_popularity'] = pd.cut(df['track_popularity'], bins=bin_edges, labels=bin_labels, include_lowest=True)\n",
    "df['track_popularity_label'] = df['track_popularity'].astype(int)"
   ]
  },
  {
   "cell_type": "code",
   "execution_count": 518,
   "metadata": {},
   "outputs": [],
   "source": [
    "df = df.drop(['track_popularity'],axis=1)"
   ]
  },
  {
   "cell_type": "markdown",
   "metadata": {},
   "source": [
    "## Change release date to release year + scale duration to seconds"
   ]
  },
  {
   "cell_type": "code",
   "execution_count": 519,
   "metadata": {},
   "outputs": [],
   "source": [
    "# make df['release_year'] a new column that stores the first 4 characters of df['track_album_release_date'] which is of Object type\n",
    "#df['release_year'] = df['track_album_release_date'].astype(str).str[0:4].astype(int)"
   ]
  },
  {
   "cell_type": "code",
   "execution_count": 520,
   "metadata": {},
   "outputs": [],
   "source": [
    "# Release date to years\n",
    "df['track_album_release_date'] = pd.to_datetime(df['track_album_release_date'], errors='coerce')\n",
    "df['release_year'] = (df['track_album_release_date'].dt.year)\n",
    "\n",
    "\n",
    "\n",
    "df = df.drop(['track_album_release_date'], axis=1)"
   ]
  },
  {
   "cell_type": "code",
   "execution_count": 521,
   "metadata": {},
   "outputs": [
    {
     "name": "stdout",
     "output_type": "stream",
     "text": [
      "<class 'pandas.core.frame.DataFrame'>\n",
      "Index: 28466 entries, 0 to 32832\n",
      "Data columns (total 17 columns):\n",
      " #   Column                  Non-Null Count  Dtype  \n",
      "---  ------                  --------------  -----  \n",
      " 0   track_artist            28466 non-null  object \n",
      " 1   playlist_genre          28466 non-null  object \n",
      " 2   playlist_subgenre       28466 non-null  object \n",
      " 3   danceability            28466 non-null  float64\n",
      " 4   energy                  28466 non-null  float64\n",
      " 5   key                     28466 non-null  int64  \n",
      " 6   loudness                28466 non-null  float64\n",
      " 7   mode                    28466 non-null  int64  \n",
      " 8   speechiness             28466 non-null  float64\n",
      " 9   acousticness            28466 non-null  float64\n",
      " 10  instrumentalness        28466 non-null  float64\n",
      " 11  liveness                28466 non-null  float64\n",
      " 12  valence                 28466 non-null  float64\n",
      " 13  tempo                   28466 non-null  float64\n",
      " 14  duration_ms             28466 non-null  int64  \n",
      " 15  track_popularity_label  28466 non-null  int32  \n",
      " 16  release_year            28466 non-null  float64\n",
      "dtypes: float64(10), int32(1), int64(3), object(3)\n",
      "memory usage: 3.8+ MB\n"
     ]
    }
   ],
   "source": [
    "# Drop rows with missing values\n",
    "df.dropna(inplace=True)\n",
    "df.info()"
   ]
  },
  {
   "cell_type": "code",
   "execution_count": 522,
   "metadata": {},
   "outputs": [],
   "source": [
    "# Track duration from ms to s\n",
    "df['duration_ms'] = df['duration_ms']/1000"
   ]
  },
  {
   "cell_type": "code",
   "execution_count": 523,
   "metadata": {},
   "outputs": [],
   "source": [
    "df = df.rename(columns={'duration_ms': 'duration_s'})"
   ]
  },
  {
   "cell_type": "code",
   "execution_count": 524,
   "metadata": {},
   "outputs": [
    {
     "data": {
      "text/html": [
       "<div>\n",
       "<style scoped>\n",
       "    .dataframe tbody tr th:only-of-type {\n",
       "        vertical-align: middle;\n",
       "    }\n",
       "\n",
       "    .dataframe tbody tr th {\n",
       "        vertical-align: top;\n",
       "    }\n",
       "\n",
       "    .dataframe thead th {\n",
       "        text-align: right;\n",
       "    }\n",
       "</style>\n",
       "<table border=\"1\" class=\"dataframe\">\n",
       "  <thead>\n",
       "    <tr style=\"text-align: right;\">\n",
       "      <th></th>\n",
       "      <th>track_artist</th>\n",
       "      <th>playlist_genre</th>\n",
       "      <th>playlist_subgenre</th>\n",
       "      <th>danceability</th>\n",
       "      <th>energy</th>\n",
       "      <th>key</th>\n",
       "      <th>loudness</th>\n",
       "      <th>mode</th>\n",
       "      <th>speechiness</th>\n",
       "      <th>acousticness</th>\n",
       "      <th>instrumentalness</th>\n",
       "      <th>liveness</th>\n",
       "      <th>valence</th>\n",
       "      <th>tempo</th>\n",
       "      <th>duration_s</th>\n",
       "      <th>track_popularity_label</th>\n",
       "      <th>release_year</th>\n",
       "    </tr>\n",
       "  </thead>\n",
       "  <tbody>\n",
       "    <tr>\n",
       "      <th>0</th>\n",
       "      <td>Ed Sheeran</td>\n",
       "      <td>pop</td>\n",
       "      <td>dance pop</td>\n",
       "      <td>0.748</td>\n",
       "      <td>0.916</td>\n",
       "      <td>6</td>\n",
       "      <td>-2.634</td>\n",
       "      <td>1</td>\n",
       "      <td>0.0583</td>\n",
       "      <td>0.1020</td>\n",
       "      <td>0.000000</td>\n",
       "      <td>0.0653</td>\n",
       "      <td>0.518</td>\n",
       "      <td>122.036</td>\n",
       "      <td>194.754</td>\n",
       "      <td>3</td>\n",
       "      <td>2019.0</td>\n",
       "    </tr>\n",
       "    <tr>\n",
       "      <th>1</th>\n",
       "      <td>Maroon 5</td>\n",
       "      <td>pop</td>\n",
       "      <td>dance pop</td>\n",
       "      <td>0.726</td>\n",
       "      <td>0.815</td>\n",
       "      <td>11</td>\n",
       "      <td>-4.969</td>\n",
       "      <td>1</td>\n",
       "      <td>0.0373</td>\n",
       "      <td>0.0724</td>\n",
       "      <td>0.004210</td>\n",
       "      <td>0.3570</td>\n",
       "      <td>0.693</td>\n",
       "      <td>99.972</td>\n",
       "      <td>162.600</td>\n",
       "      <td>3</td>\n",
       "      <td>2019.0</td>\n",
       "    </tr>\n",
       "    <tr>\n",
       "      <th>2</th>\n",
       "      <td>Zara Larsson</td>\n",
       "      <td>pop</td>\n",
       "      <td>dance pop</td>\n",
       "      <td>0.675</td>\n",
       "      <td>0.931</td>\n",
       "      <td>1</td>\n",
       "      <td>-3.432</td>\n",
       "      <td>0</td>\n",
       "      <td>0.0742</td>\n",
       "      <td>0.0794</td>\n",
       "      <td>0.000023</td>\n",
       "      <td>0.1100</td>\n",
       "      <td>0.613</td>\n",
       "      <td>124.008</td>\n",
       "      <td>176.616</td>\n",
       "      <td>3</td>\n",
       "      <td>2019.0</td>\n",
       "    </tr>\n",
       "    <tr>\n",
       "      <th>3</th>\n",
       "      <td>The Chainsmokers</td>\n",
       "      <td>pop</td>\n",
       "      <td>dance pop</td>\n",
       "      <td>0.718</td>\n",
       "      <td>0.930</td>\n",
       "      <td>7</td>\n",
       "      <td>-3.778</td>\n",
       "      <td>1</td>\n",
       "      <td>0.1020</td>\n",
       "      <td>0.0287</td>\n",
       "      <td>0.000009</td>\n",
       "      <td>0.2040</td>\n",
       "      <td>0.277</td>\n",
       "      <td>121.956</td>\n",
       "      <td>169.093</td>\n",
       "      <td>2</td>\n",
       "      <td>2019.0</td>\n",
       "    </tr>\n",
       "    <tr>\n",
       "      <th>4</th>\n",
       "      <td>Lewis Capaldi</td>\n",
       "      <td>pop</td>\n",
       "      <td>dance pop</td>\n",
       "      <td>0.650</td>\n",
       "      <td>0.833</td>\n",
       "      <td>1</td>\n",
       "      <td>-4.672</td>\n",
       "      <td>1</td>\n",
       "      <td>0.0359</td>\n",
       "      <td>0.0803</td>\n",
       "      <td>0.000000</td>\n",
       "      <td>0.0833</td>\n",
       "      <td>0.725</td>\n",
       "      <td>123.976</td>\n",
       "      <td>189.052</td>\n",
       "      <td>3</td>\n",
       "      <td>2019.0</td>\n",
       "    </tr>\n",
       "  </tbody>\n",
       "</table>\n",
       "</div>"
      ],
      "text/plain": [
       "       track_artist playlist_genre playlist_subgenre  danceability  energy  \\\n",
       "0        Ed Sheeran            pop         dance pop         0.748   0.916   \n",
       "1          Maroon 5            pop         dance pop         0.726   0.815   \n",
       "2      Zara Larsson            pop         dance pop         0.675   0.931   \n",
       "3  The Chainsmokers            pop         dance pop         0.718   0.930   \n",
       "4     Lewis Capaldi            pop         dance pop         0.650   0.833   \n",
       "\n",
       "   key  loudness  mode  speechiness  acousticness  instrumentalness  liveness  \\\n",
       "0    6    -2.634     1       0.0583        0.1020          0.000000    0.0653   \n",
       "1   11    -4.969     1       0.0373        0.0724          0.004210    0.3570   \n",
       "2    1    -3.432     0       0.0742        0.0794          0.000023    0.1100   \n",
       "3    7    -3.778     1       0.1020        0.0287          0.000009    0.2040   \n",
       "4    1    -4.672     1       0.0359        0.0803          0.000000    0.0833   \n",
       "\n",
       "   valence    tempo  duration_s  track_popularity_label  release_year  \n",
       "0    0.518  122.036     194.754                       3        2019.0  \n",
       "1    0.693   99.972     162.600                       3        2019.0  \n",
       "2    0.613  124.008     176.616                       3        2019.0  \n",
       "3    0.277  121.956     169.093                       2        2019.0  \n",
       "4    0.725  123.976     189.052                       3        2019.0  "
      ]
     },
     "execution_count": 524,
     "metadata": {},
     "output_type": "execute_result"
    }
   ],
   "source": [
    "df.head()"
   ]
  },
  {
   "cell_type": "code",
   "execution_count": 525,
   "metadata": {},
   "outputs": [
    {
     "name": "stdout",
     "output_type": "stream",
     "text": [
      "<class 'pandas.core.frame.DataFrame'>\n",
      "Index: 28466 entries, 0 to 32832\n",
      "Data columns (total 17 columns):\n",
      " #   Column                  Non-Null Count  Dtype  \n",
      "---  ------                  --------------  -----  \n",
      " 0   track_artist            28466 non-null  object \n",
      " 1   playlist_genre          28466 non-null  object \n",
      " 2   playlist_subgenre       28466 non-null  object \n",
      " 3   danceability            28466 non-null  float64\n",
      " 4   energy                  28466 non-null  float64\n",
      " 5   key                     28466 non-null  int64  \n",
      " 6   loudness                28466 non-null  float64\n",
      " 7   mode                    28466 non-null  int64  \n",
      " 8   speechiness             28466 non-null  float64\n",
      " 9   acousticness            28466 non-null  float64\n",
      " 10  instrumentalness        28466 non-null  float64\n",
      " 11  liveness                28466 non-null  float64\n",
      " 12  valence                 28466 non-null  float64\n",
      " 13  tempo                   28466 non-null  float64\n",
      " 14  duration_s              28466 non-null  float64\n",
      " 15  track_popularity_label  28466 non-null  int32  \n",
      " 16  release_year            28466 non-null  float64\n",
      "dtypes: float64(11), int32(1), int64(2), object(3)\n",
      "memory usage: 3.8+ MB\n"
     ]
    }
   ],
   "source": [
    "df.info()"
   ]
  },
  {
   "cell_type": "markdown",
   "metadata": {},
   "source": [
    "## Making the model"
   ]
  },
  {
   "cell_type": "markdown",
   "metadata": {},
   "source": [
    "### Dataset"
   ]
  },
  {
   "cell_type": "code",
   "execution_count": 612,
   "metadata": {},
   "outputs": [],
   "source": [
    "X, y = df.drop(['track_popularity_label', 'track_artist', 'playlist_genre', 'playlist_subgenre'],axis=1).to_numpy(), df['track_popularity_label'].to_numpy()"
   ]
  },
  {
   "cell_type": "code",
   "execution_count": 613,
   "metadata": {},
   "outputs": [
    {
     "name": "stdout",
     "output_type": "stream",
     "text": [
      "The shape of X is: (28466, 13)\n",
      "The shape of y is: (28466,)\n"
     ]
    }
   ],
   "source": [
    "print ('The shape of X is: ' + str(X.shape))\n",
    "print ('The shape of y is: ' + str(y.shape))"
   ]
  },
  {
   "cell_type": "code",
   "execution_count": 614,
   "metadata": {},
   "outputs": [],
   "source": [
    "# UNQ_C2\n",
    "# GRADED CELL: Sequential model\n",
    "tf.random.set_seed(1234) # for consistent results\n",
    "model = Sequential(\n",
    "    [\n",
    "        ### START CODE HERE ###\n",
    "\n",
    "        tf.keras.Input(shape=(13,)),    #specify input shape\n",
    "        Dense(15, activation=\"relu\", name=\"L1\"),\n",
    "        Dense(10, activation=\"relu\", name=\"L2\"),\n",
    "        Dense(5, activation=\"linear\", name=\"L3\"),\n",
    "        \n",
    "        ### END CODE HERE ###\n",
    "    ], name = \"my_model\"\n",
    ")\n",
    "model.compile(loss=tf.keras.losses.SparseCategoricalCrossentropy(from_logits=True))"
   ]
  },
  {
   "cell_type": "code",
   "execution_count": 615,
   "metadata": {},
   "outputs": [
    {
     "name": "stdout",
     "output_type": "stream",
     "text": [
      "Model: \"my_model\"\n",
      "_________________________________________________________________\n",
      " Layer (type)                Output Shape              Param #   \n",
      "=================================================================\n",
      " L1 (Dense)                  (None, 15)                210       \n",
      "                                                                 \n",
      " L2 (Dense)                  (None, 10)                160       \n",
      "                                                                 \n",
      " L3 (Dense)                  (None, 5)                 55        \n",
      "                                                                 \n",
      "=================================================================\n",
      "Total params: 425 (1.66 KB)\n",
      "Trainable params: 425 (1.66 KB)\n",
      "Non-trainable params: 0 (0.00 Byte)\n",
      "_________________________________________________________________\n"
     ]
    }
   ],
   "source": [
    "model.summary()"
   ]
  },
  {
   "cell_type": "code",
   "execution_count": 616,
   "metadata": {},
   "outputs": [],
   "source": [
    "[layer1, layer2, layer3] = model.layers"
   ]
  },
  {
   "cell_type": "code",
   "execution_count": 617,
   "metadata": {},
   "outputs": [
    {
     "name": "stdout",
     "output_type": "stream",
     "text": [
      "W1 shape = (13, 15), b1 shape = (15,)\n",
      "W2 shape = (15, 10), b2 shape = (10,)\n",
      "W3 shape = (10, 5), b3 shape = (5,)\n"
     ]
    }
   ],
   "source": [
    "#### Examine Weights shapes\n",
    "W1,b1 = layer1.get_weights()\n",
    "W2,b2 = layer2.get_weights()\n",
    "W3,b3 = layer3.get_weights()\n",
    "print(f\"W1 shape = {W1.shape}, b1 shape = {b1.shape}\")\n",
    "print(f\"W2 shape = {W2.shape}, b2 shape = {b2.shape}\")\n",
    "print(f\"W3 shape = {W3.shape}, b3 shape = {b3.shape}\")"
   ]
  },
  {
   "cell_type": "code",
   "execution_count": 618,
   "metadata": {},
   "outputs": [
    {
     "name": "stdout",
     "output_type": "stream",
     "text": [
      "Epoch 1/40\n",
      "890/890 [==============================] - 2s 1ms/step - loss: 17.9077\n",
      "Epoch 2/40\n",
      "890/890 [==============================] - 2s 2ms/step - loss: 1.6722\n",
      "Epoch 3/40\n",
      "890/890 [==============================] - 1s 1ms/step - loss: 1.6165\n",
      "Epoch 4/40\n",
      "890/890 [==============================] - 1s 1ms/step - loss: 1.6227\n",
      "Epoch 5/40\n",
      "890/890 [==============================] - 1s 1ms/step - loss: 1.5967\n",
      "Epoch 6/40\n",
      "890/890 [==============================] - 1s 1ms/step - loss: 1.6013\n",
      "Epoch 7/40\n",
      "890/890 [==============================] - 1s 1ms/step - loss: 1.6104\n",
      "Epoch 8/40\n",
      "890/890 [==============================] - 1s 1ms/step - loss: 1.6084\n",
      "Epoch 9/40\n",
      "890/890 [==============================] - 1s 1ms/step - loss: 1.5883\n",
      "Epoch 10/40\n",
      "890/890 [==============================] - 1s 2ms/step - loss: 1.5906\n",
      "Epoch 11/40\n",
      "890/890 [==============================] - 2s 2ms/step - loss: 1.5872\n",
      "Epoch 12/40\n",
      "890/890 [==============================] - 2s 2ms/step - loss: 1.5708\n",
      "Epoch 13/40\n",
      "890/890 [==============================] - 2s 2ms/step - loss: 1.5822\n",
      "Epoch 14/40\n",
      "890/890 [==============================] - 1s 2ms/step - loss: 1.5609\n",
      "Epoch 15/40\n",
      "890/890 [==============================] - 2s 2ms/step - loss: 1.5531\n",
      "Epoch 16/40\n",
      "890/890 [==============================] - 2s 2ms/step - loss: 1.5423\n",
      "Epoch 17/40\n",
      "890/890 [==============================] - 2s 2ms/step - loss: 1.5454\n",
      "Epoch 18/40\n",
      "890/890 [==============================] - 2s 2ms/step - loss: 1.5379\n",
      "Epoch 19/40\n",
      "890/890 [==============================] - 2s 3ms/step - loss: 1.5292\n",
      "Epoch 20/40\n",
      "890/890 [==============================] - 2s 2ms/step - loss: 1.5209\n",
      "Epoch 21/40\n",
      "890/890 [==============================] - 2s 2ms/step - loss: 1.5210\n",
      "Epoch 22/40\n",
      "890/890 [==============================] - 3s 4ms/step - loss: 1.5112\n",
      "Epoch 23/40\n",
      "890/890 [==============================] - 3s 3ms/step - loss: 1.5198\n",
      "Epoch 24/40\n",
      "890/890 [==============================] - 3s 3ms/step - loss: 1.5097\n",
      "Epoch 25/40\n",
      "890/890 [==============================] - 2s 2ms/step - loss: 1.5009\n",
      "Epoch 26/40\n",
      "890/890 [==============================] - 2s 2ms/step - loss: 1.4995\n",
      "Epoch 27/40\n",
      "890/890 [==============================] - 2s 2ms/step - loss: 1.4949\n",
      "Epoch 28/40\n",
      "890/890 [==============================] - 2s 2ms/step - loss: 1.4889\n",
      "Epoch 29/40\n",
      "890/890 [==============================] - 2s 2ms/step - loss: 1.4887\n",
      "Epoch 30/40\n",
      "890/890 [==============================] - 2s 2ms/step - loss: 1.4869\n",
      "Epoch 31/40\n",
      "890/890 [==============================] - 2s 2ms/step - loss: 1.4840\n",
      "Epoch 32/40\n",
      "890/890 [==============================] - 2s 2ms/step - loss: 1.4860\n",
      "Epoch 33/40\n",
      "890/890 [==============================] - 2s 2ms/step - loss: 1.4807\n",
      "Epoch 34/40\n",
      "890/890 [==============================] - 2s 2ms/step - loss: 1.4808\n",
      "Epoch 35/40\n",
      "890/890 [==============================] - 2s 2ms/step - loss: 1.4750\n",
      "Epoch 36/40\n",
      "890/890 [==============================] - 2s 2ms/step - loss: 1.4767\n",
      "Epoch 37/40\n",
      "890/890 [==============================] - 1s 2ms/step - loss: 1.4770\n",
      "Epoch 38/40\n",
      "890/890 [==============================] - 2s 2ms/step - loss: 1.4752\n",
      "Epoch 39/40\n",
      "890/890 [==============================] - 1s 2ms/step - loss: 1.4726\n",
      "Epoch 40/40\n",
      "890/890 [==============================] - 2s 2ms/step - loss: 1.4705\n"
     ]
    }
   ],
   "source": [
    "model.compile(\n",
    "    loss=tf.keras.losses.SparseCategoricalCrossentropy(from_logits=True),\n",
    "    optimizer=tf.keras.optimizers.Adam(learning_rate=0.001),\n",
    ")\n",
    "\n",
    "history = model.fit(\n",
    "    X,y,\n",
    "    epochs=40\n",
    ")"
   ]
  },
  {
   "cell_type": "code",
   "execution_count": 638,
   "metadata": {},
   "outputs": [
    {
     "data": {
      "text/plain": [
       "track_artist                    Kygo\n",
       "playlist_genre                   pop\n",
       "playlist_subgenre          dance pop\n",
       "danceability                   0.693\n",
       "energy                         0.678\n",
       "key                                8\n",
       "loudness                      -7.159\n",
       "mode                               1\n",
       "speechiness                   0.0324\n",
       "acousticness                  0.0154\n",
       "instrumentalness            0.000006\n",
       "liveness                       0.101\n",
       "valence                        0.404\n",
       "tempo                     103.952003\n",
       "duration_s                228.266998\n",
       "track_popularity_label             4\n",
       "release_year                    2019\n",
       "Name: 41, dtype: object"
      ]
     },
     "execution_count": 638,
     "metadata": {},
     "output_type": "execute_result"
    }
   ],
   "source": [
    "df.head()\n",
    "#give df value at row 23\n",
    "df.iloc[2]\n",
    "#give me the row with the highest track_popularity_label         \n",
    "df.loc[df['track_popularity_label'].idxmax()]"
   ]
  },
  {
   "cell_type": "code",
   "execution_count": 645,
   "metadata": {},
   "outputs": [
    {
     "name": "stdout",
     "output_type": "stream",
     "text": [
      "(13,)\n",
      "1/1 [==============================] - 0s 42ms/step\n",
      " predicting a Two: \n",
      "[[2.6558795  3.093584   3.4383073  2.941347   0.96539915]]\n",
      " Largest Prediction index: 2\n"
     ]
    }
   ],
   "source": [
    "Ed_IHE_Remix = X[41]\n",
    "print(Ed_IHE_Remix.shape)\n",
    "prediction = model.predict(Ed_IHE_Remix.reshape(1,13))\n",
    "print(f\" predicting a Two: \\n{prediction}\")\n",
    "print(f\" Largest Prediction index: {np.argmax(prediction)}\")"
   ]
  },
  {
   "cell_type": "code",
   "execution_count": 646,
   "metadata": {},
   "outputs": [
    {
     "name": "stdout",
     "output_type": "stream",
     "text": [
      " predicting a Two. Probability vector: \n",
      "[[0.15998116 0.24783435 0.34984276 0.21283633 0.02950547]]\n",
      "np.argmax(prediction_p): 2\n"
     ]
    }
   ],
   "source": [
    "prediction_p = tf.nn.softmax(prediction)\n",
    "\n",
    "print(f\" predicting a Two. Probability vector: \\n{prediction_p}\")\n",
    "yhat = np.argmax(prediction_p)\n",
    "\n",
    "print(f\"np.argmax(prediction_p): {yhat}\")"
   ]
  }
 ],
 "metadata": {
  "kernelspec": {
   "display_name": "Python 3",
   "language": "python",
   "name": "python3"
  },
  "language_info": {
   "codemirror_mode": {
    "name": "ipython",
    "version": 3
   },
   "file_extension": ".py",
   "mimetype": "text/x-python",
   "name": "python",
   "nbconvert_exporter": "python",
   "pygments_lexer": "ipython3",
   "version": "3.11.5"
  }
 },
 "nbformat": 4,
 "nbformat_minor": 2
}
